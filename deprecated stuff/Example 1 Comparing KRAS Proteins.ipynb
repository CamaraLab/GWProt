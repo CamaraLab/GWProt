{
 "cells": [
  {
   "cell_type": "markdown",
   "id": "51856e6c-9134-4e31-a1f5-8c0cf9cdcf5c",
   "metadata": {},
   "source": [
    "Example 1: Comparing KRAS Proteins\n",
    "===================================\n"
   ]
  },
  {
   "cell_type": "code",
   "execution_count": 1,
   "id": "5df09ea6-4fad-4802-88e4-534d4173fd33",
   "metadata": {},
   "outputs": [],
   "source": [
    "import os\n",
    "os.environ['OPENBLAS_NUM_THREADS'] = '1' \n",
    "import numpy as np\n",
    "\n",
    "#from GW_prot import *\n"
   ]
  },
  {
   "cell_type": "code",
   "execution_count": 2,
   "id": "577de2b3-f2cb-406f-b9e0-668d7c10558e",
   "metadata": {},
   "outputs": [],
   "source": [
    "import sys\n",
    "sys.path.insert(0,'../src')\n",
    "from FGW_protein import *"
   ]
  },
  {
   "cell_type": "markdown",
   "id": "ecb20a8a-74c2-460f-9bcb-3cbc2d8a7706",
   "metadata": {},
   "source": [
    "Many of the PDB files in this dataset contain multple chains; we need to specify which chain is KRAS protein.\n",
    "\n",
    "(This dataset has been curated as follows.....XXXXXX)"
   ]
  },
  {
   "cell_type": "code",
   "execution_count": 3,
   "id": "90428d13-4cd6-42e0-a3d3-e43d821be11d",
   "metadata": {},
   "outputs": [],
   "source": [
    "file_list = ['4dsn.pdb', '4dso.pdb', '4dst.pdb', '4epr.pdb', '4ept.pdb', '4epv.pdb', '4epw.pdb', '4epx.pdb','4epy.pdb', '4ldj.pdb',\n",
    " '4lpk.pdb', '4obe.pdb', '4obe.pdb', '4pzy.pdb', '4pzy.pdb', '4ql3.pdb', '4tq9.pdb', '4tq9.pdb', '4tqa.pdb', '4tqa.pdb', '5mla.pdb',\n",
    " '5mlb.pdb', '5mlb.pdb', '5mlb.pdb', '5mlb.pdb', '5o2s.pdb', '5o2s.pdb', '5o2s.pdb', '5o2s.pdb', '5o2t.pdb', '5ocg.pdb', '5tar.pdb',\n",
    " '5ufe.pdb']\n",
    "chain_list = ['A', 'A', 'A', 'A', 'A', 'A', 'A', 'A', 'A', 'A', 'B', 'A', 'B', 'A', 'B', 'A', \n",
    "              'A', 'B', 'A', 'B', 'A', 'A', 'C', 'E', 'G', 'A', 'C', 'E', 'G', 'A', 'A', 'A', 'A']"
   ]
  },
  {
   "cell_type": "markdown",
   "id": "eaece7d9-9500-4f70-aae3-2ef2ec47e65f",
   "metadata": {},
   "source": [
    "We start by creating FGW_protein objects for each KRAS protein."
   ]
  },
  {
   "cell_type": "code",
   "execution_count": 4,
   "id": "46330693-ceae-49e5-89a9-a446ba563a64",
   "metadata": {},
   "outputs": [],
   "source": [
    "protein_list = [FGW_protein.make_protein_from_pdb(\n",
    "    pdb_file = os.path.join(\"Examples Data/Example 1 - KRAS/\" , file_list[i]), \n",
    "    chain_id = chain_list[i])\n",
    "    for i in range(33)] "
   ]
  },
  {
   "cell_type": "markdown",
   "id": "487000e3-e28d-430c-80c7-dd5fbc1bda4c",
   "metadata": {},
   "source": [
    "We then initialize a `Stress_Comparison` object to compare these proteins using GW and their stresses.\n",
    "In this example we store the transport plans in RAM for simplicity. This will use roughly 130 MB. "
   ]
  },
  {
   "cell_type": "code",
   "execution_count": 5,
   "id": "66d4f543-36a8-40fb-a728-7266428960aa",
   "metadata": {},
   "outputs": [],
   "source": [
    "import stress_comparison\n",
    "A = stress_comparison.Stress_Comparison(prot_list = protein_list, RAM =  True)"
   ]
  },
  {
   "cell_type": "markdown",
   "id": "fd8b699c-923d-42fb-b4a1-b9b489d9326c",
   "metadata": {},
   "source": [
    "We then run GW all-vs-all. On our computer with 16 parallel processes this take 5 seconds. With a single process it takes around 30 seconds. If we set `RAM = False` the computation time takes about twice as long as we need to write the data to files."
   ]
  },
  {
   "cell_type": "code",
   "execution_count": 6,
   "id": "fec80d8e-7031-4866-9a4e-5f4d6171c01e",
   "metadata": {},
   "outputs": [],
   "source": [
    "A.GW_compute_stresses(processes = 16)"
   ]
  },
  {
   "cell_type": "markdown",
   "id": "5e4a83ee-6686-47cc-88c1-ddfa867e105f",
   "metadata": {},
   "source": [
    "We can study how the conformation of KRAS changes depending on the ligand it is bound to. These PDB files contain KRAS bound to guanosine diphosphate (GDP) and those bound to guanosine triphosphate-analogues (GNP, GCP, GSP)."
   ]
  },
  {
   "cell_type": "code",
   "execution_count": 7,
   "id": "97fa0d43-3be9-40e4-806e-2a4847ea30f1",
   "metadata": {},
   "outputs": [],
   "source": [
    "ligand_list = ['GCP', 'GSP', 'GCP', 'GDP', 'GDP', 'GDP', 'GDP', 'GDP', 'GDP', 'GDP', 'GDP',  'GDP',\n",
    " 'GDP', 'GDP', 'GDP', 'GDP', 'GDP', 'GDP', 'GDP', 'GDP', 'GSP', 'GDP', 'GDP',\n",
    " 'GDP', 'GDP', 'GDP', 'GDP', 'GDP', 'GDP', 'GSP', 'GNP', 'GDP', 'GNP']"
   ]
  },
  {
   "cell_type": "markdown",
   "id": "75a0e1f2-b82a-4b79-b3af-87fdef92e01e",
   "metadata": {},
   "source": [
    "For this visual analysis, we will create a UMAP plot, with different colors corresponding to different ligands. "
   ]
  },
  {
   "cell_type": "code",
   "execution_count": 12,
   "id": "797aa20c-33fd-4be8-8ab9-55f374904200",
   "metadata": {},
   "outputs": [
    {
     "data": {
      "image/png": "[encoded data removed]",
      "text/plain": [
       "<Figure size 800x800 with 1 Axes>"
      ]
     },
     "metadata": {},
     "output_type": "display_data"
    }
   ],
   "source": [
    "from umap.umap_ import UMAP\n",
    "import matplotlib.pyplot as plt\n",
    "\n",
    "\n",
    "\n",
    "distance_matrix = A.get_GW_dmat()\n",
    "\n",
    "reducer = UMAP(metric = 'precomputed', random_state=1)\n",
    "\n",
    "embedding = reducer.fit_transform(distance_matrix)\n",
    "    \n",
    "        \n",
    "plt.figure(figsize=(8, 8))\n",
    "plt.scatter(embedding[:, 0], embedding[:, 1], c= ['red' if l == 'GDP' else 'blue' for l in ligand_list], s=5)\n",
    "for i in range(33): \n",
    "    plt.annotate(str(i), (embedding[i, 0], embedding[i, 1] + 0.05)) \n",
    "  \n",
    "plt.show()\n",
    "\n",
    "#THIS LOOKS REALLY BAD!!! \n",
    "#probably because of ends cut \n",
    "# if we instead use the ends cut version it looks nicer"
   ]
  },
  {
   "cell_type": "markdown",
   "id": "5fb0c006-8a7c-4363-8c87-a9f998bf5a4e",
   "metadata": {},
   "source": [
    "Next we use pymol to visualize the proteins and the stress levels of different residues in the proteins. \n",
    "`A.raw_stress_levels` contains the stresses of all the pairwise calculations, so we first average them for each protein."
   ]
  },
  {
   "cell_type": "code",
   "execution_count": 9,
   "id": "e42b0228-015f-410e-bd3c-a2d6eb112b97",
   "metadata": {},
   "outputs": [],
   "source": [
    "avg_stresses_dict =  stress_comparison.normalize_stress_dict( A.raw_stress_dict)\n",
    "avg_stresses_list = [avg_stresses_dict[name] for name in A.name_list]\n",
    "\n",
    "pymol_protein_viewer.show_proteins_with_values(\n",
    "    infiles = [\"Examples Data/Example 1 - KRAS/\" + file for file in file_list],\n",
    "    chain_ids = chain_list,\n",
    "    data_lists = avg_stresses_list,\n",
    "    output_file = \"Examples Data/Example 1 Outputs/KRAS stresses.pse\")"
   ]
  },
  {
   "cell_type": "markdown",
   "id": "0d3b179c-bae3-4ac3-963c-e59ab6336380",
   "metadata": {},
   "source": [
    "![Screenshot](Examples Data/Example 1 Outputs/KRAS stresses screenshot.pdf) "
   ]
  },
  {
   "cell_type": "markdown",
   "id": "582d4f19-6748-4fe6-927c-29428b9615cb",
   "metadata": {},
   "source": [
    "The pymol file we generate can then be opened in a pymol GUI window.\n",
    "![Screenshot](Examples Data/Example 1 Outputs/KRAS stresses screenshot.pdf) \n",
    "\n",
    "For clarity we can also view a single protein at a time.\n",
    "\n"
   ]
  },
  {
   "cell_type": "markdown",
   "id": "5c3a2788-cbb0-4351-826b-5c16988155a7",
   "metadata": {},
   "source": [
    "Next we will test how well the stress levels can be used to predict the switch I and switch II regions. These regions do not have well-defined endpoints but we will choose to use residues 30-40 and 60-72 in the canonical indexing respectively. \n",
    "\n"
   ]
  },
  {
   "cell_type": "code",
   "execution_count": null,
   "id": "e739a255-a67d-4c81-800d-4d8c9eb51532",
   "metadata": {},
   "outputs": [],
   "source": [
    "# needs to be adjusted\n",
    "switch_regions = [i in range(30,40) or i in range(60,72) for i in range(140)]\n",
    "#get AP_scores"
   ]
  },
  {
   "cell_type": "code",
   "execution_count": null,
   "id": "50f078f3-b6dd-4d8d-b4b8-95910a4ed20d",
   "metadata": {},
   "outputs": [],
   "source": []
  }
 ],
 "metadata": {
  "kernelspec": {
   "display_name": "Python 3 (ipykernel)",
   "language": "python",
   "name": "python3"
  },
  "language_info": {
   "codemirror_mode": {
    "name": "ipython",
    "version": 3
   },
   "file_extension": ".py",
   "mimetype": "text/x-python",
   "name": "python",
   "nbconvert_exporter": "python",
   "pygments_lexer": "ipython3",
   "version": "3.10.12"
  }
 },
 "nbformat": 4,
 "nbformat_minor": 5
}
