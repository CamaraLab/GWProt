{
 "cells": [
  {
   "cell_type": "code",
   "execution_count": 21,
   "id": "5eb635bf-61c7-4262-a9a0-0c464d2f5e63",
   "metadata": {},
   "outputs": [],
   "source": [
    "import subprocess\n",
    "\n",
    "def run_ssearch_cigar_Ram(fasta1, #string\n",
    "                      fasta2, #string\n",
    "                        ssearch_loc = '/home/elijah/v36.3.8/bin/ssearch36', #filepath for command\n",
    "                      allow_mismatch = True):\n",
    "    #command2 = f'''''/bin/bash -c \"/home/elijah/v36.3.8/bin/ssearch36 -s BP62 -p -T 1 -b 1 -f 0 -g 0 -z -1 -m 9C <(echo '{ fasta1 }') <(echo '{fasta2}')\" '''\n",
    "    command2 = f'''''/bin/bash -c \"{ssearch_loc} -s BP62 -p -T 1 -b 1 -f 0 -g 0 -z -1 -m 9C <(echo '{ fasta1 }') <(echo '{fasta2}')\" '''\n",
    "    \n",
    "    result = subprocess.run(command2, shell=True,stdout = subprocess.PIPE, text=True)\n",
    "    \n",
    "    cigar_result = result.stdout\n",
    "\n",
    "    return cigar_result\n",
    "    "
   ]
  },
  {
   "cell_type": "code",
   "execution_count": 22,
   "id": "980fe447-93fb-4c66-a3e4-6a0666803316",
   "metadata": {},
   "outputs": [],
   "source": [
    "fasta1 = '>PDB_../../Data/HCOP95/A0A075B5V1_10090.pdb\\nEVQLQQSGPELVKPGASVKISCKASGYSFTGYYMHWVKQSHGNILDWIGYIYPYNGVSSYNQKFKGKATLTVDKSSSTAYMELRSLTSEDSAVYYCAR'\n",
    "fasta2 = '>PDB_../../Data/HCOP95/A0A075B5T5_10090.pdb\\nEVQLQQSGTVLARPGASVKMSCKTSGYTFTSYWMHWVKQRPGQGLEWIGAIYPGNSDTSYNQKFKGKAKLTAVTSASTAYMELSSLTNEDSAVYYCTR'"
   ]
  },
  {
   "cell_type": "code",
   "execution_count": 23,
   "id": "2f1a2f8a-d6e9-4c3a-9b97-22cd923f162b",
   "metadata": {},
   "outputs": [
    {
     "data": {
      "text/plain": [
       "'# /home/elijah/v36.3.8/bin/ssearch36 -s BP62 -p -T 1 -b 1 -f 0 -g 0 -z -1 -m 9C /dev/fd/63 /dev/fd/62\\nSSEARCH performs a Smith-Waterman search\\n version 36.3.8i May, 2023\\nPlease cite:\\n T. F. Smith and M. S. Waterman, (1981) J. Mol. Biol. 147:195-197; \\n W.R. Pearson (1991) Genomics 11:635-650\\n\\nQuery: /dev/fd/63\\n  1>>>PDB_../../Data/HCOP95/A0A075B5V1_10090.pdb - 98 aa\\nLibrary: /dev/fd/62\\n       98 residues in     1 sequences\\n\\nAlgorithm: Smith-Waterman (SSE2, Michael Farrar 2006) (7.2 Nov 2010/SIMDe Nov 2020)\\nParameters: BL62 matrix (11:-4), open/ext: 0/0\\n\\nThe best scores are:                                                s-w\\t%_id  %_sim   sw  alen  an0  ax0  pn0  px0  an1  ax1 pn1 px1 gapq gapl  fs  aln_code\\n                                                             (  98)  400\\t0.629 0.690  400  116    1   98    1   98    1   98    1   98  18  18   0\\t8M3D1I1M2I11M1D1I6M1I1D8M4I2D1M2D5M1I1D3M1I1D1M2D1M2I10M1I1D2M1I1M2D2M1I7M1D1M1I11M1I1D1M\\n\\n>>>PDB_../../Data/HCOP95/A0A075B5V1_10090.pdb, 98 aa vs /dev/fd/62 library\\n\\n>>>/dev/fd/62                                                                                     (98 aa)\\n s-w opt: 400\\nSmith-Waterman score: 400; 62.9% identity (69.0% similar) in 116 aa overlap (1-98:1-98)\\n\\n               10           20         30             40         50           60         70          80    \\nPDB_.. EVQLQQSGPEL-V--KPGASVKISCKA-SGYSFT-GYYMHWVKQ----SHGNILDWIG-YIYP-YNGVS--SYNQKFKGKA-TLT-VDKSS-STAYMELR\\n       ::::::::    :  .::::::.:::  :::.::  :.::::::      :  :.:::  :::  :  :  ::::::::::  :: :  .: ::::::: \\n>/dev/ EVQLQQSG---TVLARPGASVKMSCK-TSGYTFTS-YWMHWVKQRPGQ--G--LEWIGA-IYPG-N--SDTSYNQKFKGKAK-LTAV--TSASTAYMEL-\\n                  10        20         30         40            50            60         70          80    \\n\\n            90         \\nPDB_.. S-LTSEDSAVYYC-AR\\n       : ::.::::::::  :\\n>/dev/ SSLTNEDSAVYYCT-R\\n            90         \\n\\n\\n>>><<<\\n>>>///\\n\\n98 residues in 1 query   sequences\\n98 residues in 1 library sequences\\n Tcomplib [36.3.8i May, 2023] (1 proc in memory [0G])\\n start: Mon Apr  1 16:00:34 2024 done: Mon Apr  1 16:00:34 2024\\n Total Scan time:  0.000 Total Display time:  0.000\\n\\nFunction used was SSEARCH [36.3.8i May, 2023]\\n'"
      ]
     },
     "execution_count": 23,
     "metadata": {},
     "output_type": "execute_result"
    }
   ],
   "source": [
    "run_ssearch_cigar_Ram(fasta1, fasta2)"
   ]
  },
  {
   "cell_type": "code",
   "execution_count": 24,
   "id": "97e47966-1504-4afe-b662-47b9778d652d",
   "metadata": {},
   "outputs": [
    {
     "name": "stdout",
     "output_type": "stream",
     "text": [
      "A0A075B5T5_10090.fasta\n",
      "A0A075B5U0_10090.fasta\n",
      "A0A075B5V1_10090.fasta\n",
      "A0A075B5V6_10090.fasta\n",
      "A0A075B5V7_10090.fasta\n",
      "A0A075B5V8_10090.fasta\n",
      "A0A075B5W7_10090.fasta\n",
      "A0A075B5X6_10090.fasta\n",
      "A0A075B674_10090.fasta\n",
      "A0A075B680_10090.fasta\n",
      "ls: write error: Broken pipe\n"
     ]
    }
   ],
   "source": [
    "!ls ../PGC020.a10/HCOP_fastas/ | head"
   ]
  },
  {
   "cell_type": "code",
   "execution_count": 25,
   "id": "32f0c17f-f2f8-4f18-8895-b235dac32573",
   "metadata": {},
   "outputs": [
    {
     "name": "stdout",
     "output_type": "stream",
     "text": [
      ">PDB_../../Data/HCOP95/A0A075B5T5_10090.pdb\n",
      "EVQLQQSGTVLARPGASVKMSCKTSGYTFTSYWMHWVKQRPGQGLEWIGAIYPGNSDTSYNQKFKGKAKLTAVTSASTAYMELSSLTNEDSAVYYCTR\n"
     ]
    }
   ],
   "source": [
    "! cat ../PGC020.a10/HCOP_fastas/A0A075B5T5_10090.fasta"
   ]
  },
  {
   "cell_type": "code",
   "execution_count": null,
   "id": "98d155e7-84a6-4b2f-920c-ab79d840a4ab",
   "metadata": {},
   "outputs": [],
   "source": []
  },
  {
   "cell_type": "code",
   "execution_count": 26,
   "id": "27b5e348-408f-446e-aacd-214fb10e060a",
   "metadata": {},
   "outputs": [],
   "source": [
    "! mv '../PGC020.a10/FGW_protein Tester-Copy1.ipynb' '../PGC020.a12/FGW_protein Tester.ipynb'"
   ]
  },
  {
   "cell_type": "code",
   "execution_count": null,
   "id": "5ed45d75-dcf2-4617-ac08-28025d527a9f",
   "metadata": {},
   "outputs": [],
   "source": []
  }
 ],
 "metadata": {
  "kernelspec": {
   "display_name": "Python 3 (ipykernel)",
   "language": "python",
   "name": "python3"
  },
  "language_info": {
   "codemirror_mode": {
    "name": "ipython",
    "version": 3
   },
   "file_extension": ".py",
   "mimetype": "text/x-python",
   "name": "python",
   "nbconvert_exporter": "python",
   "pygments_lexer": "ipython3",
   "version": "3.10.12"
  }
 },
 "nbformat": 4,
 "nbformat_minor": 5
}
