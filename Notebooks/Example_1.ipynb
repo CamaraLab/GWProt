{
 "cells": [
  {
   "cell_type": "code",
   "execution_count": 1,
   "id": "deae38de-90e5-43ba-aa63-b896f193d106",
   "metadata": {},
   "outputs": [],
   "source": [
    "import ot\n"
   ]
  },
  {
   "cell_type": "code",
   "execution_count": 2,
   "id": "4848908e-173a-41fa-8530-247d058430d7",
   "metadata": {},
   "outputs": [
    {
     "name": "stdout",
     "output_type": "stream",
     "text": [
      "hello world\n"
     ]
    }
   ],
   "source": [
    "print('hello world')"
   ]
  },
  {
   "cell_type": "code",
   "execution_count": null,
   "id": "e14a2235-a38e-4baa-9d99-4785ce6bf070",
   "metadata": {},
   "outputs": [],
   "source": []
  }
 ],
 "metadata": {
  "kernelspec": {
   "display_name": "Python 3 (ipykernel)",
   "language": "python",
   "name": "python3"
  },
  "language_info": {
   "codemirror_mode": {
    "name": "ipython",
    "version": 3
   },
   "file_extension": ".py",
   "mimetype": "text/x-python",
   "name": "python",
   "nbconvert_exporter": "python",
   "pygments_lexer": "ipython3",
   "version": "3.11.6"
  }
 },
 "nbformat": 4,
 "nbformat_minor": 5
}
