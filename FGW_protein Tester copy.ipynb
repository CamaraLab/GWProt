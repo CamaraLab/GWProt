{
 "cells": [
  {
   "cell_type": "code",
   "execution_count": 1,
   "id": "4e2f6a10-7414-489e-bedc-99f7c8404a39",
   "metadata": {},
   "outputs": [],
   "source": [
    "\"\"\"\n",
    "This is a bunch of stuff to test the FGW_protein.py code\n",
    "\"\"\"\n",
    "\n",
    "import os\n",
    "os.environ['OPENBLAS_NUM_THREADS'] = '1' #should be first, before ot\n",
    "\n",
    "import time\n",
    "import re\n",
    "import math\n",
    "import numpy as np\n",
    "import random\n",
    "import ot\n",
    "import statistics\n",
    "import numpy.typing as npt\n",
    "import itertools as it\n",
    "from scipy.spatial.distance import *\n",
    "from deprecated import deprecated\n",
    "\n",
    "import Bio.PDB\n",
    "from Bio import PDB, SeqIO\n",
    "\n",
    "\n",
    "\n",
    "import IdInit\n",
    "import GW_scripts\n",
    "import read_pdb\n",
    "import run_fasta36\n",
    "\n",
    "from cajal import run_gw, qgw, gw_cython\n",
    "\n",
    "import importlib"
   ]
  },
  {
   "cell_type": "code",
   "execution_count": 2,
   "id": "8058ff85-1fd6-4ce2-b4db-188e84052e1f",
   "metadata": {},
   "outputs": [],
   "source": [
    "from FGW_protein import *"
   ]
  },
  {
   "cell_type": "code",
   "execution_count": 50,
   "id": "44ac1ba1-c566-48c6-96e6-d9f704286db4",
   "metadata": {},
   "outputs": [],
   "source": [
    "\n",
    "sqrter = lambda x : math.sqrt(x)\n",
    "\n",
    "test_indices = random.sample(range(0, 5127), 100)"
   ]
  },
  {
   "cell_type": "code",
   "execution_count": 4,
   "id": "cafdccd5-bc5c-4633-9834-9e1fc6397a71",
   "metadata": {},
   "outputs": [
    {
     "data": {
      "text/plain": [
       "'\\ntests to run\\n\\nAgreement with old GW stuff:\\n1-ensure that creating a FGWp gets the same coords as read_pdb\\n2-ensure that creating a FGWp then downsample_n(left = True) gets the same coords as read_pdb(n=n)\\n3-ensure that creating a FGWp then downsample_n(mean_coord = True) gets the same coords as read_pdb pI(n=n)\\n4-find pdbs where the above and convolution should agree exact on the coords and pI_lists, run this\\n5-check that current version agrees with the version used in the FGW w/seq code\\n\\n\\n\\nInternal workings\\n-ensure that everything made with the make from pdb/fasta works and passes the validator\\n-create FGWps and test them in the validator\\n-apply some of the manipulators and test in the validator\\n-intentionally mess some up and check that the validator rejects them\\n-find cases where downsample_n and by downsample_by_indices should agree on the nose and test that\\n-check that _downsample_n_agreement_test is the same as downsample_n(left_sample = True)\\n-test that the pI_list gotten from the maker methods agrees with convolve_fasta with the trivial kernel\\n-check that things work with crazy kernels\\n-test that FGW(a=1) agrees with converting to a GW_cell then running CAJAL GW (within eps ~1e-10)\\n-test that convolving with a kernel that destroys all pI info then FGW agrees with GW\\n-check that convolve_pIs()  (not fasta) is completely unneeded\\n-test everything using both the median method and the iterative method\\n'"
      ]
     },
     "execution_count": 4,
     "metadata": {},
     "output_type": "execute_result"
    }
   ],
   "source": [
    "\"\"\"\n",
    "tests to run\n",
    "\n",
    "Agreement with old GW stuff:\n",
    "1-ensure that creating a FGWp gets the same coords as read_pdb\n",
    "2-ensure that creating a FGWp then downsample_n(left = True) gets the same coords as read_pdb(n=n)\n",
    "3-ensure that creating a FGWp then downsample_n(mean_coord = True) gets the same coords as read_pdb pI(n=n)\n",
    "4-find pdbs where the above and convolution should agree exact on the coords and pI_lists, run this\n",
    "5-check that current version agrees with the version used in the FGW w/seq code\n",
    "\n",
    "\n",
    "\n",
    "Internal workings\n",
    "-ensure that everything made with the make from pdb/fasta works and passes the validator\n",
    "-create FGWps and test them in the validator\n",
    "-apply some of the manipulators and test in the validator\n",
    "-intentionally mess some up and check that the validator rejects them\n",
    "-find cases where downsample_n and by downsample_by_indices should agree on the nose and test that\n",
    "-check that _downsample_n_agreement_test is the same as downsample_n(left_sample = True)\n",
    "-test that the pI_list gotten from the maker methods agrees with convolve_fasta with the trivial kernel\n",
    "-check that things work with crazy kernels\n",
    "-test that FGW(a=1) agrees with converting to a GW_cell then running CAJAL GW (within eps ~1e-10)\n",
    "-test that convolving with a kernel that destroys all pI info then FGW agrees with GW\n",
    "-check that convolve_pIs()  (not fasta) is completely unneeded\n",
    "-test everything using both the median method and the iterative method\n",
    "\"\"\""
   ]
  },
  {
   "cell_type": "code",
   "execution_count": 5,
   "id": "ed93dbca-4320-458e-aa4b-93413d1d5031",
   "metadata": {},
   "outputs": [],
   "source": [
    "palmstrub_dir = '../../../Data/palmstrub/'\n",
    "palmstrub_list = os.listdir(palmstrub_dir)\n",
    "HCOP_dir = '../../../Data/HCOP95/'\n",
    "\n",
    "file = palmstrub_dir+ os.listdir(palmstrub_dir)[3341]\n",
    "file1 = file\n",
    "file2 = palmstrub_dir+ os.listdir(palmstrub_dir)[3496]\n",
    "fasta = '../../PGC020.a10/Palmstrub_fastas/' + os.listdir('../../PGC020.a10/Palmstrub_fastas')[3341]\n",
    "n = 12\n"
   ]
  },
  {
   "cell_type": "code",
   "execution_count": null,
   "id": "7d9b35bd-39b7-4c78-a532-cdde2afd6bdd",
   "metadata": {},
   "outputs": [],
   "source": []
  },
  {
   "cell_type": "code",
   "execution_count": 6,
   "id": "aea11c0f-ee74-43b4-8334-fc64c83b1c1a",
   "metadata": {},
   "outputs": [],
   "source": [
    "#1  ensure that creating a FGWp gets the same coords as read_pdb\n",
    "read_pdb_coords = read_pdb.get_pdb_coords(file)\n",
    "FGWp_coords = FGW_protein.make_protein_from_pdb(file).coords\n",
    "assert (read_pdb_coords == FGWp_coords).all()"
   ]
  },
  {
   "cell_type": "code",
   "execution_count": 7,
   "id": "e42f7fd0-0421-45ea-b46c-d5b210eaf550",
   "metadata": {},
   "outputs": [],
   "source": [
    "#2-ensure that creating a FGWp then downsample_n(left = True) gets the same coords as read_pdb(n=n)\n",
    "\n",
    "read_pdb_coords = read_pdb.get_pdb_coords(file, n= n)\n",
    "FGWp = FGW_protein.make_protein_from_pdb(file)\n",
    "FGWp_n = FGWp.downsample_n(left_sample = True, n = n)\n",
    "assert (read_pdb_coords == FGWp_n.coords).all()"
   ]
  },
  {
   "cell_type": "code",
   "execution_count": null,
   "id": "229b33f8-dd1b-43a9-8a01-d026086d149f",
   "metadata": {},
   "outputs": [],
   "source": []
  },
  {
   "cell_type": "code",
   "execution_count": 8,
   "id": "21d7186f-cb12-439e-9b18-1c7949dac531",
   "metadata": {},
   "outputs": [],
   "source": [
    "# 3-ensure that creating a FGWp then downsample_n(mean_coord = True) gets the same coords as read_pdb pI(n=n)\n",
    "read_pdb_coords, read_pdb_pI = read_pdb.get_pdb_coords_pI(file, n=n)\n",
    "FGWp = FGW_protein.make_protein_from_pdb(file)\n",
    "FGWp_n = FGWp.downsample_n(mean_sample = True, n = n, pI_combination = True)\n",
    "assert (read_pdb_coords == FGWp_n.coords).all()\n",
    "assert read_pdb_pI == FGWp_n.pI_list"
   ]
  },
  {
   "cell_type": "code",
   "execution_count": null,
   "id": "ea1b876f-7e9a-4b91-824b-7843d637a28a",
   "metadata": {},
   "outputs": [],
   "source": []
  },
  {
   "cell_type": "code",
   "execution_count": 9,
   "id": "54187fa6-80e7-42c4-8f24-840d478c0935",
   "metadata": {},
   "outputs": [
    {
     "name": "stdout",
     "output_type": "stream",
     "text": [
      "bad length 536\n"
     ]
    }
   ],
   "source": [
    "# 4-find pdbs where the above and convolution should agree exact on the coords and pI_lists, run this\n",
    "m=3  #must be odd\n",
    "\n",
    "FGWp = FGW_protein.make_protein_from_pdb(file)\n",
    "if len(FGWp.pI_list) %m == 0:\n",
    "    #now we now the length is divisible by m\n",
    "    N = len(FGWp.pI_list) //m\n",
    "    \n",
    "    conv_pI_list = FGWp.convolve_pIs_fasta(kernel_list = [1]*m, origin = m//2)\n",
    "    reduced_conv_pI_list = [conv_pI_list[i] for i in range(len(conv_pI_list)) if (i- m//2 )%m == 0]\n",
    "    \n",
    "    FGWp_m = FGWp.downsample_n(n = N, mean_sample = True)\n",
    "    \n",
    "    read_pdb_coords, read_pdb_pI = read_pdb.get_pdb_coords_pI(file, n=N)\n",
    "    \n",
    "    assert reduced_conv_pI_list == FGWp_m.pI_list\n",
    "    assert reduced_conv_pI_list == read_pdb_pI\n",
    "else:\n",
    "    print('bad length', len(FGWp.pI_list))\n"
   ]
  },
  {
   "cell_type": "code",
   "execution_count": null,
   "id": "f5e6fd74-fa1a-4937-905c-55046dd42e84",
   "metadata": {},
   "outputs": [],
   "source": []
  },
  {
   "cell_type": "code",
   "execution_count": null,
   "id": "7652b082-fe2b-4da0-8cb6-13dd60dac124",
   "metadata": {},
   "outputs": [],
   "source": []
  },
  {
   "cell_type": "code",
   "execution_count": 10,
   "id": "ad1d0ee9-7c93-46ca-bb8a-5b22500036b7",
   "metadata": {},
   "outputs": [],
   "source": [
    "#5 -check that current version agrees with the version used in the FGW w/seq code\n",
    "#TODO\n",
    "\n"
   ]
  },
  {
   "cell_type": "code",
   "execution_count": 11,
   "id": "64988bc1-425f-4c8c-9283-11463f87f229",
   "metadata": {},
   "outputs": [
    {
     "name": "stdout",
     "output_type": "stream",
     "text": [
      "test1\n",
      "test2\n",
      "test3\n",
      "pI_list is wrong, could be caused by convolution\n",
      "test4\n",
      "test5\n"
     ]
    },
    {
     "data": {
      "text/plain": [
       "'\\nself.pI_list[1:-1] != [read_pdb.writeProtIepMedian(r) for r in fasta_seq[1:-1]]\\n'"
      ]
     },
     "execution_count": 11,
     "metadata": {},
     "output_type": "execute_result"
    }
   ],
   "source": [
    "#6 -ensure that everything made with the make from pdb/fasta works and passes the validator\n",
    "import copy\n",
    "\n",
    "FGWp = FGW_protein.make_protein_from_pdb(file)\n",
    "print('test1')\n",
    "FGWp.validate()\n",
    "\n",
    "#check equality method\n",
    "FGWp2 = copy.deepcopy(FGWp)\n",
    "assert FGWp2 == FGWp\n",
    "print('test2')\n",
    "\n",
    "FGWp2.validate()\n",
    "\n",
    "FGWp3 = copy.deepcopy(FGWp)\n",
    "\n",
    "\n",
    "\n",
    "FGWp2.convolve_pIs_fasta(kernel_list = [1]*m, origin = m//2, inplace = True)\n",
    "print('test3')\n",
    "\n",
    "FGWp2.validate()\n",
    "\n",
    "FGWp3.scale_ipdm(scaler = lambda x : 0, inplace = True)\n",
    "print('test4')\n",
    "FGWp3.validate()\n",
    "\n",
    "FGWp4 = FGWp.downsample_by_indices(indices = [i for i in range(len(FGWp.pI_list)) if random.randint(0,1) ])\n",
    "print('test5')\n",
    "FGWp4.validate()\n",
    "\n",
    "\n",
    "\"\"\"\n",
    "self.pI_list[1:-1] != [read_pdb.writeProtIepMedian(r) for r in fasta_seq[1:-1]]\n",
    "\"\"\"\n",
    "\n",
    "\n"
   ]
  },
  {
   "cell_type": "code",
   "execution_count": 12,
   "id": "188d0058-377d-4b84-89d1-e225ac2aa93d",
   "metadata": {},
   "outputs": [],
   "source": [
    "FGWp = FGW_protein.make_protein_from_pdb(file)\n",
    "FGWp.validate()\n",
    "FGWp2 = FGW_protein.make_protein_from_files(file, fasta)\n",
    "FGWp2.validate()\n",
    "assert FGWp == FGWp2"
   ]
  },
  {
   "cell_type": "code",
   "execution_count": 13,
   "id": "221d767b-8dab-428e-8a68-dc75bc6fded8",
   "metadata": {},
   "outputs": [],
   "source": [
    "FGWp = FGW_protein.make_protein_from_pdb(file)\n",
    "pI_list2 = FGWp2.convolve_pIs_fasta(kernel_list = [1], origin = 0, inplace = False)\n",
    "# assert pI_list2 == FGWp.pI_list  #these we don't expect to be the same actually as convolution uses the iter_alg\n",
    "cs, pI_list3 = read_pdb.get_pdb_coords_pI(file, n=np.inf, median = False)\n",
    "assert pI_list2 ==pI_list3"
   ]
  },
  {
   "cell_type": "code",
   "execution_count": 14,
   "id": "6094a13f-2fc7-45c8-a8df-10e3c6dd9299",
   "metadata": {},
   "outputs": [],
   "source": [
    "# test that downsample_n works in the trivial case\n",
    "FGWp = FGW_protein.make_protein_from_pdb(file)\n",
    "\n",
    "for a in [True, False]:\n",
    "    for b in ['iter', 'median']:\n",
    "        for c in [True, False]:\n",
    "            for d in [True, False]:\n",
    "                if a and b == 'iter': #these we don't expect to match\n",
    "                    continue\n",
    "                FGWp2 = FGWp.downsample_n(n = np.inf, pI_combination = a, pI_alg = b,left_sample = c, mean_sample = d)\n",
    "                FGWp2.validate()\n",
    "                if FGWp2 != FGWp:\n",
    "                    print('not equal')\n",
    "                    \n",
    "\n",
    "# True and iter cause the !=s"
   ]
  },
  {
   "cell_type": "code",
   "execution_count": 15,
   "id": "3656e05c-95c0-448f-8b3a-fd469c7257bd",
   "metadata": {},
   "outputs": [
    {
     "name": "stdout",
     "output_type": "stream",
     "text": [
      "pI_list is wrong, could be caused by convolution\n"
     ]
    },
    {
     "data": {
      "text/plain": [
       "True"
      ]
     },
     "execution_count": 15,
     "metadata": {},
     "output_type": "execute_result"
    }
   ],
   "source": [
    "#make things which should not pass validator\n",
    "#all but last \n",
    "# FGWp = FGW_protein.make_protein_from_pdb(file)\n",
    "# FGWp.coords =  np.zeros(FGWp.coords.shape)\n",
    "# FGWp.validate() #should fail\n",
    "\n",
    "# FGWp = FGW_protein.make_protein_from_pdb(file)\n",
    "# FGWp.ipdm =  np.zeros(FGWp.ipdm.shape)\n",
    "# FGWp.validate() \n",
    "\n",
    "# FGWp = FGW_protein.make_protein_from_pdb(file)\n",
    "# FGWp.fasta +='A'\n",
    "# FGWp.validate()\n",
    "\n",
    "\n",
    "# FGWp = FGW_protein.make_protein_from_pdb(file)\n",
    "# FGWp.pI_list.append(-1)\n",
    "# FGWp.validate()\n",
    "\n",
    "FGWp = FGW_protein.make_protein_from_pdb(file)\n",
    "FGWp.pI_list[10] = -1\n",
    "FGWp.validate() # pI_list is wrong, could be caused by convolution\n",
    "\n",
    "\n"
   ]
  },
  {
   "cell_type": "code",
   "execution_count": 15,
   "id": "bd66c1b9-1c01-4940-9052-751c8fe946a6",
   "metadata": {},
   "outputs": [
    {
     "name": "stdout",
     "output_type": "stream",
     "text": [
      "bad length 536\n"
     ]
    }
   ],
   "source": [
    "# downsample_n agreement with by indices\n",
    "\n",
    "m=3  #must be odd\n",
    "\n",
    "FGWp = FGW_protein.make_protein_from_pdb(file)\n",
    "if len(FGWp.pI_list) %m == 0:\n",
    "    #now we now the length is divisible by m\n",
    "    N = len(FGWp.pI_list) //m\n",
    "    \n",
    "    indices = [i for i in range(len(conv_pI_list)) if (i- m//2) %m == 0]\n",
    "    \n",
    "    FGWp_m1 = FGWp.downsample_n(n = N, mean_sample = False, pI_combination = False)\n",
    "    FGWp_m2 = FGWp.downsample_by_indices(indices = indices)\n",
    "    \n",
    "    assert FGWp_m1 == FGWp_m2\n",
    "    print('passed')\n",
    "    \n",
    "else:\n",
    "    print('bad length', len(FGWp.pI_list))\n"
   ]
  },
  {
   "cell_type": "code",
   "execution_count": 16,
   "id": "2e5b03d7-cf67-4770-b659-33de7100e60c",
   "metadata": {},
   "outputs": [
    {
     "data": {
      "text/plain": [
       "'\\nSCRAP THIS and just test using new one\\n'"
      ]
     },
     "execution_count": 16,
     "metadata": {},
     "output_type": "execute_result"
    }
   ],
   "source": [
    "\n"
   ]
  },
  {
   "cell_type": "code",
   "execution_count": 17,
   "id": "d67b7ef1-5454-4326-b580-bf15ca433505",
   "metadata": {},
   "outputs": [],
   "source": [
    "#check pIs from maker method agree with convolution\n",
    "\n",
    "FGWp = FGW_protein.make_protein_from_pdb(file)\n",
    "\n",
    "conv_pI_list = FGWp.convolve_pIs_fasta(kernel_list = [1], origin = 0)\n",
    "\n",
    "    \n",
    "read_pdb_coords, read_pdb_pI = read_pdb.get_pdb_coords_pI(file, n=np.inf)\n",
    "    \n",
    "assert conv_pI_list == read_pdb_pI\n",
    "#assert conv_pI_list == FGWp.pI_list #this one shouldn't be true in general"
   ]
  },
  {
   "cell_type": "code",
   "execution_count": 53,
   "id": "aa8e3b1f-b241-4230-a7f0-fb4d731caed5",
   "metadata": {},
   "outputs": [],
   "source": [
    "#check that FGW(a=1) agrees with converting to GW_cell then running GW\n",
    "FGWp1 = FGW_protein.make_protein_from_pdb(file)\n",
    "FGWp2 = FGW_protein.make_protein_from_pdb(file2)\n",
    "\n",
    "P1 = FGWp1.make_GW_cell()\n",
    "P2 = FGWp2.make_GW_cell()\n",
    "\n",
    "assert abs(FGW_protein.run_GW_from_cells(P1, P2) - FGW_protein.run_FGW(FGWp1, FGWp2, alpha = 1)) <= 1e-10\n",
    "\n"
   ]
  },
  {
   "cell_type": "code",
   "execution_count": null,
   "id": "ec745d87-736c-495b-9ac5-141abc03d4ed",
   "metadata": {},
   "outputs": [],
   "source": []
  },
  {
   "cell_type": "code",
   "execution_count": null,
   "id": "90033e57-e223-4ed7-8e58-9294ae524468",
   "metadata": {},
   "outputs": [],
   "source": [
    "\n"
   ]
  },
  {
   "cell_type": "code",
   "execution_count": 16,
   "id": "ab123e58-55d8-4cd0-9799-7d1bc36691af",
   "metadata": {},
   "outputs": [],
   "source": [
    "test_indices = test_indices[:20]"
   ]
  },
  {
   "cell_type": "code",
   "execution_count": null,
   "id": "ff1d81da-de42-4a93-8ee8-dc0d80c7fe56",
   "metadata": {},
   "outputs": [],
   "source": []
  },
  {
   "cell_type": "code",
   "execution_count": 18,
   "id": "768bfea1-7270-4de2-986f-c5c0243d629e",
   "metadata": {},
   "outputs": [],
   "source": [
    "# confirm consistency with previous computations\n",
    "#GW regular\n",
    "\n",
    "old_dmat = np.load('../../../Data/Palmstrub Computation Results/Palmstrub npy results/Palmstrub_GW200_idinit.csv.npy')\n",
    "\n",
    "for p in it.combinations(test_indices,2):\n",
    "    i,j = p\n",
    "    file = palmstrub_dir + palmstrub_list[i]\n",
    "    file2 = palmstrub_dir + palmstrub_list[j]\n",
    "\n",
    "    FGWp1 = FGW_protein.make_protein_from_pdb(file)\n",
    "    FGWp2 = FGW_protein.make_protein_from_pdb(file2)\n",
    "    #FGWp1.scale_ipdm(scaler = sqrter, inplace = True)\n",
    "    #FGWp2.scale_ipdm(scaler = sqrter, inplace = True)\n",
    "    \n",
    "    \n",
    "    FGWp3 = FGWp1.downsample_n(n = 200, left_sample = True, mean_sample = False )\n",
    "    FGWp4 = FGWp2.downsample_n(n = 200, left_sample = True, mean_sample = False )\n",
    "    \n",
    "    P3 = FGWp3.make_GW_cell()\n",
    "    P4 = FGWp4.make_GW_cell()\n",
    "\n",
    "    d = FGW_protein.run_GW_from_cells(P3, P4) \n",
    "    \n",
    "    if abs(d - old_dmat[i,j]) > 1e-10:\n",
    "        print(i,j, d, old_dmat[i,j])\n",
    "    "
   ]
  },
  {
   "cell_type": "code",
   "execution_count": 26,
   "id": "681803a2-cc8c-48ad-8662-308b392ee95e",
   "metadata": {},
   "outputs": [],
   "source": [
    "# confirm consistency with previous computations\n",
    "#GW scaled\n",
    "\n",
    "old_dmat = np.load('../../../Data/Palmstrub Computation Results/Palmstrub npy results/Palmstrub_GW200_sqrt_idinit.csv.npy')\n",
    "\n",
    "for p in it.combinations(test_indices,2):\n",
    "    i,j = p\n",
    "    file = palmstrub_dir + palmstrub_list[i]\n",
    "    file2 = palmstrub_dir + palmstrub_list[j]\n",
    "\n",
    "    FGWp1 = FGW_protein.make_protein_from_pdb(file)\n",
    "    FGWp2 = FGW_protein.make_protein_from_pdb(file2)\n",
    "    FGWp1.scale_ipdm(scaler = sqrter, inplace = True)\n",
    "    FGWp2.scale_ipdm(scaler = sqrter, inplace = True)\n",
    "    \n",
    "    \n",
    "    FGWp3 = FGWp1.downsample_n(n = 200, left_sample = True, mean_sample = False )\n",
    "    FGWp4 = FGWp2.downsample_n(n = 200, left_sample = True, mean_sample = False )\n",
    "    \n",
    "    P3 = FGWp3.make_GW_cell()\n",
    "    P4 = FGWp4.make_GW_cell()\n",
    "\n",
    "    d = FGW_protein.run_GW_from_cells(P3, P4) \n",
    "    \n",
    "    if abs(d - old_dmat[i,j]) > 1e-10:\n",
    "        print(i,j, d, old_dmat[i,j])\n",
    "    "
   ]
  },
  {
   "cell_type": "code",
   "execution_count": 25,
   "id": "36d633ec-0de4-4fc5-8ce3-68cf8b305f58",
   "metadata": {
    "scrolled": true
   },
   "outputs": [],
   "source": [
    "# confirm consistency with previous computations\n",
    "#FGW regular - original version\n",
    "old_dmat = np.load('../../../Data/Palmstrub Computation Results/Palmstrub npy results/FGW200_a=0.02.csv_fixed.npy')\n",
    "\n",
    "for p in it.combinations(test_indices,2):\n",
    "    i,j = p\n",
    "    file = palmstrub_dir + palmstrub_list[i]\n",
    "    file2 = palmstrub_dir + palmstrub_list[j]\n",
    "\n",
    "\n",
    "    FGWp1 = FGW_protein.make_protein_from_pdb(file)\n",
    "    FGWp2 = FGW_protein.make_protein_from_pdb(file2)\n",
    "    \n",
    "    \n",
    "    FGWp3 = FGWp1.downsample_n(n = 200, left_sample = False, mean_sample = True)\n",
    "    FGWp4 = FGWp2.downsample_n(n = 200, left_sample = False, mean_sample = True)\n",
    "\n",
    "    FGWp3.recompute_ipdm()\n",
    "    FGWp4.recompute_ipdm()\n",
    "    \n",
    "    d = FGW_protein.run_FGW(FGWp3, FGWp4, alpha = 0.02)\n",
    "\n",
    "    if abs(d - old_dmat[i,j]) > 1e-10:\n",
    "        print(i,j, d, old_dmat[i,j], abs(d - old_dmat[i,j]))\n"
   ]
  },
  {
   "cell_type": "code",
   "execution_count": 61,
   "id": "871e1635-5599-4a0c-a06a-4d4eb5ab62cb",
   "metadata": {
    "scrolled": true
   },
   "outputs": [],
   "source": [
    "# function to run the GW calculation from the ot package\n",
    "import ot\n",
    "import sys\n",
    "sys.path.insert(0,'../../PGC020.a3')\n",
    "import read_pdb\n",
    "import GW_scripts\n",
    "\n",
    "def ot_GW(p1,p2):\n",
    "    n1 = len(p1.pI_list)\n",
    "    distr1 = np.ones((n1))*(1/n1)\n",
    "    n2 = len(p2.pI_list)\n",
    "    distr2 = np.ones((n2))*(1/n2)\n",
    "\n",
    "    return 0.5*math.sqrt(ot.gromov.gromov_wasserstein2(C1 = p1.ipdm,C2 = p2.ipdm,p=distr1,q=distr2,G0 = GW_scripts.id_initial_coupling(distr1,distr2)))"
   ]
  },
  {
   "cell_type": "code",
   "execution_count": 23,
   "id": "c5bfc1bf-afae-43f1-9c57-9f3e880856b5",
   "metadata": {},
   "outputs": [],
   "source": [
    "# Test to confirm consistency between the FGW scaled versions\n",
    "\n",
    "# import sys\n",
    "# sys.path.insert(0,'../../PGC020.a3')\n",
    "# import read_pdb\n",
    "# import ot\n",
    "\n",
    "\n",
    "# for i in test_indices:\n",
    "#     file = palmstrub_dir + palmstrub_list[i]\n",
    "#     FGWp1 = FGW_protein.make_protein_from_pdb(file)\n",
    "#     #        pI_combination = True, pI_alg = 'iter',\n",
    "#     FGWp3 = FGWp1.downsample_n(n = 200, left_sample = False, mean_sample = True)\n",
    "\n",
    "#     read_coords, read_pI = read_pdb.get_pdb_coords_pI(filepath = file, n = 200)\n",
    "\n",
    "#     assert (FGWp3.coords == read_coords).all()\n",
    "#     assert FGWp3.pI_list == read_pI\n",
    "#     #these pass\n",
    "\n",
    "\n"
   ]
  },
  {
   "cell_type": "code",
   "execution_count": 51,
   "id": "cda8dfe0-6190-4a27-8ed5-f7810249aba6",
   "metadata": {
    "scrolled": true
   },
   "outputs": [
    {
     "data": {
      "text/plain": [
       "'\\n\\n200 -  21.1 s\\n100 - 24.2 s\\n'"
      ]
     },
     "execution_count": 51,
     "metadata": {},
     "output_type": "execute_result"
    }
   ],
   "source": [
    "FGWp_list =[]\n",
    "for i in test_indices:\n",
    "    file = palmstrub_dir + palmstrub_list[i]\n",
    "    FGWp_list.append(FGW_protein.make_protein_from_pdb(file).downsample_n(n=200))\n",
    "    #print(i)\n",
    "\n",
    "\"\"\"\n",
    "\n",
    "200 -  21.1 s\n",
    "100 - 24.2 s\n",
    "\"\"\""
   ]
  },
  {
   "cell_type": "code",
   "execution_count": 52,
   "id": "78cdbfe3-7a72-446d-8dbe-ee9814220c14",
   "metadata": {},
   "outputs": [
    {
     "data": {
      "text/plain": [
       "'\\n200- 15.4 ms\\n100 -6.75 ms\\n\\n\\n'"
      ]
     },
     "execution_count": 52,
     "metadata": {},
     "output_type": "execute_result"
    }
   ],
   "source": [
    "GW_cell_list = []\n",
    "counter = 0\n",
    "for p in FGWp_list:\n",
    "    GW_cell_list.append(p.make_GW_cell())\n",
    "    #print(counter)\n",
    "    counter +=1\n",
    "    \n",
    "\"\"\"\n",
    "200- 15.4 ms\n",
    "100 -6.75 ms\n",
    "\n",
    "\n",
    "\"\"\""
   ]
  },
  {
   "cell_type": "code",
   "execution_count": 53,
   "id": "77b34618-ec06-4690-84cd-682e8a7e0b16",
   "metadata": {
    "scrolled": true
   },
   "outputs": [
    {
     "name": "stdout",
     "output_type": "stream",
     "text": [
      "CPU times: user 4min 10s, sys: 0 ns, total: 4min 10s\n",
      "Wall time: 4min 10s\n"
     ]
    },
    {
     "data": {
      "text/plain": [
       "'\\n200- 4min 23s\\n100 - 46.9 s\\n\\n'"
      ]
     },
     "execution_count": 53,
     "metadata": {},
     "output_type": "execute_result"
    }
   ],
   "source": [
    "%%time\n",
    "counter =0\n",
    "FGWp_dists = []\n",
    "for p in it.combinations(FGWp_list,2):\n",
    "    counter +=1\n",
    "    FGWp_dists.append(FGW_protein.run_FGW(p[0],p[1], alpha = 1))\n",
    "\n",
    "\"\"\"\n",
    "200- 4min 23s\n",
    "100 - 46.9 s\n",
    "\n",
    "\"\"\""
   ]
  },
  {
   "cell_type": "code",
   "execution_count": 54,
   "id": "490a258e-7079-4d94-9e14-744916ba3b06",
   "metadata": {
    "scrolled": true
   },
   "outputs": [
    {
     "name": "stdout",
     "output_type": "stream",
     "text": [
      "CPU times: user 5min 28s, sys: 57.1 ms, total: 5min 28s\n",
      "Wall time: 5min 28s\n"
     ]
    },
    {
     "data": {
      "text/plain": [
       "'\\n200- 5min 53s\\n100 - 1m11s\\n'"
      ]
     },
     "execution_count": 54,
     "metadata": {},
     "output_type": "execute_result"
    }
   ],
   "source": [
    "%%time\n",
    "counter =0\n",
    "CAJAL_dists = []\n",
    "for p in it.combinations(GW_cell_list,2):\n",
    "    counter +=1\n",
    "\n",
    "    CAJAL_dists.append(FGW_protein.run_GW_from_cells(p[0],p[1]))\n",
    "\n",
    "\n",
    "\"\"\"\n",
    "200- 5min 53s\n",
    "100 - 1m11s\n",
    "\"\"\""
   ]
  },
  {
   "cell_type": "code",
   "execution_count": 62,
   "id": "f2f04b5a-8c31-4f56-a334-9c4b7b58de71",
   "metadata": {},
   "outputs": [
    {
     "name": "stdout",
     "output_type": "stream",
     "text": [
      "CPU times: user 6min 14s, sys: 59 ms, total: 6min 14s\n",
      "Wall time: 6min 14s\n"
     ]
    }
   ],
   "source": [
    "%%time\n",
    "counter =0\n",
    "ot_dists = []\n",
    "for p in it.combinations(FGWp_list,2):\n",
    "    counter +=1\n",
    "\n",
    "    ot_dists.append(ot_GW(p[0],p[1]))\n"
   ]
  },
  {
   "cell_type": "code",
   "execution_count": null,
   "id": "8cba1ae8-2a05-430e-91e1-190e1b2ffa11",
   "metadata": {},
   "outputs": [],
   "source": []
  },
  {
   "cell_type": "code",
   "execution_count": 64,
   "id": "a33bd686-23a2-46f2-9fd2-7e36876d27a3",
   "metadata": {},
   "outputs": [],
   "source": [
    "for i in range(len(ot_dists)):\n",
    "    assert abs(ot_dists[i] - CAJAL_dists[i]) < 1e-10\n",
    "    assert abs(ot_dists[i] - FGWp_dists[i]) < 1e-10"
   ]
  },
  {
   "cell_type": "code",
   "execution_count": 59,
   "id": "63f6d959-7262-430a-86a6-3a272f61a5bb",
   "metadata": {},
   "outputs": [
    {
     "data": {
      "text/plain": [
       "(<FGW_protein.FGW_protein at 0x7f65609260b0>,\n",
       " <FGW_protein.FGW_protein at 0x7f65617bbdc0>)"
      ]
     },
     "execution_count": 59,
     "metadata": {},
     "output_type": "execute_result"
    }
   ],
   "source": []
  },
  {
   "cell_type": "code",
   "execution_count": null,
   "id": "11a7aa37-ff0a-4c45-97ae-958591763af5",
   "metadata": {},
   "outputs": [],
   "source": []
  }
 ],
 "metadata": {
  "kernelspec": {
   "display_name": "Python 3 (ipykernel)",
   "language": "python",
   "name": "python3"
  },
  "language_info": {
   "codemirror_mode": {
    "name": "ipython",
    "version": 3
   },
   "file_extension": ".py",
   "mimetype": "text/x-python",
   "name": "python",
   "nbconvert_exporter": "python",
   "pygments_lexer": "ipython3",
   "version": "3.10.12"
  }
 },
 "nbformat": 4,
 "nbformat_minor": 5
}
