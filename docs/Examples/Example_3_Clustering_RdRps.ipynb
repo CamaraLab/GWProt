{
 "cells": [
  {
   "cell_type": "markdown",
   "id": "32ef1567-c0a8-4ae3-a9b0-1d259729b526",
   "metadata": {},
   "source": [
    "Example 3: Clustering RdRps\n",
    "============================="
   ]
  },
  {
   "cell_type": "code",
   "execution_count": 2,
   "id": "86789648-6b77-4383-9a7b-cb64797f22fe",
   "metadata": {},
   "outputs": [
    {
     "name": "stderr",
     "output_type": "stream",
     "text": [
      "/home/elijah/.local/lib/python3.10/site-packages/umap/distances.py:1063: NumbaDeprecationWarning: \u001b[1mThe 'nopython' keyword argument was not supplied to the 'numba.jit' decorator. The implicit default value for this argument is currently False, but it will be changed to True in Numba 0.59.0. See https://numba.readthedocs.io/en/stable/reference/deprecation.html#deprecation-of-object-mode-fall-back-behaviour-when-using-jit for details.\u001b[0m\n",
      "  @numba.jit()\n",
      "/home/elijah/.local/lib/python3.10/site-packages/umap/distances.py:1071: NumbaDeprecationWarning: \u001b[1mThe 'nopython' keyword argument was not supplied to the 'numba.jit' decorator. The implicit default value for this argument is currently False, but it will be changed to True in Numba 0.59.0. See https://numba.readthedocs.io/en/stable/reference/deprecation.html#deprecation-of-object-mode-fall-back-behaviour-when-using-jit for details.\u001b[0m\n",
      "  @numba.jit()\n",
      "/home/elijah/.local/lib/python3.10/site-packages/umap/distances.py:1086: NumbaDeprecationWarning: \u001b[1mThe 'nopython' keyword argument was not supplied to the 'numba.jit' decorator. The implicit default value for this argument is currently False, but it will be changed to True in Numba 0.59.0. See https://numba.readthedocs.io/en/stable/reference/deprecation.html#deprecation-of-object-mode-fall-back-behaviour-when-using-jit for details.\u001b[0m\n",
      "  @numba.jit()\n",
      "/home/elijah/.local/lib/python3.10/site-packages/tqdm/auto.py:21: TqdmWarning: IProgress not found. Please update jupyter and ipywidgets. See https://ipywidgets.readthedocs.io/en/stable/user_install.html\n",
      "  from .autonotebook import tqdm as notebook_tqdm\n",
      "/home/elijah/.local/lib/python3.10/site-packages/umap/umap_.py:660: NumbaDeprecationWarning: \u001b[1mThe 'nopython' keyword argument was not supplied to the 'numba.jit' decorator. The implicit default value for this argument is currently False, but it will be changed to True in Numba 0.59.0. See https://numba.readthedocs.io/en/stable/reference/deprecation.html#deprecation-of-object-mode-fall-back-behaviour-when-using-jit for details.\u001b[0m\n",
      "  @numba.jit()\n"
     ]
    }
   ],
   "source": [
    "import numpy as np\n",
    "import itertools as it\n",
    "import multiprocess\n",
    "import matplotlib.pyplot as plt\n",
    "import time\n",
    "import os\n",
    "from umap.umap_ import UMAP\n",
    "\n",
    "from GWProt.GW_protein import *\n",
    "from GWProt.GW_protein_pI import *"
   ]
  },
  {
   "cell_type": "markdown",
   "id": "dfb1bd4d-730d-4086-832d-59b902fe21e5",
   "metadata": {},
   "source": [
    "\n",
    "Riboviruses are a realm of viruses which include many human pathogens. They all have an essential RNA-dependent RNA-polymerase (RdRp) which is key to their replication machinery, has a high mutation rate, and often very low sequence homology; thus structural comparison can be key to identification and classification. In our benchmarking of GWProt, we used a dataset of 4,615 computationally determined (AlphaFold3) structures of viral RNA-dependent RNA polymerases (RdRp) as well as 512 non-RdRp “decoy” proteins, which were selected as non-viral homologs. For our testing we used taxonomical annotations retrieved from Entrez, with 5 phyla of riboviruses.\n",
    "\n",
    "Here we display a UMAP clustering of the different phyla and decoys:\n"
   ]
  },
  {
   "cell_type": "markdown",
   "id": "e0d9dae3-3bfc-4327-907d-ee71c60b1102",
   "metadata": {},
   "source": [
    "![Example_Data/Images/GW_Phylum_Clustering.PNG](Example_Data/Images/GW_Phylum_Clustering.PNG)"
   ]
  },
  {
   "cell_type": "markdown",
   "id": "79a7c82d-996b-416a-b2f2-bdf6afc106b5",
   "metadata": {},
   "source": [
    "In this tutorial we use a subset consisting of 50 randomly chosen RdRps from the phyla Lenaviricota and Duplornaviricota.\n",
    "We will run different variants of Gromov-Wasserstein which can be computed with GWProt to show their differences in clustering accuracy and runtime. All runtime is based on 16 parallel processes on a desktop computer. "
   ]
  },
  {
   "cell_type": "code",
   "execution_count": 3,
   "id": "e1638a7d-8ede-4e44-8f7a-ea86e01ae059",
   "metadata": {},
   "outputs": [],
   "source": [
    "duplos = [os.path.join(\"Example_Data/RdRp Proteins/Duplo_RdRps\", file) for file in os.listdir(\"Example_Data/RdRp Proteins/Duplo_RdRps\")]\n",
    "lenas = [os.path.join(\"Example_Data/RdRp Proteins/Lena_RdRps\", file) for file in os.listdir(\"Example_Data/RdRp Proteins/Lena_RdRps\")]\n",
    "\n",
    "pisus = [os.path.join(\"Example_Data/RdRp Proteins/Pisu_RdRps\", file) for file in os.listdir(\"Example_Data/RdRp Proteins/Pisu_RdRps\")]\n",
    "negas = [os.path.join(\"Example_Data/RdRp Proteins/Nega_RdRps\", file) for file in os.listdir(\"Example_Data/RdRp Proteins/Nega_RdRps\")]\n"
   ]
  },
  {
   "cell_type": "markdown",
   "id": "fc9f419d-5583-400d-81f8-205cd2f2b5cc",
   "metadata": {},
   "source": [
    "We define a helper method to compute pairwise all-vs-all GW distances, then display \n",
    "to compute the [silhoutte score](https://en.wikipedia.org/wiki/Silhouette_(clustering)#:~:text=The%20silhouette%20score%20is%20specialized,distance%20or%20the%20Manhattan%20distance.) and [Davies-Bouldin score](https://en.wikipedia.org/wiki/Davies–Bouldin_index), two basic measures of clustering to evaluate the accuracy of different methods in GWProt. A higher silhoutte score and lower Davies-Bouldin score mean better clustering."
   ]
  },
  {
   "cell_type": "code",
   "execution_count": 4,
   "id": "889ab742-5074-438d-84bf-1fd0da9ec275",
   "metadata": {},
   "outputs": [],
   "source": [
    "from sklearn.metrics import silhouette_score # higher is better\n",
    "from sklearn.metrics import davies_bouldin_score #lower is better\n",
    "\n",
    "def display(dist_mat):\n",
    "    N = dist_mat.shape[0]\n",
    "\n",
    "\n",
    "    print(f\"Silhouette Score: {silhouette_score(X = dist_mat, labels = [0 if i <(N//2) else 1 for i in range(N)], metric='precomputed')}\")\n",
    "    print(f\"Davies-Bouldin Score: {davies_bouldin_score(dist_mat, labels = [0 if i <(N//2) else 1 for i in range(N)])}\")\n",
    "    \n",
    "    reducer = UMAP(metric = 'precomputed', random_state=1)\n",
    "    embedding = reducer.fit_transform(dist_mat)\n",
    "    plt.figure(figsize=(4, 4))\n",
    "    plt.scatter(embedding[:(N//2), 0], embedding[:(N//2), 1], c= ['red']*(N//2) , s=5)\n",
    "    plt.scatter(embedding[(N//2):, 0], embedding[(N//2):, 1], c= ['blue']*(N//2) , s=5)\n",
    "    plt.legend([\"Dupl.\" , \"Lena.\"])\n",
    "    plt.show()\n",
    "    "
   ]
  },
  {
   "cell_type": "code",
   "execution_count": 5,
   "id": "8a5b04f6-e567-404c-901a-4a2878a6171e",
   "metadata": {},
   "outputs": [],
   "source": [
    "def compute_in_parallel(proteins, comparison_method, returning = False, **kwargs):\n",
    "    N = len(proteins)\n",
    "    dist_mat = np.zeros((N,N))\n",
    "    start_time = time.time()\n",
    "\n",
    "    with multiprocess.Pool() as pool:\n",
    "        for r in  pool.imap(lambda pair: (pair[0], pair[1], comparison_method(proteins[pair[0]], proteins[pair[1]], **kwargs)), it.combinations(range(N),2)):\n",
    "            i,j,d = r\n",
    "            dist_mat[i,j] = d\n",
    "            dist_mat[j,i] = d\n",
    "            \n",
    "    print(f'run time = {time.time() - start_time}')\n",
    "    display(dist_mat)\n",
    "    if returning:\n",
    "        return dist_mat\n",
    "    "
   ]
  },
  {
   "cell_type": "markdown",
   "id": "7fa31a4b-291b-44dc-b2a2-ae8007bccf39",
   "metadata": {},
   "source": [
    "The main class in GWProt is `GW_protein`, whose objects contain the relevant data for a protein including the coordinates of each alpha-Carbon, the sequence, and the intra-protein distance matrix, an array containing all pairwise distances between alpha-Carbons. We can initialize objects in this class from PDB (protein databank) files."
   ]
  },
  {
   "cell_type": "code",
   "execution_count": 11,
   "id": "7a59d22d-24c2-409e-95d8-6372d43fcb03",
   "metadata": {},
   "outputs": [],
   "source": [
    "base_prots = [GW_protein.make_protein_from_pdb(file) for file in duplos + lenas]\n",
    "base_prots = [GW_protein.make_protein_from_pdb(file) for file in lenas + pisus]"
   ]
  },
  {
   "cell_type": "markdown",
   "id": "e5e0b2d2-ad17-4361-b2a8-4fd44e6ce8ff",
   "metadata": {},
   "source": [
    "For faster computations, we can downsample to an evenly spaced subset of the residues:"
   ]
  },
  {
   "cell_type": "code",
   "execution_count": 15,
   "id": "c58b1364-5c0b-4070-a140-45dbc072b452",
   "metadata": {},
   "outputs": [],
   "source": [
    "downsamped_100_prots = [p.downsample_n(n=100) for p in base_prots]"
   ]
  },
  {
   "cell_type": "markdown",
   "id": "ecc2cee0-a156-4b42-87e8-5a54897c0640",
   "metadata": {},
   "source": [
    "We can also rescale the intra-protein distance matrices, where computing GW distances gives greater weight to local distances."
   ]
  },
  {
   "cell_type": "code",
   "execution_count": 16,
   "id": "7c86eed4-9b36-4942-9fa2-17f5ee6ff6c4",
   "metadata": {},
   "outputs": [],
   "source": [
    "scaled_prots = [p.scale_ipdm(inplace = False) for p in base_prots]"
   ]
  },
  {
   "cell_type": "markdown",
   "id": "bbbb2469-4296-4a2d-b01f-8c9f50776bf2",
   "metadata": {},
   "source": [
    "We can also combine both variants and confirm that the order does not matter:"
   ]
  },
  {
   "cell_type": "code",
   "execution_count": 17,
   "id": "e80f1551-8cf4-43da-966c-e8f7c36ee8ed",
   "metadata": {},
   "outputs": [],
   "source": [
    "downsampled_then_scaled_prots = [p.scale_ipdm(inplace = False) for p in downsamped_100_prots]\n",
    "scaled_then_downsampled_prots = [p.downsample_n(n=100) for p in scaled_prots]\n",
    "assert downsampled_then_scaled_prots == scaled_then_downsampled_prots"
   ]
  },
  {
   "cell_type": "code",
   "execution_count": 10,
   "id": "35570074-a67f-43b3-8c2f-91250fd10ed8",
   "metadata": {},
   "outputs": [
    {
     "name": "stderr",
     "output_type": "stream",
     "text": [
      "Process ForkPoolWorker-4:\n",
      "Process ForkPoolWorker-11:\n",
      "Process ForkPoolWorker-1:\n",
      "Process ForkPoolWorker-13:\n",
      "Process ForkPoolWorker-15:\n",
      "Process ForkPoolWorker-8:\n",
      "Process ForkPoolWorker-6:\n",
      "Process ForkPoolWorker-3:\n",
      "Process ForkPoolWorker-2:\n",
      "Traceback (most recent call last):\n",
      "Traceback (most recent call last):\n",
      "Traceback (most recent call last):\n",
      "Traceback (most recent call last):\n",
      "Traceback (most recent call last):\n",
      "Traceback (most recent call last):\n",
      "Traceback (most recent call last):\n",
      "  File \"/home/elijah/.local/lib/python3.10/site-packages/multiprocess/process.py\", line 314, in _bootstrap\n",
      "    self.run()\n",
      "  File \"/home/elijah/.local/lib/python3.10/site-packages/multiprocess/process.py\", line 314, in _bootstrap\n",
      "    self.run()\n",
      "  File \"/home/elijah/.local/lib/python3.10/site-packages/multiprocess/process.py\", line 314, in _bootstrap\n",
      "    self.run()\n",
      "  File \"/home/elijah/.local/lib/python3.10/site-packages/multiprocess/process.py\", line 314, in _bootstrap\n",
      "    self.run()\n",
      "  File \"/home/elijah/.local/lib/python3.10/site-packages/multiprocess/process.py\", line 314, in _bootstrap\n",
      "    self.run()\n",
      "Process ForkPoolWorker-14:\n",
      "  File \"/home/elijah/.local/lib/python3.10/site-packages/multiprocess/process.py\", line 108, in run\n",
      "    self._target(*self._args, **self._kwargs)\n",
      "Traceback (most recent call last):\n",
      "  File \"/home/elijah/.local/lib/python3.10/site-packages/multiprocess/process.py\", line 314, in _bootstrap\n",
      "    self.run()\n",
      "Process ForkPoolWorker-12:\n",
      "  File \"/home/elijah/.local/lib/python3.10/site-packages/multiprocess/process.py\", line 108, in run\n",
      "    self._target(*self._args, **self._kwargs)\n",
      "  File \"/home/elijah/.local/lib/python3.10/site-packages/multiprocess/process.py\", line 108, in run\n",
      "    self._target(*self._args, **self._kwargs)\n",
      "  File \"/home/elijah/.local/lib/python3.10/site-packages/multiprocess/pool.py\", line 114, in worker\n",
      "    task = get()\n",
      "  File \"/home/elijah/.local/lib/python3.10/site-packages/multiprocess/process.py\", line 108, in run\n",
      "    self._target(*self._args, **self._kwargs)\n",
      "  File \"/home/elijah/.local/lib/python3.10/site-packages/multiprocess/process.py\", line 314, in _bootstrap\n",
      "    self.run()\n",
      "  File \"/home/elijah/.local/lib/python3.10/site-packages/multiprocess/process.py\", line 314, in _bootstrap\n",
      "    self.run()\n",
      "  File \"/home/elijah/.local/lib/python3.10/site-packages/multiprocess/process.py\", line 108, in run\n",
      "    self._target(*self._args, **self._kwargs)\n",
      "  File \"/home/elijah/.local/lib/python3.10/site-packages/multiprocess/pool.py\", line 114, in worker\n",
      "    task = get()\n",
      "  File \"/home/elijah/.local/lib/python3.10/site-packages/multiprocess/pool.py\", line 114, in worker\n",
      "    task = get()\n",
      "  File \"/home/elijah/.local/lib/python3.10/site-packages/multiprocess/queues.py\", line 367, in get\n",
      "    with self._rlock:\n",
      "  File \"/home/elijah/.local/lib/python3.10/site-packages/multiprocess/process.py\", line 108, in run\n",
      "    self._target(*self._args, **self._kwargs)\n",
      "Traceback (most recent call last):\n",
      "  File \"/home/elijah/.local/lib/python3.10/site-packages/multiprocess/pool.py\", line 114, in worker\n",
      "    task = get()\n",
      "  File \"/home/elijah/.local/lib/python3.10/site-packages/multiprocess/queues.py\", line 367, in get\n",
      "    with self._rlock:\n",
      "  File \"/home/elijah/.local/lib/python3.10/site-packages/multiprocess/process.py\", line 108, in run\n",
      "    self._target(*self._args, **self._kwargs)\n",
      "  File \"/home/elijah/.local/lib/python3.10/site-packages/multiprocess/pool.py\", line 114, in worker\n",
      "    task = get()\n",
      "  File \"/home/elijah/.local/lib/python3.10/site-packages/multiprocess/queues.py\", line 367, in get\n",
      "    with self._rlock:\n",
      "  File \"/home/elijah/.local/lib/python3.10/site-packages/multiprocess/pool.py\", line 114, in worker\n",
      "    task = get()\n",
      "  File \"/home/elijah/.local/lib/python3.10/site-packages/multiprocess/process.py\", line 108, in run\n",
      "    self._target(*self._args, **self._kwargs)\n",
      "  File \"/home/elijah/.local/lib/python3.10/site-packages/multiprocess/pool.py\", line 114, in worker\n",
      "    task = get()\n",
      "Process ForkPoolWorker-10:\n",
      "  File \"/home/elijah/.local/lib/python3.10/site-packages/multiprocess/queues.py\", line 367, in get\n",
      "    with self._rlock:\n",
      "  File \"/home/elijah/.local/lib/python3.10/site-packages/multiprocess/synchronize.py\", line 101, in __enter__\n",
      "    return self._semlock.__enter__()\n",
      "  File \"/home/elijah/.local/lib/python3.10/site-packages/multiprocess/process.py\", line 314, in _bootstrap\n",
      "    self.run()\n",
      "Traceback (most recent call last):\n",
      "  File \"/home/elijah/.local/lib/python3.10/site-packages/multiprocess/synchronize.py\", line 101, in __enter__\n",
      "    return self._semlock.__enter__()\n",
      "  File \"/home/elijah/.local/lib/python3.10/site-packages/multiprocess/queues.py\", line 367, in get\n",
      "    with self._rlock:\n",
      "  File \"/home/elijah/.local/lib/python3.10/site-packages/multiprocess/queues.py\", line 368, in get\n",
      "    res = self._reader.recv_bytes()\n",
      "  File \"/home/elijah/.local/lib/python3.10/site-packages/multiprocess/synchronize.py\", line 101, in __enter__\n",
      "    return self._semlock.__enter__()\n",
      "  File \"/home/elijah/.local/lib/python3.10/site-packages/multiprocess/queues.py\", line 367, in get\n",
      "    with self._rlock:\n",
      "  File \"/home/elijah/.local/lib/python3.10/site-packages/multiprocess/pool.py\", line 114, in worker\n",
      "    task = get()\n",
      "  File \"/home/elijah/.local/lib/python3.10/site-packages/multiprocess/synchronize.py\", line 101, in __enter__\n",
      "    return self._semlock.__enter__()\n",
      "KeyboardInterrupt\n",
      "  File \"/home/elijah/.local/lib/python3.10/site-packages/multiprocess/process.py\", line 314, in _bootstrap\n",
      "    self.run()\n",
      "  File \"/home/elijah/.local/lib/python3.10/site-packages/multiprocess/process.py\", line 108, in run\n",
      "    self._target(*self._args, **self._kwargs)\n",
      "KeyboardInterrupt\n",
      "  File \"/home/elijah/.local/lib/python3.10/site-packages/multiprocess/synchronize.py\", line 101, in __enter__\n",
      "    return self._semlock.__enter__()\n",
      "Process ForkPoolWorker-16:\n",
      "KeyboardInterrupt\n",
      "  File \"/home/elijah/.local/lib/python3.10/site-packages/multiprocess/queues.py\", line 367, in get\n",
      "    with self._rlock:\n",
      "  File \"/home/elijah/.local/lib/python3.10/site-packages/multiprocess/synchronize.py\", line 101, in __enter__\n",
      "    return self._semlock.__enter__()\n",
      "  File \"/home/elijah/.local/lib/python3.10/site-packages/multiprocess/pool.py\", line 125, in worker\n",
      "    result = (True, func(*args, **kwds))\n",
      "  File \"/home/elijah/.local/lib/python3.10/site-packages/multiprocess/connection.py\", line 224, in recv_bytes\n",
      "    buf = self._recv_bytes(maxlength)\n",
      "KeyboardInterrupt\n",
      "KeyboardInterrupt\n",
      "  File \"/home/elijah/.local/lib/python3.10/site-packages/multiprocess/connection.py\", line 429, in _recv_bytes\n",
      "    return self._recv(size)\n",
      "  File \"/home/elijah/.local/lib/python3.10/site-packages/multiprocess/process.py\", line 108, in run\n",
      "    self._target(*self._args, **self._kwargs)\n",
      "  File \"/home/elijah/.local/lib/python3.10/site-packages/multiprocess/synchronize.py\", line 101, in __enter__\n",
      "    return self._semlock.__enter__()\n",
      "Process ForkPoolWorker-9:\n",
      "  File \"/home/elijah/.local/lib/python3.10/site-packages/multiprocess/connection.py\", line 387, in _recv\n",
      "    chunk = read(handle, remaining)\n",
      "Process ForkPoolWorker-7:\n",
      "  File \"/home/elijah/.local/lib/python3.10/site-packages/multiprocess/pool.py\", line 125, in worker\n",
      "    result = (True, func(*args, **kwds))\n",
      "KeyboardInterrupt\n",
      "Traceback (most recent call last):\n",
      "  File \"/tmp/ipykernel_29616/831884976.py\", line 7, in <lambda>\n",
      "    for r in  pool.imap(lambda pair: (pair[0], pair[1], comparison_method(proteins[pair[0]], proteins[pair[1]], **kwargs)), it.combinations(range(N),2)):\n",
      "Traceback (most recent call last):\n",
      "Traceback (most recent call last):\n",
      "  File \"/usr/lib/python3.10/contextlib.py\", line 79, in inner\n",
      "    return func(*args, **kwds)\n",
      "  File \"/home/elijah/.local/lib/python3.10/site-packages/multiprocess/process.py\", line 314, in _bootstrap\n",
      "    self.run()\n",
      "  File \"/home/elijah/.local/lib/python3.10/site-packages/multiprocess/process.py\", line 314, in _bootstrap\n",
      "    self.run()\n",
      "  File \"/home/elijah/.local/lib/python3.10/site-packages/multiprocess/process.py\", line 314, in _bootstrap\n",
      "    self.run()\n",
      "  File \"/home/elijah/.local/lib/python3.10/site-packages/multiprocess/process.py\", line 108, in run\n",
      "    self._target(*self._args, **self._kwargs)\n",
      "Traceback (most recent call last):\n",
      "  File \"/home/elijah/.local/lib/python3.10/site-packages/multiprocess/process.py\", line 108, in run\n",
      "    self._target(*self._args, **self._kwargs)\n",
      "  File \"/home/elijah/dropbox3/Analyses/PGC020.a12/src/GWProt/GW_protein.py\", line 198, in run_GW\n",
      "    return GW_protein.run_GW_from_cajal(cell_1, cell_2, transport_plan = transport_plan)\n",
      "  File \"/home/elijah/.local/lib/python3.10/site-packages/multiprocess/pool.py\", line 125, in worker\n",
      "    result = (True, func(*args, **kwds))\n",
      "  File \"/home/elijah/.local/lib/python3.10/site-packages/multiprocess/pool.py\", line 125, in worker\n",
      "    result = (True, func(*args, **kwds))\n",
      "KeyboardInterrupt\n",
      "Process ForkPoolWorker-5:\n",
      "  File \"/home/elijah/.local/lib/python3.10/site-packages/multiprocess/process.py\", line 314, in _bootstrap\n",
      "    self.run()\n",
      "  File \"/usr/lib/python3.10/contextlib.py\", line 79, in inner\n",
      "    return func(*args, **kwds)\n",
      "  File \"/home/elijah/.local/lib/python3.10/site-packages/multiprocess/process.py\", line 108, in run\n",
      "    self._target(*self._args, **self._kwargs)\n",
      "  File \"/tmp/ipykernel_29616/831884976.py\", line 7, in <lambda>\n",
      "    for r in  pool.imap(lambda pair: (pair[0], pair[1], comparison_method(proteins[pair[0]], proteins[pair[1]], **kwargs)), it.combinations(range(N),2)):\n",
      "  File \"/tmp/ipykernel_29616/831884976.py\", line 7, in <lambda>\n",
      "    for r in  pool.imap(lambda pair: (pair[0], pair[1], comparison_method(proteins[pair[0]], proteins[pair[1]], **kwargs)), it.combinations(range(N),2)):\n",
      "KeyboardInterrupt\n",
      "  File \"/home/elijah/.local/lib/python3.10/site-packages/multiprocess/process.py\", line 108, in run\n",
      "    self._target(*self._args, **self._kwargs)\n",
      "  File \"/tmp/ipykernel_29616/831884976.py\", line 7, in <lambda>\n",
      "    for r in  pool.imap(lambda pair: (pair[0], pair[1], comparison_method(proteins[pair[0]], proteins[pair[1]], **kwargs)), it.combinations(range(N),2)):\n",
      "  File \"/home/elijah/dropbox3/Analyses/PGC020.a12/src/GWProt/GW_protein.py\", line 177, in run_GW_from_cajal\n",
      "    return GW_identity_init(cajal_cell1, cajal_cell2, transport_plan= transport_plan)\n",
      "  File \"/usr/lib/python3.10/contextlib.py\", line 79, in inner\n",
      "    return func(*args, **kwds)\n",
      "  File \"/home/elijah/.local/lib/python3.10/site-packages/multiprocess/pool.py\", line 125, in worker\n",
      "    result = (True, func(*args, **kwds))\n",
      "  File \"/usr/lib/python3.10/contextlib.py\", line 79, in inner\n",
      "    return func(*args, **kwds)\n",
      "  File \"/home/elijah/dropbox3/Analyses/PGC020.a12/src/GWProt/GW_protein.py\", line 198, in run_GW\n",
      "    return GW_protein.run_GW_from_cajal(cell_1, cell_2, transport_plan = transport_plan)\n",
      "  File \"/usr/lib/python3.10/contextlib.py\", line 79, in inner\n",
      "    return func(*args, **kwds)\n",
      "  File \"/usr/lib/python3.10/contextlib.py\", line 79, in inner\n",
      "    return func(*args, **kwds)\n",
      "  File \"/home/elijah/dropbox3/Analyses/PGC020.a12/src/GWProt/GW_protein.py\", line 198, in run_GW\n",
      "    return GW_protein.run_GW_from_cajal(cell_1, cell_2, transport_plan = transport_plan)\n",
      "  File \"/home/elijah/.local/lib/python3.10/site-packages/multiprocess/pool.py\", line 125, in worker\n",
      "    result = (True, func(*args, **kwds))\n",
      "  File \"/home/elijah/dropbox3/Analyses/PGC020.a12/src/GWProt/GW_scripts.py\", line 105, in GW_identity_init\n",
      "    res = gw_cython.gw_cython_init_cost( A = P1.dmat, a = a,  c_A = P1.cell_constant, B = P2.dmat, b = b, c_B = P2.cell_constant, C = C)\n",
      "  File \"/home/elijah/dropbox3/Analyses/PGC020.a12/src/GWProt/GW_protein.py\", line 177, in run_GW_from_cajal\n",
      "    return GW_identity_init(cajal_cell1, cajal_cell2, transport_plan= transport_plan)\n",
      "  File \"/tmp/ipykernel_29616/831884976.py\", line 7, in <lambda>\n",
      "    for r in  pool.imap(lambda pair: (pair[0], pair[1], comparison_method(proteins[pair[0]], proteins[pair[1]], **kwargs)), it.combinations(range(N),2)):\n",
      "  File \"/usr/lib/python3.10/contextlib.py\", line 79, in inner\n",
      "    return func(*args, **kwds)\n",
      "  File \"src/cajal/gw_cython.pyx\", line 88, in cajal.gw_cython.gw_cython_init_cost\n",
      "  File \"/usr/lib/python3.10/contextlib.py\", line 79, in inner\n",
      "    return func(*args, **kwds)\n",
      "  File \"/usr/lib/python3.10/contextlib.py\", line 79, in inner\n",
      "    return func(*args, **kwds)\n",
      "Traceback (most recent call last):\n",
      "  File \"/usr/lib/python3.10/contextlib.py\", line 79, in inner\n",
      "    return func(*args, **kwds)\n",
      "  File \"/tmp/ipykernel_29616/831884976.py\", line 7, in <lambda>\n",
      "    for r in  pool.imap(lambda pair: (pair[0], pair[1], comparison_method(proteins[pair[0]], proteins[pair[1]], **kwargs)), it.combinations(range(N),2)):\n",
      "  File \"/home/elijah/dropbox3/Analyses/PGC020.a12/src/GWProt/GW_protein.py\", line 198, in run_GW\n",
      "    return GW_protein.run_GW_from_cajal(cell_1, cell_2, transport_plan = transport_plan)\n",
      "  File \"/home/elijah/dropbox3/Analyses/PGC020.a12/src/GWProt/GW_protein.py\", line 177, in run_GW_from_cajal\n",
      "    return GW_identity_init(cajal_cell1, cajal_cell2, transport_plan= transport_plan)\n",
      "  File \"src/cajal/gw_cython.pyx\", line 131, in cajal.gw_cython.gw_cython_init_cost\n",
      "  File \"/home/elijah/dropbox3/Analyses/PGC020.a12/src/GWProt/GW_protein.py\", line 198, in run_GW\n",
      "    return GW_protein.run_GW_from_cajal(cell_1, cell_2, transport_plan = transport_plan)\n",
      "  File \"/home/elijah/dropbox3/Analyses/PGC020.a12/src/GWProt/GW_scripts.py\", line 105, in GW_identity_init\n",
      "    res = gw_cython.gw_cython_init_cost( A = P1.dmat, a = a,  c_A = P1.cell_constant, B = P2.dmat, b = b, c_B = P2.cell_constant, C = C)\n",
      "  File \"/usr/lib/python3.10/contextlib.py\", line 79, in inner\n",
      "    return func(*args, **kwds)\n",
      "  File \"/usr/lib/python3.10/contextlib.py\", line 79, in inner\n",
      "    return func(*args, **kwds)\n",
      "  File \"<__array_function__ internals>\", line 200, in dot\n",
      "  File \"src/cajal/gw_cython.pyx\", line 88, in cajal.gw_cython.gw_cython_init_cost\n",
      "Traceback (most recent call last):\n",
      "  File \"/home/elijah/dropbox3/Analyses/PGC020.a12/src/GWProt/GW_protein.py\", line 177, in run_GW_from_cajal\n",
      "    return GW_identity_init(cajal_cell1, cajal_cell2, transport_plan= transport_plan)\n",
      "  File \"/home/elijah/.local/lib/python3.10/site-packages/multiprocess/process.py\", line 314, in _bootstrap\n",
      "    self.run()\n",
      "KeyboardInterrupt\n",
      "  File \"/home/elijah/dropbox3/Analyses/PGC020.a12/src/GWProt/GW_protein.py\", line 177, in run_GW_from_cajal\n",
      "    return GW_identity_init(cajal_cell1, cajal_cell2, transport_plan= transport_plan)\n",
      "  File \"src/cajal/gw_cython.pyx\", line 131, in cajal.gw_cython.gw_cython_init_cost\n",
      "  File \"/usr/lib/python3.10/contextlib.py\", line 79, in inner\n",
      "    return func(*args, **kwds)\n",
      "  File \"/home/elijah/.local/lib/python3.10/site-packages/multiprocess/process.py\", line 108, in run\n",
      "    self._target(*self._args, **self._kwargs)\n",
      "  File \"/home/elijah/.local/lib/python3.10/site-packages/multiprocess/process.py\", line 314, in _bootstrap\n",
      "    self.run()\n",
      "  File \"<__array_function__ internals>\", line 180, in dot\n",
      "  File \"/usr/lib/python3.10/contextlib.py\", line 79, in inner\n",
      "    return func(*args, **kwds)\n",
      "  File \"/home/elijah/dropbox3/Analyses/PGC020.a12/src/GWProt/GW_scripts.py\", line 105, in GW_identity_init\n",
      "    res = gw_cython.gw_cython_init_cost( A = P1.dmat, a = a,  c_A = P1.cell_constant, B = P2.dmat, b = b, c_B = P2.cell_constant, C = C)\n",
      "  File \"/home/elijah/.local/lib/python3.10/site-packages/multiprocess/process.py\", line 108, in run\n",
      "    self._target(*self._args, **self._kwargs)\n",
      "  File \"/home/elijah/.local/lib/python3.10/site-packages/numpy/core/multiarray.py\", line 740, in dot\n",
      "    @array_function_from_c_func_and_dispatcher(_multiarray_umath.dot)\n",
      "  File \"/home/elijah/.local/lib/python3.10/site-packages/multiprocess/pool.py\", line 125, in worker\n",
      "    result = (True, func(*args, **kwds))\n",
      "  File \"src/cajal/gw_cython.pyx\", line 88, in cajal.gw_cython.gw_cython_init_cost\n",
      "  File \"/home/elijah/.local/lib/python3.10/site-packages/multiprocess/pool.py\", line 125, in worker\n",
      "    result = (True, func(*args, **kwds))\n",
      "KeyboardInterrupt\n",
      "  File \"/tmp/ipykernel_29616/831884976.py\", line 7, in <lambda>\n",
      "    for r in  pool.imap(lambda pair: (pair[0], pair[1], comparison_method(proteins[pair[0]], proteins[pair[1]], **kwargs)), it.combinations(range(N),2)):\n",
      "  File \"/home/elijah/dropbox3/Analyses/PGC020.a12/src/GWProt/GW_scripts.py\", line 102, in GW_identity_init\n",
      "    P = id_initial_coupling(a,b) #to do, check (m,n) vs (n,m)\n",
      "  File \"src/cajal/gw_cython.pyx\", line 131, in cajal.gw_cython.gw_cython_init_cost\n",
      "  File \"/usr/lib/python3.10/contextlib.py\", line 79, in inner\n",
      "    return func(*args, **kwds)\n",
      "  File \"/usr/lib/python3.10/contextlib.py\", line 79, in inner\n",
      "    return func(*args, **kwds)\n",
      "  File \"/home/elijah/dropbox3/Analyses/PGC020.a12/src/GWProt/GW_scripts.py\", line 85, in id_initial_coupling\n",
      "    P[i,j] = get_overlap(a_cdf[i],a_cdf[i+1], b_cdf[j],b_cdf[j+1])\n",
      "  File \"/tmp/ipykernel_29616/831884976.py\", line 7, in <lambda>\n",
      "    for r in  pool.imap(lambda pair: (pair[0], pair[1], comparison_method(proteins[pair[0]], proteins[pair[1]], **kwargs)), it.combinations(range(N),2)):\n",
      "  File \"<__array_function__ internals>\", line 180, in dot\n",
      "  File \"/home/elijah/dropbox3/Analyses/PGC020.a12/src/GWProt/GW_protein.py\", line 198, in run_GW\n",
      "    return GW_protein.run_GW_from_cajal(cell_1, cell_2, transport_plan = transport_plan)\n",
      "  File \"/usr/lib/python3.10/contextlib.py\", line 79, in inner\n",
      "    return func(*args, **kwds)\n",
      "KeyboardInterrupt\n",
      "  File \"/home/elijah/.local/lib/python3.10/site-packages/numpy/core/multiarray.py\", line 740, in dot\n",
      "    @array_function_from_c_func_and_dispatcher(_multiarray_umath.dot)\n",
      "  File \"/usr/lib/python3.10/contextlib.py\", line 79, in inner\n",
      "    return func(*args, **kwds)\n",
      "  File \"/home/elijah/dropbox3/Analyses/PGC020.a12/src/GWProt/GW_scripts.py\", line 105, in GW_identity_init\n",
      "    res = gw_cython.gw_cython_init_cost( A = P1.dmat, a = a,  c_A = P1.cell_constant, B = P2.dmat, b = b, c_B = P2.cell_constant, C = C)\n",
      "  File \"/home/elijah/dropbox3/Analyses/PGC020.a12/src/GWProt/GW_protein.py\", line 198, in run_GW\n",
      "    return GW_protein.run_GW_from_cajal(cell_1, cell_2, transport_plan = transport_plan)\n",
      "  File \"/usr/lib/python3.10/contextlib.py\", line 79, in inner\n",
      "    return func(*args, **kwds)\n",
      "KeyboardInterrupt\n",
      "  File \"/usr/lib/python3.10/contextlib.py\", line 79, in inner\n",
      "    return func(*args, **kwds)\n",
      "  File \"/home/elijah/dropbox3/Analyses/PGC020.a12/src/GWProt/GW_protein.py\", line 177, in run_GW_from_cajal\n",
      "    return GW_identity_init(cajal_cell1, cajal_cell2, transport_plan= transport_plan)\n",
      "  File \"src/cajal/gw_cython.pyx\", line 88, in cajal.gw_cython.gw_cython_init_cost\n",
      "  File \"/home/elijah/dropbox3/Analyses/PGC020.a12/src/GWProt/GW_protein.py\", line 177, in run_GW_from_cajal\n",
      "    return GW_identity_init(cajal_cell1, cajal_cell2, transport_plan= transport_plan)\n",
      "  File \"src/cajal/gw_cython.pyx\", line 131, in cajal.gw_cython.gw_cython_init_cost\n",
      "  File \"<__array_function__ internals>\", line 180, in dot\n",
      "  File \"/usr/lib/python3.10/contextlib.py\", line 79, in inner\n",
      "    return func(*args, **kwds)\n",
      "  File \"/usr/lib/python3.10/contextlib.py\", line 79, in inner\n",
      "    return func(*args, **kwds)\n",
      "  File \"/home/elijah/.local/lib/python3.10/site-packages/numpy/core/multiarray.py\", line 740, in dot\n",
      "    @array_function_from_c_func_and_dispatcher(_multiarray_umath.dot)\n",
      "  File \"/home/elijah/dropbox3/Analyses/PGC020.a12/src/GWProt/GW_scripts.py\", line 105, in GW_identity_init\n",
      "    res = gw_cython.gw_cython_init_cost( A = P1.dmat, a = a,  c_A = P1.cell_constant, B = P2.dmat, b = b, c_B = P2.cell_constant, C = C)\n",
      "  File \"/home/elijah/dropbox3/Analyses/PGC020.a12/src/GWProt/GW_protein.py\", line 198, in run_GW\n",
      "    return GW_protein.run_GW_from_cajal(cell_1, cell_2, transport_plan = transport_plan)\n",
      "  File \"/home/elijah/dropbox3/Analyses/PGC020.a12/src/GWProt/GW_scripts.py\", line 105, in GW_identity_init\n",
      "    res = gw_cython.gw_cython_init_cost( A = P1.dmat, a = a,  c_A = P1.cell_constant, B = P2.dmat, b = b, c_B = P2.cell_constant, C = C)\n",
      "  File \"src/cajal/gw_cython.pyx\", line 88, in cajal.gw_cython.gw_cython_init_cost\n",
      "KeyboardInterrupt\n",
      "  File \"src/cajal/gw_cython.pyx\", line 131, in cajal.gw_cython.gw_cython_init_cost\n",
      "  File \"/usr/lib/python3.10/contextlib.py\", line 79, in inner\n",
      "    return func(*args, **kwds)\n",
      "  File \"<__array_function__ internals>\", line 180, in dot\n",
      "  File \"/home/elijah/dropbox3/Analyses/PGC020.a12/src/GWProt/GW_protein.py\", line 177, in run_GW_from_cajal\n",
      "    return GW_identity_init(cajal_cell1, cajal_cell2, transport_plan= transport_plan)\n",
      "  File \"/home/elijah/.local/lib/python3.10/site-packages/numpy/core/multiarray.py\", line 740, in dot\n",
      "    @array_function_from_c_func_and_dispatcher(_multiarray_umath.dot)\n",
      "  File \"/usr/lib/python3.10/contextlib.py\", line 79, in inner\n",
      "    return func(*args, **kwds)\n",
      "KeyboardInterrupt\n",
      "  File \"/home/elijah/dropbox3/Analyses/PGC020.a12/src/GWProt/GW_scripts.py\", line 105, in GW_identity_init\n",
      "    res = gw_cython.gw_cython_init_cost( A = P1.dmat, a = a,  c_A = P1.cell_constant, B = P2.dmat, b = b, c_B = P2.cell_constant, C = C)\n",
      "  File \"src/cajal/gw_cython.pyx\", line 88, in cajal.gw_cython.gw_cython_init_cost\n",
      "  File \"src/cajal/gw_cython.pyx\", line 131, in cajal.gw_cython.gw_cython_init_cost\n",
      "  File \"<__array_function__ internals>\", line 180, in dot\n",
      "  File \"src/cajal/gw_cython.pyx\", line 88, in cajal.gw_cython.gw_cython_init_cost\n",
      "  File \"src/cajal/gw_cython.pyx\", line 131, in cajal.gw_cython.gw_cython_init_cost\n",
      "  File \"<__array_function__ internals>\", line 180, in dot\n",
      "  File \"/home/elijah/.local/lib/python3.10/site-packages/numpy/core/multiarray.py\", line 740, in dot\n",
      "    @array_function_from_c_func_and_dispatcher(_multiarray_umath.dot)\n",
      "KeyboardInterrupt\n",
      "  File \"/home/elijah/.local/lib/python3.10/site-packages/numpy/core/multiarray.py\", line 740, in dot\n",
      "    @array_function_from_c_func_and_dispatcher(_multiarray_umath.dot)\n",
      "KeyboardInterrupt\n",
      "\n",
      "KeyboardInterrupt\n",
      "\n"
     ]
    }
   ],
   "source": [
    "GW_dist_mat = compute_in_parallel(proteins=base_prots, returning= True, comparison_method= GW_protein.run_GW)"
   ]
  },
  {
   "cell_type": "code",
   "execution_count": 18,
   "id": "ace589e1-655e-4ad9-acd5-17962778d650",
   "metadata": {},
   "outputs": [
    {
     "name": "stdout",
     "output_type": "stream",
     "text": [
      "run time = 80.63600015640259\n",
      "Silhouette Score: 0.12225568220905543\n",
      "Davies-Bouldin Score: 2.089772502538112\n"
     ]
    },
    {
     "data": {
      "image/png": "[encoded data removed]",
      "text/plain": [
       "<Figure size 400x400 with 1 Axes>"
      ]
     },
     "metadata": {},
     "output_type": "display_data"
    }
   ],
   "source": [
    "compute_in_parallel(proteins=downsamped_100_prots, comparison_method= GW_protein.run_GW)"
   ]
  },
  {
   "cell_type": "code",
   "execution_count": 19,
   "id": "81914052-24d3-4ea4-814b-3216cf3168e6",
   "metadata": {},
   "outputs": [
    {
     "name": "stdout",
     "output_type": "stream",
     "text": [
      "run time = 81.29926753044128\n",
      "Silhouette Score: 0.12478009274520434\n",
      "Davies-Bouldin Score: 1.8948958440721686\n"
     ]
    },
    {
     "data": {
      "image/png": "[encoded data removed]",
      "text/plain": [
       "<Figure size 400x400 with 1 Axes>"
      ]
     },
     "metadata": {},
     "output_type": "display_data"
    }
   ],
   "source": [
    "compute_in_parallel(proteins=downsampled_then_scaled_prots, comparison_method= GW_protein.run_GW)"
   ]
  },
  {
   "cell_type": "markdown",
   "id": "50f13100-28eb-47b3-a392-47f93761d036",
   "metadata": {},
   "source": [
    "Next we confirm that this agrees with running GW directly from CAJAL cells"
   ]
  },
  {
   "cell_type": "code",
   "execution_count": null,
   "id": "61d68a5c-ff5f-4594-82ad-2033ee636f09",
   "metadata": {},
   "outputs": [],
   "source": [
    "cajal_cells = [p.make_cajal_cell() for p in base_prots]\n",
    "GW_cajal_dist_mat = compute_in_parallel(cajal_cells, GW_protein.run_GW_from_cajal, returning =True)\n",
    "assert np.isclose(GW_cajal_dist_mat, GW_dist_mat).all()\n"
   ]
  },
  {
   "cell_type": "code",
   "execution_count": null,
   "id": "5aea20ae-0029-4242-9a14-8a3b3d5b17d7",
   "metadata": {},
   "outputs": [],
   "source": [
    "import GWProt.FGW_matrices"
   ]
  },
  {
   "cell_type": "code",
   "execution_count": null,
   "id": "7ac74beb-bc5c-4479-8958-c52840936855",
   "metadata": {},
   "outputs": [],
   "source": [
    "from GWProt.FGW_matrices import *\n",
    "\n",
    "compute_in_parallel(proteins=base_prots, comparison_method=GW_protein.run_FGW_dict, alpha = 0.05,d = get_BLOSUM_dict(n = 62))"
   ]
  },
  {
   "cell_type": "markdown",
   "id": "1645a497-1188-4063-b0f4-29d2e390bc78",
   "metadata": {},
   "source": [
    "We also demonstrate using user-inputted data:"
   ]
  },
  {
   "cell_type": "code",
   "execution_count": null,
   "id": "f528af2d-4ce0-4b80-8778-c5c7bf960281",
   "metadata": {},
   "outputs": [],
   "source": [
    "eccentricity_lists = [p.get_eccentricity() for p in base_prots]\n",
    "FGW_eccentricity_dist_mat = np.zeros((50,50))\n",
    "\n",
    "start_time = time.time()\n",
    "with multiprocess.Pool() as pool:\n",
    "    results = pool.imap(lambda pair: (pair[0], pair[1], GW_protein.run_FGW_data_lists(base_prots[pair[0]], \n",
    "                                                                                 base_prots[pair[1]], \n",
    "                                                                                 data1 = eccentricity_lists[pair[0]],\n",
    "                                                                                data2 = eccentricity_lists[pair[1]],\n",
    "                                                                                      alpha = 0.05)), it.combinations(range(50),2))\n",
    "    for r in results:\n",
    "        i,j,d = r\n",
    "        FGW_eccentricity_dist_mat[i,j] = d\n",
    "        FGW_eccentricity_dist_mat[j,i] = d\n",
    "run_time = time.time() - start_time"
   ]
  },
  {
   "cell_type": "code",
   "execution_count": null,
   "id": "a3232df9-b0e2-4ef2-9b81-04f0c7a209d6",
   "metadata": {},
   "outputs": [],
   "source": [
    "display(FGW_eccentricity_dist_mat)\n"
   ]
  },
  {
   "cell_type": "markdown",
   "id": "bb4d064b-1fd6-4e2c-a635-f40ae965054f",
   "metadata": {},
   "source": [
    "Now we show the functionality of ``GW_protein_pI``"
   ]
  },
  {
   "cell_type": "code",
   "execution_count": 9,
   "id": "261cec4a-9b12-4d00-9f92-2b6b56d067bd",
   "metadata": {},
   "outputs": [],
   "source": [
    "base_prots_pI = [GW_protein_pI.make_protein_from_pdb(file) for file in duplos + lenas]"
   ]
  },
  {
   "cell_type": "markdown",
   "id": "526e00d8-3163-4af8-b76f-35d18fcd547c",
   "metadata": {},
   "source": [
    "We check that after casting to ``GW_protein`` s they agree with the earlier ones."
   ]
  },
  {
   "cell_type": "code",
   "execution_count": 10,
   "id": "d0152112-f358-47fe-af16-6f6b4b95695a",
   "metadata": {},
   "outputs": [],
   "source": [
    "assert base_prots == [p.GW_protein() for p in base_prots_pI]"
   ]
  },
  {
   "cell_type": "code",
   "execution_count": 15,
   "id": "0b497fed-1b8b-4dd0-8a90-c4d226a1bae1",
   "metadata": {},
   "outputs": [
    {
     "name": "stdout",
     "output_type": "stream",
     "text": [
      "run time = 2211.666257381439\n",
      "Silhouette Score: 0.0614530726915074\n",
      "Davies-Bouldin Score: 3.2662274566615586\n"
     ]
    },
    {
     "ename": "TypeError",
     "evalue": "slice indices must be integers or None or have an __index__ method",
     "output_type": "error",
     "traceback": [
      "\u001b[0;31m---------------------------------------------------------------------------\u001b[0m",
      "\u001b[0;31mTypeError\u001b[0m                                 Traceback (most recent call last)",
      "Cell \u001b[0;32mIn[15], line 1\u001b[0m\n\u001b[0;32m----> 1\u001b[0m \u001b[43mcompute_in_parallel\u001b[49m\u001b[43m(\u001b[49m\u001b[43mproteins\u001b[49m\u001b[38;5;241;43m=\u001b[39;49m\u001b[43mbase_prots_pI\u001b[49m\u001b[43m,\u001b[49m\u001b[43m \u001b[49m\u001b[43mcomparison_method\u001b[49m\u001b[38;5;241;43m=\u001b[39;49m\u001b[43m \u001b[49m\u001b[43mGW_protein_pI\u001b[49m\u001b[38;5;241;43m.\u001b[39;49m\u001b[43mrun_FGW\u001b[49m\u001b[43m,\u001b[49m\u001b[43m \u001b[49m\u001b[43malpha\u001b[49m\u001b[43m \u001b[49m\u001b[38;5;241;43m=\u001b[39;49m\u001b[43m \u001b[49m\u001b[38;5;241;43m0.05\u001b[39;49m\u001b[43m)\u001b[49m\n",
      "Cell \u001b[0;32mIn[7], line 13\u001b[0m, in \u001b[0;36mcompute_in_parallel\u001b[0;34m(proteins, comparison_method, returning, **kwargs)\u001b[0m\n\u001b[1;32m     10\u001b[0m         dist_mat[j,i] \u001b[38;5;241m=\u001b[39m d\n\u001b[1;32m     12\u001b[0m \u001b[38;5;28mprint\u001b[39m(\u001b[38;5;124mf\u001b[39m\u001b[38;5;124m'\u001b[39m\u001b[38;5;124mrun time = \u001b[39m\u001b[38;5;132;01m{\u001b[39;00mtime\u001b[38;5;241m.\u001b[39mtime()\u001b[38;5;250m \u001b[39m\u001b[38;5;241m-\u001b[39m\u001b[38;5;250m \u001b[39mstart_time\u001b[38;5;132;01m}\u001b[39;00m\u001b[38;5;124m'\u001b[39m)\n\u001b[0;32m---> 13\u001b[0m \u001b[43mdisplay\u001b[49m\u001b[43m(\u001b[49m\u001b[43mdist_mat\u001b[49m\u001b[43m)\u001b[49m\n\u001b[1;32m     14\u001b[0m \u001b[38;5;28;01mif\u001b[39;00m returning:\n\u001b[1;32m     15\u001b[0m     \u001b[38;5;28;01mreturn\u001b[39;00m dist_mat\n",
      "Cell \u001b[0;32mIn[6], line 14\u001b[0m, in \u001b[0;36mdisplay\u001b[0;34m(dist_mat)\u001b[0m\n\u001b[1;32m     12\u001b[0m embedding \u001b[38;5;241m=\u001b[39m reducer\u001b[38;5;241m.\u001b[39mfit_transform(dist_mat)\n\u001b[1;32m     13\u001b[0m plt\u001b[38;5;241m.\u001b[39mfigure(figsize\u001b[38;5;241m=\u001b[39m(\u001b[38;5;241m4\u001b[39m, \u001b[38;5;241m4\u001b[39m))\n\u001b[0;32m---> 14\u001b[0m plt\u001b[38;5;241m.\u001b[39mscatter(\u001b[43membedding\u001b[49m\u001b[43m[\u001b[49m\u001b[43m:\u001b[49m\u001b[43mN\u001b[49m\u001b[38;5;241;43m/\u001b[39;49m\u001b[38;5;241;43m2\u001b[39;49m\u001b[43m,\u001b[49m\u001b[43m \u001b[49m\u001b[38;5;241;43m0\u001b[39;49m\u001b[43m]\u001b[49m, embedding[:N\u001b[38;5;241m/\u001b[39m\u001b[38;5;241m/\u001b[39m\u001b[38;5;241m2\u001b[39m, \u001b[38;5;241m1\u001b[39m], c\u001b[38;5;241m=\u001b[39m [\u001b[38;5;124m'\u001b[39m\u001b[38;5;124mred\u001b[39m\u001b[38;5;124m'\u001b[39m]\u001b[38;5;241m*\u001b[39mN\u001b[38;5;241m/\u001b[39m\u001b[38;5;241m2\u001b[39m , s\u001b[38;5;241m=\u001b[39m\u001b[38;5;241m5\u001b[39m)\n\u001b[1;32m     15\u001b[0m plt\u001b[38;5;241m.\u001b[39mscatter(embedding[N\u001b[38;5;241m/\u001b[39m\u001b[38;5;241m2\u001b[39m:, \u001b[38;5;241m0\u001b[39m], embedding[N\u001b[38;5;241m/\u001b[39m\u001b[38;5;241m/\u001b[39m\u001b[38;5;241m2\u001b[39m:, \u001b[38;5;241m1\u001b[39m], c\u001b[38;5;241m=\u001b[39m [\u001b[38;5;124m'\u001b[39m\u001b[38;5;124mblue\u001b[39m\u001b[38;5;124m'\u001b[39m]\u001b[38;5;241m*\u001b[39mN\u001b[38;5;241m/\u001b[39m\u001b[38;5;241m2\u001b[39m , s\u001b[38;5;241m=\u001b[39m\u001b[38;5;241m5\u001b[39m)\n\u001b[1;32m     16\u001b[0m plt\u001b[38;5;241m.\u001b[39mlegend([\u001b[38;5;124m\"\u001b[39m\u001b[38;5;124mDupl.\u001b[39m\u001b[38;5;124m\"\u001b[39m , \u001b[38;5;124m\"\u001b[39m\u001b[38;5;124mLena.\u001b[39m\u001b[38;5;124m\"\u001b[39m])\n",
      "\u001b[0;31mTypeError\u001b[0m: slice indices must be integers or None or have an __index__ method"
     ]
    },
    {
     "data": {
      "text/plain": [
       "<Figure size 400x400 with 0 Axes>"
      ]
     },
     "metadata": {},
     "output_type": "display_data"
    }
   ],
   "source": [
    "compute_in_parallel(proteins=base_prots_pI, comparison_method= GW_protein_pI.run_FGW, alpha = 0.05)"
   ]
  },
  {
   "cell_type": "code",
   "execution_count": 11,
   "id": "3989e8a5-7e9b-4020-b229-eb909dc3f716",
   "metadata": {},
   "outputs": [],
   "source": [
    "convolved_prots = [p.convolve_pIs() for p in base_prots_pI]\n",
    "\n"
   ]
  },
  {
   "cell_type": "code",
   "execution_count": null,
   "id": "37fc577b-462d-4de0-82cf-ace4a9898d35",
   "metadata": {},
   "outputs": [],
   "source": [
    "compute_in_parallel(proteins=convolved_prots, comparison_method= GW_protein_pI.run_FGW_seq_aln, alpha = 0.05)"
   ]
  },
  {
   "cell_type": "code",
   "execution_count": null,
   "id": "10115e8c-aed9-4f51-bcff-af6ce6ddbd24",
   "metadata": {},
   "outputs": [],
   "source": [
    "compute_in_parallel(proteins=FGW_downsampled, comparison_method= GW_protein_pI.run_FGW, alpha = 0.05)"
   ]
  },
  {
   "cell_type": "code",
   "execution_count": 9,
   "id": "6cf0f691-02ca-4c99-881a-db2f7b7d79a5",
   "metadata": {},
   "outputs": [
    {
     "name": "stdout",
     "output_type": "stream",
     "text": [
      "> \u001b[0;32m/tmp/ipykernel_21296/2783908162.py\u001b[0m(1)\u001b[0;36m<module>\u001b[0;34m()\u001b[0m\n",
      "\u001b[0;32m----> 1 \u001b[0;31m\u001b[0mtype\u001b[0m\u001b[0;34m(\u001b[0m\u001b[0mp\u001b[0m\u001b[0;34m)\u001b[0m\u001b[0;34m\u001b[0m\u001b[0;34m\u001b[0m\u001b[0m\n",
      "\u001b[0m\n"
     ]
    },
    {
     "name": "stdin",
     "output_type": "stream",
     "text": [
      "ipdb>  p\n"
     ]
    },
    {
     "name": "stdout",
     "output_type": "stream",
     "text": [
      "*** SyntaxError: invalid syntax\n",
      "--KeyboardInterrupt--\n",
      "\n",
      "KeyboardInterrupt: Interrupted by user\n"
     ]
    }
   ],
   "source": [
    "%debug"
   ]
  },
  {
   "cell_type": "code",
   "execution_count": 12,
   "id": "338bfb55-6f60-41b1-9479-b751a44add82",
   "metadata": {},
   "outputs": [],
   "source": [
    "FGW_downsampled = [p.downsample_n(100) for p in convolved_prots]"
   ]
  },
  {
   "cell_type": "code",
   "execution_count": null,
   "id": "43015e01-79e1-4ce9-9a7e-8f585cbaf77c",
   "metadata": {},
   "outputs": [],
   "source": []
  }
 ],
 "metadata": {
  "kernelspec": {
   "display_name": "Python 3 (ipykernel)",
   "language": "python",
   "name": "python3"
  },
  "language_info": {
   "codemirror_mode": {
    "name": "ipython",
    "version": 3
   },
   "file_extension": ".py",
   "mimetype": "text/x-python",
   "name": "python",
   "nbconvert_exporter": "python",
   "pygments_lexer": "ipython3",
   "version": "3.10.12"
  }
 },
 "nbformat": 4,
 "nbformat_minor": 5
}
