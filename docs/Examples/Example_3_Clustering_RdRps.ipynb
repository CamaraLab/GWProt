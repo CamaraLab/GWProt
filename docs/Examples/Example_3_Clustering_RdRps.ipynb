{
 "cells": [
  {
   "cell_type": "markdown",
   "id": "32ef1567-c0a8-4ae3-a9b0-1d259729b526",
   "metadata": {},
   "source": [
    "Example 3: Clustering RdRps\n",
    "============================="
   ]
  },
  {
   "cell_type": "code",
   "execution_count": 1,
   "id": "86789648-6b77-4383-9a7b-cb64797f22fe",
   "metadata": {},
   "outputs": [
    {
     "name": "stderr",
     "output_type": "stream",
     "text": [
      "/home/jovyan/.local/lib/python3.10/site-packages/tqdm/auto.py:21: TqdmWarning: IProgress not found. Please update jupyter and ipywidgets. See https://ipywidgets.readthedocs.io/en/stable/user_install.html\n",
      "  from .autonotebook import tqdm as notebook_tqdm\n"
     ]
    }
   ],
   "source": [
    "import numpy as np\n",
    "import itertools as it\n",
    "import multiprocess\n",
    "import matplotlib.pyplot as plt\n",
    "import time\n",
    "import os\n",
    "from umap.umap_ import UMAP\n",
    "\n",
    "from GWProt.GW_protein import *\n",
    "from GWProt.GW_protein_pI import *"
   ]
  },
  {
   "cell_type": "markdown",
   "id": "dfb1bd4d-730d-4086-832d-59b902fe21e5",
   "metadata": {},
   "source": [
    "\n",
    "Riboviruses are a realm of viruses which include many human pathogens. They all have an essential RNA-dependent RNA-polymerase (RdRp) which is key to their replication machinery, has a high mutation rate, and often very low sequence homology; thus structural comparison can be key to identification and classification. In our benchmarking of GWProt, we used a dataset of 4,615 computationally determined (AlphaFold3) structures of viral RNA-dependent RNA polymerases (RdRp) as well as 512 non-RdRp “decoy” proteins, which were selected as non-viral homologs. For our testing we used taxonomical annotations retrieved from Entrez, with 5 phyla of riboviruses.\n",
    "\n",
    "Here we display a UMAP clustering of the different phyla and decoys:\n"
   ]
  },
  {
   "cell_type": "markdown",
   "id": "e0d9dae3-3bfc-4327-907d-ee71c60b1102",
   "metadata": {},
   "source": [
    "![Example_Data/Images/GW_Phylum_Clustering.PNG](Example_Data/Images/GW_Phylum_Clustering.PNG)"
   ]
  },
  {
   "cell_type": "markdown",
   "id": "79a7c82d-996b-416a-b2f2-bdf6afc106b5",
   "metadata": {},
   "source": [
    "In this tutorial we use a subset consisting of 50 randomly chosen RdRps from the phyla Lenaviricota and Duplornaviricota.\n",
    "We will run different variants of Gromov-Wasserstein which can be computed with GWProt to show their differences in clustering accuracy and runtime. All runtime is based on 16 parallel processes on a desktop computer. "
   ]
  },
  {
   "cell_type": "code",
   "execution_count": 2,
   "id": "e1638a7d-8ede-4e44-8f7a-ea86e01ae059",
   "metadata": {},
   "outputs": [],
   "source": [
    "duplos = [os.path.join(\"Example_Data/RdRp Proteins/Duplo_RdRps\", file) for file in os.listdir(\"Example_Data/RdRp Proteins/Duplo_RdRps\")]\n",
    "lenas = [os.path.join(\"Example_Data/RdRp Proteins/Lena_RdRps\", file) for file in os.listdir(\"Example_Data/RdRp Proteins/Lena_RdRps\")]\n",
    "\n",
    "pisus = [os.path.join(\"Example_Data/RdRp Proteins/Pisu_RdRps\", file) for file in os.listdir(\"Example_Data/RdRp Proteins/Pisu_RdRps\")]\n",
    "negas = [os.path.join(\"Example_Data/RdRp Proteins/Nega_RdRps\", file) for file in os.listdir(\"Example_Data/RdRp Proteins/Nega_RdRps\")]\n"
   ]
  },
  {
   "cell_type": "markdown",
   "id": "fc9f419d-5583-400d-81f8-205cd2f2b5cc",
   "metadata": {},
   "source": [
    "We define a helper method to compute pairwise all-vs-all GW distances, then display \n",
    "to compute the [silhoutte score](https://en.wikipedia.org/wiki/Silhouette_(clustering)#:~:text=The%20silhouette%20score%20is%20specialized,distance%20or%20the%20Manhattan%20distance.) and [Davies-Bouldin score](https://en.wikipedia.org/wiki/Davies–Bouldin_index), two basic measures of clustering to evaluate the accuracy of different methods in GWProt. A higher silhoutte score and lower Davies-Bouldin score mean better clustering."
   ]
  },
  {
   "cell_type": "code",
   "execution_count": 3,
   "id": "889ab742-5074-438d-84bf-1fd0da9ec275",
   "metadata": {},
   "outputs": [],
   "source": [
    "from sklearn.metrics import silhouette_score # higher is better\n",
    "from sklearn.metrics import davies_bouldin_score #lower is better\n",
    "\n",
    "def display(dist_mat):\n",
    "    N = dist_mat.shape[0]\n",
    "\n",
    "\n",
    "    print(f\"Silhouette Score: {silhouette_score(X = dist_mat, labels = [0 if i <(N//2) else 1 for i in range(N)], metric='precomputed')}\")\n",
    "    print(f\"Davies-Bouldin Score: {davies_bouldin_score(dist_mat, labels = [0 if i <(N//2) else 1 for i in range(N)])}\")\n",
    "    \n",
    "    reducer = UMAP(metric = 'precomputed', random_state=1)\n",
    "    embedding = reducer.fit_transform(dist_mat)\n",
    "    plt.figure(figsize=(4, 4))\n",
    "    plt.scatter(embedding[:(N//2), 0], embedding[:(N//2), 1], c= ['red']*(N//2) , s=5)\n",
    "    plt.scatter(embedding[(N//2):, 0], embedding[(N//2):, 1], c= ['blue']*(N//2) , s=5)\n",
    "    plt.legend([ \"Lena.\", \"Pisu.\"])\n",
    "    plt.show()\n",
    "    "
   ]
  },
  {
   "cell_type": "code",
   "execution_count": 4,
   "id": "8a5b04f6-e567-404c-901a-4a2878a6171e",
   "metadata": {},
   "outputs": [],
   "source": [
    "def compute_in_parallel(proteins, comparison_method, returning = False, **kwargs):\n",
    "    N = len(proteins)\n",
    "    dist_mat = np.zeros((N,N))\n",
    "    start_time = time.time()\n",
    "\n",
    "    with multiprocess.Pool() as pool:\n",
    "        for r in  pool.imap(lambda pair: (pair[0], pair[1], comparison_method(proteins[pair[0]], proteins[pair[1]], **kwargs)), it.combinations(range(N),2)):\n",
    "            i,j,d = r\n",
    "            dist_mat[i,j] = d\n",
    "            dist_mat[j,i] = d\n",
    "\n",
    "    run_time = int(time.time() - start_time)\n",
    "    \n",
    "    print(f'run time = {run_time//60} min, {run_time % 60} sec')\n",
    "    display(dist_mat)\n",
    "    if returning:\n",
    "        return dist_mat\n",
    "    "
   ]
  },
  {
   "cell_type": "markdown",
   "id": "7fa31a4b-291b-44dc-b2a2-ae8007bccf39",
   "metadata": {},
   "source": [
    "The main class in GWProt is `GW_protein`, whose objects contain the relevant data for a protein including the coordinates of each alpha-Carbon, the sequence, and the intra-protein distance matrix, an array containing all pairwise distances between alpha-Carbons. We can initialize objects in this class from PDB (protein databank) files."
   ]
  },
  {
   "cell_type": "code",
   "execution_count": 5,
   "id": "7a59d22d-24c2-409e-95d8-6372d43fcb03",
   "metadata": {},
   "outputs": [],
   "source": [
    "base_prots = [GW_protein.make_protein_from_pdb(file) for file in lenas + pisus]"
   ]
  },
  {
   "cell_type": "code",
   "execution_count": 6,
   "id": "35570074-a67f-43b3-8c2f-91250fd10ed8",
   "metadata": {},
   "outputs": [
    {
     "name": "stdout",
     "output_type": "stream",
     "text": [
      "run time = 5 min, 8 sec\n",
      "Silhouette Score: 0.14924461188337523\n",
      "Davies-Bouldin Score: 1.9348074777548403\n"
     ]
    },
    {
     "data": {
      "image/png": "[encoded data removed]",
      "text/plain": [
       "<Figure size 400x400 with 1 Axes>"
      ]
     },
     "metadata": {},
     "output_type": "display_data"
    }
   ],
   "source": [
    "GW_dist_mat = compute_in_parallel(proteins=base_prots, returning= True, comparison_method= GW_protein.run_GW)"
   ]
  },
  {
   "cell_type": "markdown",
   "id": "e5e0b2d2-ad17-4361-b2a8-4fd44e6ce8ff",
   "metadata": {},
   "source": [
    "We can downsample to an evenly spaced subset of the residues. This significantly improves the runtime but comes at the expense of accuracy. A higher downsampling rate is faster but generally is less accurate."
   ]
  },
  {
   "cell_type": "code",
   "execution_count": 8,
   "id": "a7f117a0-d36d-46a9-96d9-ca2104062360",
   "metadata": {},
   "outputs": [
    {
     "name": "stdout",
     "output_type": "stream",
     "text": [
      "run time = 0 min, 30 sec\n",
      "Silhouette Score: 0.12225568220905547\n",
      "Davies-Bouldin Score: 2.0897725025381066\n"
     ]
    },
    {
     "data": {
      "image/png": "[encoded data removed]",
      "text/plain": [
       "<Figure size 400x400 with 1 Axes>"
      ]
     },
     "metadata": {},
     "output_type": "display_data"
    }
   ],
   "source": [
    "downsampled_100_prots = [p.downsample_n(n=100) for p in base_prots]\n",
    "compute_in_parallel(proteins=downsampled_100_prots, comparison_method= GW_protein.run_GW)"
   ]
  },
  {
   "cell_type": "markdown",
   "id": "ecc2cee0-a156-4b42-87e8-5a54897c0640",
   "metadata": {},
   "source": [
    "We can also rescale the intra-protein distance matrices, where computing GW distances gives greater weight to local distances. This generally improves accuracy with minimal effect on runtime."
   ]
  },
  {
   "cell_type": "code",
   "execution_count": 9,
   "id": "b795b944-4984-4bd3-96cc-1006c8a47501",
   "metadata": {},
   "outputs": [
    {
     "name": "stdout",
     "output_type": "stream",
     "text": [
      "run time = 7 min, 36 sec\n",
      "Silhouette Score: 0.14603718508188573\n",
      "Davies-Bouldin Score: 1.8802514865060744\n"
     ]
    },
    {
     "data": {
      "image/png": "[encoded data removed]",
      "text/plain": [
       "<Figure size 400x400 with 1 Axes>"
      ]
     },
     "metadata": {},
     "output_type": "display_data"
    },
    {
     "data": {
      "text/plain": [
       "array([[0.        , 0.23889857, 0.2261385 , ..., 0.3861402 , 0.25946949,\n",
       "        0.3651169 ],\n",
       "       [0.23889857, 0.        , 0.21583184, ..., 0.29943112, 0.24855051,\n",
       "        0.32303065],\n",
       "       [0.2261385 , 0.21583184, 0.        , ..., 0.32754094, 0.27984979,\n",
       "        0.32353431],\n",
       "       ...,\n",
       "       [0.3861402 , 0.29943112, 0.32754094, ..., 0.        , 0.31580879,\n",
       "        0.33806336],\n",
       "       [0.25946949, 0.24855051, 0.27984979, ..., 0.31580879, 0.        ,\n",
       "        0.33370766],\n",
       "       [0.3651169 , 0.32303065, 0.32353431, ..., 0.33806336, 0.33370766,\n",
       "        0.        ]])"
      ]
     },
     "execution_count": 9,
     "metadata": {},
     "output_type": "execute_result"
    }
   ],
   "source": [
    "scaled_prots = [p.scale_ipdm(inplace = False) for p in base_prots]\n",
    "compute_in_parallel(proteins=scaled_prots, returning= True, comparison_method= GW_protein.run_GW)"
   ]
  },
  {
   "cell_type": "markdown",
   "id": "bbbb2469-4296-4a2d-b01f-8c9f50776bf2",
   "metadata": {},
   "source": [
    "We can also combine downsampling with scaling and we check that the order does not matter:"
   ]
  },
  {
   "cell_type": "code",
   "execution_count": 10,
   "id": "e80f1551-8cf4-43da-966c-e8f7c36ee8ed",
   "metadata": {},
   "outputs": [],
   "source": [
    "downsampled_then_scaled_prots = [p.scale_ipdm(inplace = False) for p in downsampled_100_prots]\n",
    "scaled_then_downsampled_prots = [p.downsample_n(n=100) for p in scaled_prots]\n",
    "assert downsampled_then_scaled_prots == scaled_then_downsampled_prots"
   ]
  },
  {
   "cell_type": "code",
   "execution_count": 11,
   "id": "81914052-24d3-4ea4-814b-3216cf3168e6",
   "metadata": {},
   "outputs": [
    {
     "name": "stdout",
     "output_type": "stream",
     "text": [
      "run time = 0 min, 35 sec\n",
      "Silhouette Score: 0.12478009274520394\n",
      "Davies-Bouldin Score: 1.8948958440721715\n"
     ]
    },
    {
     "data": {
      "image/png": "[encoded data removed]",
      "text/plain": [
       "<Figure size 400x400 with 1 Axes>"
      ]
     },
     "metadata": {},
     "output_type": "display_data"
    }
   ],
   "source": [
    "compute_in_parallel(proteins=downsampled_then_scaled_prots, comparison_method= GW_protein.run_GW)"
   ]
  },
  {
   "cell_type": "markdown",
   "id": "50f13100-28eb-47b3-a392-47f93761d036",
   "metadata": {},
   "source": [
    "Next we confirm that this agrees with running GW directly from CAJAL cell objects. In this case the CAJAL cells are initialized once at the start as opposed to for reinitialization for each pairwise computation so is slightly faster, especially on larger datasets."
   ]
  },
  {
   "cell_type": "code",
   "execution_count": 12,
   "id": "61d68a5c-ff5f-4594-82ad-2033ee636f09",
   "metadata": {},
   "outputs": [
    {
     "name": "stdout",
     "output_type": "stream",
     "text": [
      "run time = 7 min, 9 sec\n",
      "Silhouette Score: 0.14924461188337523\n",
      "Davies-Bouldin Score: 1.9348074777548403\n"
     ]
    },
    {
     "data": {
      "image/png": "[encoded data removed]",
      "text/plain": [
       "<Figure size 400x400 with 1 Axes>"
      ]
     },
     "metadata": {},
     "output_type": "display_data"
    }
   ],
   "source": [
    "cajal_cells = [p.make_cajal_cell() for p in base_prots]\n",
    "GW_cajal_dist_mat = compute_in_parallel(cajal_cells, GW_protein.run_GW_from_cajal, returning =True)\n",
    "assert np.isclose(GW_cajal_dist_mat, GW_dist_mat).all()\n"
   ]
  },
  {
   "cell_type": "markdown",
   "id": "6e62ed1e-879f-43c4-bf15-2f9b760af637",
   "metadata": {},
   "source": [
    "Next we demonstrate how to use fused GW with difference based on a BLOSUM matrix. FGW has the potential to improve accuracy but depends on the data used. It generally has a similar runtime as basic GW. "
   ]
  },
  {
   "cell_type": "code",
   "execution_count": 13,
   "id": "5aea20ae-0029-4242-9a14-8a3b3d5b17d7",
   "metadata": {},
   "outputs": [],
   "source": [
    "import GWProt.FGW_matrices"
   ]
  },
  {
   "cell_type": "code",
   "execution_count": 14,
   "id": "7ac74beb-bc5c-4479-8958-c52840936855",
   "metadata": {},
   "outputs": [
    {
     "name": "stderr",
     "output_type": "stream",
     "text": [
      "Process ForkPoolWorker-110:\n",
      "Process ForkPoolWorker-108:\n",
      "Process ForkPoolWorker-100:\n",
      "Process ForkPoolWorker-109:\n",
      "Process ForkPoolWorker-112:\n",
      "Process ForkPoolWorker-105:\n",
      "Process ForkPoolWorker-104:\n",
      "Traceback (most recent call last):\n",
      "Traceback (most recent call last):\n",
      "Traceback (most recent call last):\n",
      "Traceback (most recent call last):\n",
      "  File \"/home/jovyan/.local/lib/python3.10/site-packages/multiprocess/process.py\", line 314, in _bootstrap\n",
      "    self.run()\n",
      "Traceback (most recent call last):\n",
      "  File \"/home/jovyan/.local/lib/python3.10/site-packages/multiprocess/process.py\", line 314, in _bootstrap\n",
      "    self.run()\n",
      "  File \"/home/jovyan/.local/lib/python3.10/site-packages/multiprocess/process.py\", line 108, in run\n",
      "    self._target(*self._args, **self._kwargs)\n",
      "  File \"/home/jovyan/.local/lib/python3.10/site-packages/multiprocess/process.py\", line 108, in run\n",
      "    self._target(*self._args, **self._kwargs)\n",
      "Process ForkPoolWorker-98:\n",
      "  File \"/home/jovyan/.local/lib/python3.10/site-packages/multiprocess/pool.py\", line 114, in worker\n",
      "    task = get()\n",
      "  File \"/home/jovyan/.local/lib/python3.10/site-packages/multiprocess/process.py\", line 314, in _bootstrap\n",
      "    self.run()\n",
      "  File \"/home/jovyan/.local/lib/python3.10/site-packages/multiprocess/process.py\", line 314, in _bootstrap\n",
      "    self.run()\n",
      "  File \"/home/jovyan/.local/lib/python3.10/site-packages/multiprocess/pool.py\", line 114, in worker\n",
      "    task = get()\n",
      "  File \"/home/jovyan/.local/lib/python3.10/site-packages/multiprocess/queues.py\", line 367, in get\n",
      "    with self._rlock:\n",
      "  File \"/home/jovyan/.local/lib/python3.10/site-packages/multiprocess/process.py\", line 108, in run\n",
      "    self._target(*self._args, **self._kwargs)\n",
      "  File \"/home/jovyan/.local/lib/python3.10/site-packages/multiprocess/process.py\", line 314, in _bootstrap\n",
      "    self.run()\n",
      "  File \"/home/jovyan/.local/lib/python3.10/site-packages/multiprocess/queues.py\", line 367, in get\n",
      "    with self._rlock:\n",
      "  File \"/home/jovyan/.local/lib/python3.10/site-packages/multiprocess/synchronize.py\", line 101, in __enter__\n",
      "    return self._semlock.__enter__()\n",
      "Traceback (most recent call last):\n",
      "Process ForkPoolWorker-103:\n",
      "  File \"/home/jovyan/.local/lib/python3.10/site-packages/multiprocess/synchronize.py\", line 101, in __enter__\n",
      "    return self._semlock.__enter__()\n",
      "Process ForkPoolWorker-97:\n",
      "KeyboardInterrupt\n",
      "  File \"/home/jovyan/.local/lib/python3.10/site-packages/multiprocess/process.py\", line 314, in _bootstrap\n",
      "    self.run()\n",
      "Traceback (most recent call last):\n",
      "KeyboardInterrupt\n",
      "  File \"/home/jovyan/.local/lib/python3.10/site-packages/multiprocess/process.py\", line 108, in run\n",
      "    self._target(*self._args, **self._kwargs)\n",
      "  File \"/home/jovyan/.local/lib/python3.10/site-packages/multiprocess/process.py\", line 108, in run\n",
      "    self._target(*self._args, **self._kwargs)\n",
      "Traceback (most recent call last):\n",
      "Traceback (most recent call last):\n",
      "  File \"/home/jovyan/.local/lib/python3.10/site-packages/multiprocess/pool.py\", line 114, in worker\n",
      "    task = get()\n",
      "  File \"/home/jovyan/.local/lib/python3.10/site-packages/multiprocess/pool.py\", line 114, in worker\n",
      "    task = get()\n",
      "Traceback (most recent call last):\n",
      "Process ForkPoolWorker-102:\n",
      "  File \"/home/jovyan/.local/lib/python3.10/site-packages/multiprocess/process.py\", line 108, in run\n",
      "    self._target(*self._args, **self._kwargs)\n",
      "  File \"/home/jovyan/.local/lib/python3.10/site-packages/multiprocess/queues.py\", line 367, in get\n",
      "    with self._rlock:\n",
      "Process ForkPoolWorker-106:\n",
      "  File \"/home/jovyan/.local/lib/python3.10/site-packages/multiprocess/pool.py\", line 114, in worker\n",
      "    task = get()\n",
      "  File \"/home/jovyan/.local/lib/python3.10/site-packages/multiprocess/pool.py\", line 114, in worker\n",
      "    task = get()\n",
      "  File \"/home/jovyan/.local/lib/python3.10/site-packages/multiprocess/queues.py\", line 367, in get\n",
      "    with self._rlock:\n",
      "  File \"/home/jovyan/.local/lib/python3.10/site-packages/multiprocess/synchronize.py\", line 101, in __enter__\n",
      "    return self._semlock.__enter__()\n",
      "Traceback (most recent call last):\n",
      "  File \"/home/jovyan/.local/lib/python3.10/site-packages/multiprocess/queues.py\", line 368, in get\n",
      "    res = self._reader.recv_bytes()\n",
      "  File \"/home/jovyan/.local/lib/python3.10/site-packages/multiprocess/queues.py\", line 370, in get\n",
      "    return _ForkingPickler.loads(res)\n",
      "  File \"/home/jovyan/.local/lib/python3.10/site-packages/multiprocess/process.py\", line 314, in _bootstrap\n",
      "    self.run()\n",
      "  File \"/home/jovyan/.local/lib/python3.10/site-packages/multiprocess/process.py\", line 314, in _bootstrap\n",
      "    self.run()\n",
      "  File \"/home/jovyan/.local/lib/python3.10/site-packages/multiprocess/process.py\", line 314, in _bootstrap\n",
      "    self.run()\n",
      "KeyboardInterrupt\n",
      "  File \"/home/jovyan/.local/lib/python3.10/site-packages/dill/_dill.py\", line 311, in loads\n",
      "    return load(file, ignore, **kwds)\n",
      "  File \"/home/jovyan/.local/lib/python3.10/site-packages/multiprocess/process.py\", line 108, in run\n",
      "    self._target(*self._args, **self._kwargs)\n",
      "  File \"/home/jovyan/.local/lib/python3.10/site-packages/multiprocess/connection.py\", line 219, in recv_bytes\n",
      "    buf = self._recv_bytes(maxlength)\n",
      "  File \"/home/jovyan/.local/lib/python3.10/site-packages/multiprocess/process.py\", line 108, in run\n",
      "    self._target(*self._args, **self._kwargs)\n",
      "  File \"/home/jovyan/.local/lib/python3.10/site-packages/multiprocess/connection.py\", line 417, in _recv_bytes\n",
      "    buf = self._recv(4)\n",
      "  File \"/home/jovyan/.local/lib/python3.10/site-packages/multiprocess/pool.py\", line 125, in worker\n",
      "    result = (True, func(*args, **kwds))\n",
      "  File \"/home/jovyan/.local/lib/python3.10/site-packages/dill/_dill.py\", line 297, in load\n",
      "    return Unpickler(file, ignore=ignore, **kwds).load()\n",
      "  File \"/home/jovyan/.local/lib/python3.10/site-packages/multiprocess/process.py\", line 314, in _bootstrap\n",
      "    self.run()\n",
      "  File \"/home/jovyan/.local/lib/python3.10/site-packages/multiprocess/connection.py\", line 382, in _recv\n",
      "    chunk = read(handle, remaining)\n",
      "  File \"/home/jovyan/.local/lib/python3.10/site-packages/multiprocess/pool.py\", line 125, in worker\n",
      "    result = (True, func(*args, **kwds))\n",
      "  File \"/tmp/ipykernel_27028/373473351.py\", line 7, in <lambda>\n",
      "    for r in  pool.imap(lambda pair: (pair[0], pair[1], comparison_method(proteins[pair[0]], proteins[pair[1]], **kwargs)), it.combinations(range(N),2)):\n",
      "  File \"/home/jovyan/.local/lib/python3.10/site-packages/dill/_dill.py\", line 452, in load\n",
      "    obj = StockUnpickler.load(self)\n",
      "  File \"/home/jovyan/.local/lib/python3.10/site-packages/multiprocess/process.py\", line 108, in run\n",
      "    self._target(*self._args, **self._kwargs)\n",
      "  File \"/opt/conda/lib/python3.10/contextlib.py\", line 79, in inner\n",
      "    return func(*args, **kwds)\n",
      "  File \"/home/jovyan/.local/lib/python3.10/site-packages/dill/_dill.py\", line 964, in _create_array\n",
      "    def _create_array(f, args, state, npdict=None):\n",
      "  File \"/home/jovyan/.local/lib/python3.10/site-packages/multiprocess/process.py\", line 314, in _bootstrap\n",
      "    self.run()\n",
      "Traceback (most recent call last):\n",
      "  File \"/tmp/ipykernel_27028/373473351.py\", line 7, in <lambda>\n",
      "    for r in  pool.imap(lambda pair: (pair[0], pair[1], comparison_method(proteins[pair[0]], proteins[pair[1]], **kwargs)), it.combinations(range(N),2)):\n",
      "  File \"/home/jovyan/.local/lib/python3.10/site-packages/multiprocess/pool.py\", line 125, in worker\n",
      "    result = (True, func(*args, **kwds))\n",
      "  File \"/home/jovyan/.local/lib/python3.10/site-packages/multiprocess/process.py\", line 108, in run\n",
      "    self._target(*self._args, **self._kwargs)\n",
      "  File \"/home/jovyan/.local/lib/python3.10/site-packages/multiprocess/synchronize.py\", line 101, in __enter__\n",
      "    return self._semlock.__enter__()\n",
      "Process ForkPoolWorker-101:\n",
      "KeyboardInterrupt\n",
      "Process ForkPoolWorker-111:\n",
      "  File \"/home/jovyan/gwprot/GWProt/GW_protein.py\", line 543, in run_FGW_dict\n",
      "    T , log= ot.fused_gromov_wasserstein(M=M, C1=D1, C2=D2, alpha = alpha, p= prot1.distribution ,q=prot2.distribution, G0 = G0, loss_fun='square_loss', log = True)\n",
      "KeyboardInterrupt\n",
      "Process ForkPoolWorker-107:\n",
      "  File \"/home/jovyan/.local/lib/python3.10/site-packages/multiprocess/process.py\", line 108, in run\n",
      "    self._target(*self._args, **self._kwargs)\n",
      "  File \"/tmp/ipykernel_27028/373473351.py\", line 7, in <lambda>\n",
      "    for r in  pool.imap(lambda pair: (pair[0], pair[1], comparison_method(proteins[pair[0]], proteins[pair[1]], **kwargs)), it.combinations(range(N),2)):\n",
      "  File \"/home/jovyan/.local/lib/python3.10/site-packages/multiprocess/process.py\", line 314, in _bootstrap\n",
      "    self.run()\n",
      "  File \"/opt/conda/lib/python3.10/contextlib.py\", line 79, in inner\n",
      "    return func(*args, **kwds)\n",
      "  File \"/home/jovyan/.local/lib/python3.10/site-packages/multiprocess/pool.py\", line 125, in worker\n",
      "    result = (True, func(*args, **kwds))\n",
      "Process ForkPoolWorker-99:\n",
      "  File \"/home/jovyan/.local/lib/python3.10/site-packages/ot/gromov/_gw.py\", line 492, in fused_gromov_wasserstein\n",
      "    res, log = cg(p, q, (1 - alpha) * M, alpha, f, df, G0, line_search, log=True, numItermax=max_iter, stopThr=tol_rel, stopThr2=tol_abs, **kwargs)\n",
      "  File \"/tmp/ipykernel_27028/373473351.py\", line 7, in <lambda>\n",
      "    for r in  pool.imap(lambda pair: (pair[0], pair[1], comparison_method(proteins[pair[0]], proteins[pair[1]], **kwargs)), it.combinations(range(N),2)):\n",
      "Traceback (most recent call last):\n",
      "  File \"/home/jovyan/.local/lib/python3.10/site-packages/multiprocess/pool.py\", line 114, in worker\n",
      "    task = get()\n",
      "Traceback (most recent call last):\n",
      "  File \"/opt/conda/lib/python3.10/contextlib.py\", line 79, in inner\n",
      "    return func(*args, **kwds)\n",
      "KeyboardInterrupt\n",
      "  File \"/home/jovyan/gwprot/GWProt/GW_protein.py\", line 543, in run_FGW_dict\n",
      "    T , log= ot.fused_gromov_wasserstein(M=M, C1=D1, C2=D2, alpha = alpha, p= prot1.distribution ,q=prot2.distribution, G0 = G0, loss_fun='square_loss', log = True)\n",
      "Traceback (most recent call last):\n",
      "  File \"/opt/conda/lib/python3.10/contextlib.py\", line 79, in inner\n",
      "    return func(*args, **kwds)\n",
      "  File \"/home/jovyan/.local/lib/python3.10/site-packages/multiprocess/process.py\", line 108, in run\n",
      "    self._target(*self._args, **self._kwargs)\n",
      "  File \"/home/jovyan/.local/lib/python3.10/site-packages/multiprocess/process.py\", line 314, in _bootstrap\n",
      "    self.run()\n",
      "Traceback (most recent call last):\n",
      "  File \"/home/jovyan/.local/lib/python3.10/site-packages/multiprocess/process.py\", line 314, in _bootstrap\n",
      "    self.run()\n",
      "  File \"/home/jovyan/.local/lib/python3.10/site-packages/multiprocess/queues.py\", line 367, in get\n",
      "    with self._rlock:\n",
      "  File \"/home/jovyan/.local/lib/python3.10/site-packages/multiprocess/process.py\", line 108, in run\n",
      "    self._target(*self._args, **self._kwargs)\n",
      "  File \"/home/jovyan/gwprot/GWProt/GW_protein.py\", line 541, in run_FGW_dict\n",
      "    G0 = id_initial_coupling(prot1.distribution,prot2.distribution)\n",
      "  File \"/home/jovyan/.local/lib/python3.10/site-packages/multiprocess/process.py\", line 314, in _bootstrap\n",
      "    self.run()\n",
      "  File \"/home/jovyan/.local/lib/python3.10/site-packages/multiprocess/process.py\", line 108, in run\n",
      "    self._target(*self._args, **self._kwargs)\n",
      "  File \"/home/jovyan/.local/lib/python3.10/site-packages/ot/optim.py\", line 400, in cg\n",
      "    return generic_conditional_gradient(a, b, M, f, df, reg, None, lp_solver, line_search, G0=G0,\n",
      "  File \"/home/jovyan/.local/lib/python3.10/site-packages/multiprocess/pool.py\", line 114, in worker\n",
      "    task = get()\n",
      "  File \"/home/jovyan/.local/lib/python3.10/site-packages/multiprocess/process.py\", line 314, in _bootstrap\n",
      "    self.run()\n",
      "  File \"/home/jovyan/.local/lib/python3.10/site-packages/multiprocess/synchronize.py\", line 101, in __enter__\n",
      "    return self._semlock.__enter__()\n",
      "  File \"/home/jovyan/.local/lib/python3.10/site-packages/multiprocess/pool.py\", line 125, in worker\n",
      "    result = (True, func(*args, **kwds))\n",
      "  File \"/home/jovyan/.local/lib/python3.10/site-packages/ot/gromov/_gw.py\", line 492, in fused_gromov_wasserstein\n",
      "    res, log = cg(p, q, (1 - alpha) * M, alpha, f, df, G0, line_search, log=True, numItermax=max_iter, stopThr=tol_rel, stopThr2=tol_abs, **kwargs)\n",
      "  File \"/home/jovyan/.local/lib/python3.10/site-packages/multiprocess/process.py\", line 108, in run\n",
      "    self._target(*self._args, **self._kwargs)\n",
      "  File \"/home/jovyan/gwprot/GWProt/GW_protein.py\", line 543, in run_FGW_dict\n",
      "    T , log= ot.fused_gromov_wasserstein(M=M, C1=D1, C2=D2, alpha = alpha, p= prot1.distribution ,q=prot2.distribution, G0 = G0, loss_fun='square_loss', log = True)\n",
      "  File \"/tmp/ipykernel_27028/373473351.py\", line 7, in <lambda>\n",
      "    for r in  pool.imap(lambda pair: (pair[0], pair[1], comparison_method(proteins[pair[0]], proteins[pair[1]], **kwargs)), it.combinations(range(N),2)):\n",
      "  File \"/home/jovyan/.local/lib/python3.10/site-packages/multiprocess/queues.py\", line 367, in get\n",
      "    with self._rlock:\n",
      "  File \"/home/jovyan/.local/lib/python3.10/site-packages/multiprocess/pool.py\", line 125, in worker\n",
      "    result = (True, func(*args, **kwds))\n",
      "KeyboardInterrupt\n",
      "  File \"/home/jovyan/gwprot/GWProt/GW_scripts.py\", line 85, in id_initial_coupling\n",
      "    P[i,j] = get_overlap(a_cdf[i],a_cdf[i+1], b_cdf[j],b_cdf[j+1])\n",
      "  File \"/home/jovyan/.local/lib/python3.10/site-packages/multiprocess/process.py\", line 108, in run\n",
      "    self._target(*self._args, **self._kwargs)\n",
      "  File \"/home/jovyan/.local/lib/python3.10/site-packages/ot/optim.py\", line 285, in generic_conditional_gradient\n",
      "    Gc, innerlog_ = lp_solver(a, b, Mi, **kwargs)\n",
      "  File \"/home/jovyan/.local/lib/python3.10/site-packages/multiprocess/pool.py\", line 125, in worker\n",
      "    result = (True, func(*args, **kwds))\n",
      "  File \"/opt/conda/lib/python3.10/contextlib.py\", line 79, in inner\n",
      "    return func(*args, **kwds)\n",
      "  File \"/home/jovyan/.local/lib/python3.10/site-packages/ot/optim.py\", line 400, in cg\n",
      "    return generic_conditional_gradient(a, b, M, f, df, reg, None, lp_solver, line_search, G0=G0,\n",
      "  File \"/home/jovyan/.local/lib/python3.10/site-packages/ot/gromov/_gw.py\", line 492, in fused_gromov_wasserstein\n",
      "    res, log = cg(p, q, (1 - alpha) * M, alpha, f, df, G0, line_search, log=True, numItermax=max_iter, stopThr=tol_rel, stopThr2=tol_abs, **kwargs)\n",
      "  File \"/home/jovyan/.local/lib/python3.10/site-packages/multiprocess/synchronize.py\", line 101, in __enter__\n",
      "    return self._semlock.__enter__()\n",
      "  File \"/tmp/ipykernel_27028/373473351.py\", line 7, in <lambda>\n",
      "    for r in  pool.imap(lambda pair: (pair[0], pair[1], comparison_method(proteins[pair[0]], proteins[pair[1]], **kwargs)), it.combinations(range(N),2)):\n",
      "KeyboardInterrupt\n",
      "  File \"/home/jovyan/.local/lib/python3.10/site-packages/ot/optim.py\", line 400, in cg\n",
      "    return generic_conditional_gradient(a, b, M, f, df, reg, None, lp_solver, line_search, G0=G0,\n",
      "  File \"/home/jovyan/.local/lib/python3.10/site-packages/ot/optim.py\", line 290, in generic_conditional_gradient\n",
      "    alpha, fc, cost_G = line_search(cost, G, deltaG, Mi, cost_G, **kwargs)\n",
      "  File \"/tmp/ipykernel_27028/373473351.py\", line 7, in <lambda>\n",
      "    for r in  pool.imap(lambda pair: (pair[0], pair[1], comparison_method(proteins[pair[0]], proteins[pair[1]], **kwargs)), it.combinations(range(N),2)):\n",
      "  File \"/home/jovyan/.local/lib/python3.10/site-packages/multiprocess/pool.py\", line 125, in worker\n",
      "    result = (True, func(*args, **kwds))\n",
      "KeyboardInterrupt\n",
      "  File \"/home/jovyan/.local/lib/python3.10/site-packages/ot/gromov/_gw.py\", line 482, in line_search\n",
      "    return solve_gromov_linesearch(G, deltaG, cost_G, hC1, hC2, M=(1 - alpha) * M, reg=alpha, nx=np_, symmetric=symmetric, **kwargs)\n",
      "  File \"/home/jovyan/.local/lib/python3.10/site-packages/ot/gromov/_gw.py\", line 649, in solve_gromov_linesearch\n",
      "    def solve_gromov_linesearch(G, deltaG, cost_G, C1, C2, M, reg,\n",
      "  File \"/opt/conda/lib/python3.10/contextlib.py\", line 79, in inner\n",
      "    return func(*args, **kwds)\n",
      "  File \"/tmp/ipykernel_27028/373473351.py\", line 7, in <lambda>\n",
      "    for r in  pool.imap(lambda pair: (pair[0], pair[1], comparison_method(proteins[pair[0]], proteins[pair[1]], **kwargs)), it.combinations(range(N),2)):\n",
      "KeyboardInterrupt\n",
      "  File \"/opt/conda/lib/python3.10/contextlib.py\", line 79, in inner\n",
      "    return func(*args, **kwds)\n",
      "  File \"/home/jovyan/gwprot/GWProt/GW_protein.py\", line 543, in run_FGW_dict\n",
      "    T , log= ot.fused_gromov_wasserstein(M=M, C1=D1, C2=D2, alpha = alpha, p= prot1.distribution ,q=prot2.distribution, G0 = G0, loss_fun='square_loss', log = True)\n",
      "  File \"/home/jovyan/.local/lib/python3.10/site-packages/ot/optim.py\", line 398, in lp_solver\n",
      "    return emd(a, b, M, numItermaxEmd, log=True)\n",
      "  File \"/home/jovyan/gwprot/GWProt/GW_protein.py\", line 543, in run_FGW_dict\n",
      "    T , log= ot.fused_gromov_wasserstein(M=M, C1=D1, C2=D2, alpha = alpha, p= prot1.distribution ,q=prot2.distribution, G0 = G0, loss_fun='square_loss', log = True)\n",
      "  File \"/home/jovyan/.local/lib/python3.10/site-packages/ot/gromov/_gw.py\", line 492, in fused_gromov_wasserstein\n",
      "    res, log = cg(p, q, (1 - alpha) * M, alpha, f, df, G0, line_search, log=True, numItermax=max_iter, stopThr=tol_rel, stopThr2=tol_abs, **kwargs)\n",
      "  File \"/home/jovyan/.local/lib/python3.10/site-packages/ot/gromov/_gw.py\", line 492, in fused_gromov_wasserstein\n",
      "    res, log = cg(p, q, (1 - alpha) * M, alpha, f, df, G0, line_search, log=True, numItermax=max_iter, stopThr=tol_rel, stopThr2=tol_abs, **kwargs)\n",
      "  File \"/home/jovyan/.local/lib/python3.10/site-packages/ot/optim.py\", line 400, in cg\n",
      "    return generic_conditional_gradient(a, b, M, f, df, reg, None, lp_solver, line_search, G0=G0,\n",
      "  File \"/home/jovyan/gwprot/GWProt/GW_protein.py\", line 543, in run_FGW_dict\n",
      "    T , log= ot.fused_gromov_wasserstein(M=M, C1=D1, C2=D2, alpha = alpha, p= prot1.distribution ,q=prot2.distribution, G0 = G0, loss_fun='square_loss', log = True)\n",
      "  File \"/opt/conda/lib/python3.10/contextlib.py\", line 79, in inner\n",
      "    return func(*args, **kwds)\n",
      "  File \"/home/jovyan/.local/lib/python3.10/site-packages/ot/optim.py\", line 290, in generic_conditional_gradient\n",
      "    alpha, fc, cost_G = line_search(cost, G, deltaG, Mi, cost_G, **kwargs)\n",
      "  File \"/home/jovyan/.local/lib/python3.10/site-packages/ot/lp/__init__.py\", line 353, in emd\n",
      "    G, cost, u, v, result_code = emd_c(a, b, M, numItermax, numThreads)\n",
      "  File \"/home/jovyan/.local/lib/python3.10/site-packages/ot/optim.py\", line 285, in generic_conditional_gradient\n",
      "    Gc, innerlog_ = lp_solver(a, b, Mi, **kwargs)\n",
      "  File \"/home/jovyan/.local/lib/python3.10/site-packages/ot/optim.py\", line 400, in cg\n",
      "    return generic_conditional_gradient(a, b, M, f, df, reg, None, lp_solver, line_search, G0=G0,\n",
      "  File \"/home/jovyan/.local/lib/python3.10/site-packages/ot/gromov/_gw.py\", line 492, in fused_gromov_wasserstein\n",
      "    res, log = cg(p, q, (1 - alpha) * M, alpha, f, df, G0, line_search, log=True, numItermax=max_iter, stopThr=tol_rel, stopThr2=tol_abs, **kwargs)\n",
      "  File \"/home/jovyan/.local/lib/python3.10/site-packages/ot/gromov/_gw.py\", line 482, in line_search\n",
      "    return solve_gromov_linesearch(G, deltaG, cost_G, hC1, hC2, M=(1 - alpha) * M, reg=alpha, nx=np_, symmetric=symmetric, **kwargs)\n",
      "KeyboardInterrupt\n",
      "  File \"/home/jovyan/.local/lib/python3.10/site-packages/ot/optim.py\", line 398, in lp_solver\n",
      "    return emd(a, b, M, numItermaxEmd, log=True)\n",
      "  File \"/home/jovyan/gwprot/GWProt/GW_protein.py\", line 543, in run_FGW_dict\n",
      "    T , log= ot.fused_gromov_wasserstein(M=M, C1=D1, C2=D2, alpha = alpha, p= prot1.distribution ,q=prot2.distribution, G0 = G0, loss_fun='square_loss', log = True)\n",
      "  File \"/home/jovyan/.local/lib/python3.10/site-packages/ot/optim.py\", line 285, in generic_conditional_gradient\n",
      "    Gc, innerlog_ = lp_solver(a, b, Mi, **kwargs)\n",
      "  File \"/home/jovyan/.local/lib/python3.10/site-packages/ot/gromov/_gw.py\", line 492, in fused_gromov_wasserstein\n",
      "    res, log = cg(p, q, (1 - alpha) * M, alpha, f, df, G0, line_search, log=True, numItermax=max_iter, stopThr=tol_rel, stopThr2=tol_abs, **kwargs)\n",
      "  File \"/home/jovyan/.local/lib/python3.10/site-packages/ot/optim.py\", line 400, in cg\n",
      "    return generic_conditional_gradient(a, b, M, f, df, reg, None, lp_solver, line_search, G0=G0,\n",
      "  File \"/home/jovyan/.local/lib/python3.10/site-packages/ot/gromov/_gw.py\", line 711, in solve_gromov_linesearch\n",
      "    dot = nx.dot(nx.dot(C1, deltaG), C2.T)\n",
      "  File \"/home/jovyan/.local/lib/python3.10/site-packages/ot/lp/__init__.py\", line 353, in emd\n",
      "    G, cost, u, v, result_code = emd_c(a, b, M, numItermax, numThreads)\n",
      "  File \"/home/jovyan/.local/lib/python3.10/site-packages/ot/optim.py\", line 400, in cg\n",
      "    return generic_conditional_gradient(a, b, M, f, df, reg, None, lp_solver, line_search, G0=G0,\n",
      "KeyboardInterrupt\n",
      "  File \"/home/jovyan/.local/lib/python3.10/site-packages/ot/optim.py\", line 285, in generic_conditional_gradient\n",
      "    Gc, innerlog_ = lp_solver(a, b, Mi, **kwargs)\n",
      "  File \"/home/jovyan/.local/lib/python3.10/site-packages/ot/optim.py\", line 398, in lp_solver\n",
      "    return emd(a, b, M, numItermaxEmd, log=True)\n",
      "  File \"/home/jovyan/.local/lib/python3.10/site-packages/ot/backend.py\", line 1144, in dot\n",
      "    return np.dot(a, b)\n",
      "  File \"/home/jovyan/.local/lib/python3.10/site-packages/ot/optim.py\", line 398, in lp_solver\n",
      "    return emd(a, b, M, numItermaxEmd, log=True)\n",
      "KeyboardInterrupt\n",
      "  File \"/home/jovyan/.local/lib/python3.10/site-packages/ot/optim.py\", line 285, in generic_conditional_gradient\n",
      "    Gc, innerlog_ = lp_solver(a, b, Mi, **kwargs)\n",
      "  File \"/home/jovyan/.local/lib/python3.10/site-packages/ot/lp/__init__.py\", line 353, in emd\n",
      "    G, cost, u, v, result_code = emd_c(a, b, M, numItermax, numThreads)\n",
      "  File \"/home/jovyan/.local/lib/python3.10/site-packages/ot/lp/__init__.py\", line 353, in emd\n",
      "    G, cost, u, v, result_code = emd_c(a, b, M, numItermax, numThreads)\n",
      "KeyboardInterrupt\n",
      "  File \"/home/jovyan/.local/lib/python3.10/site-packages/ot/optim.py\", line 398, in lp_solver\n",
      "    return emd(a, b, M, numItermaxEmd, log=True)\n",
      "KeyboardInterrupt\n",
      "  File \"/home/jovyan/.local/lib/python3.10/site-packages/ot/lp/__init__.py\", line 353, in emd\n",
      "    G, cost, u, v, result_code = emd_c(a, b, M, numItermax, numThreads)\n",
      "KeyboardInterrupt\n"
     ]
    },
    {
     "ename": "KeyboardInterrupt",
     "evalue": "",
     "output_type": "error",
     "traceback": [
      "\u001b[0;31m---------------------------------------------------------------------------\u001b[0m",
      "\u001b[0;31mIndexError\u001b[0m                                Traceback (most recent call last)",
      "File \u001b[0;32m~/.local/lib/python3.10/site-packages/multiprocess/pool.py:856\u001b[0m, in \u001b[0;36mIMapIterator.next\u001b[0;34m(self, timeout)\u001b[0m\n\u001b[1;32m    855\u001b[0m \u001b[38;5;28;01mtry\u001b[39;00m:\n\u001b[0;32m--> 856\u001b[0m     item \u001b[38;5;241m=\u001b[39m \u001b[38;5;28;43mself\u001b[39;49m\u001b[38;5;241;43m.\u001b[39;49m\u001b[43m_items\u001b[49m\u001b[38;5;241;43m.\u001b[39;49m\u001b[43mpopleft\u001b[49m\u001b[43m(\u001b[49m\u001b[43m)\u001b[49m\n\u001b[1;32m    857\u001b[0m \u001b[38;5;28;01mexcept\u001b[39;00m \u001b[38;5;167;01mIndexError\u001b[39;00m:\n",
      "\u001b[0;31mIndexError\u001b[0m: pop from an empty deque",
      "\nDuring handling of the above exception, another exception occurred:\n",
      "\u001b[0;31mKeyboardInterrupt\u001b[0m                         Traceback (most recent call last)",
      "Cell \u001b[0;32mIn[4], line 7\u001b[0m, in \u001b[0;36mcompute_in_parallel\u001b[0;34m(proteins, comparison_method, returning, **kwargs)\u001b[0m\n\u001b[1;32m      6\u001b[0m \u001b[38;5;28;01mwith\u001b[39;00m multiprocess\u001b[38;5;241m.\u001b[39mPool() \u001b[38;5;28;01mas\u001b[39;00m pool:\n\u001b[0;32m----> 7\u001b[0m     \u001b[38;5;28;01mfor\u001b[39;00m r \u001b[38;5;129;01min\u001b[39;00m  pool\u001b[38;5;241m.\u001b[39mimap(\u001b[38;5;28;01mlambda\u001b[39;00m pair: (pair[\u001b[38;5;241m0\u001b[39m], pair[\u001b[38;5;241m1\u001b[39m], comparison_method(proteins[pair[\u001b[38;5;241m0\u001b[39m]], proteins[pair[\u001b[38;5;241m1\u001b[39m]], \u001b[38;5;241m*\u001b[39m\u001b[38;5;241m*\u001b[39mkwargs)), it\u001b[38;5;241m.\u001b[39mcombinations(\u001b[38;5;28mrange\u001b[39m(N),\u001b[38;5;241m2\u001b[39m)):\n\u001b[1;32m      8\u001b[0m         i,j,d \u001b[38;5;241m=\u001b[39m r\n",
      "File \u001b[0;32m~/.local/lib/python3.10/site-packages/multiprocess/pool.py:861\u001b[0m, in \u001b[0;36mIMapIterator.next\u001b[0;34m(self, timeout)\u001b[0m\n\u001b[1;32m    860\u001b[0m     \u001b[38;5;28;01mraise\u001b[39;00m \u001b[38;5;167;01mStopIteration\u001b[39;00m \u001b[38;5;28;01mfrom\u001b[39;00m \u001b[38;5;28;01mNone\u001b[39;00m\n\u001b[0;32m--> 861\u001b[0m \u001b[38;5;28;43mself\u001b[39;49m\u001b[38;5;241;43m.\u001b[39;49m\u001b[43m_cond\u001b[49m\u001b[38;5;241;43m.\u001b[39;49m\u001b[43mwait\u001b[49m\u001b[43m(\u001b[49m\u001b[43mtimeout\u001b[49m\u001b[43m)\u001b[49m\n\u001b[1;32m    862\u001b[0m \u001b[38;5;28;01mtry\u001b[39;00m:\n",
      "File \u001b[0;32m/opt/conda/lib/python3.10/threading.py:320\u001b[0m, in \u001b[0;36mCondition.wait\u001b[0;34m(self, timeout)\u001b[0m\n\u001b[1;32m    319\u001b[0m \u001b[38;5;28;01mif\u001b[39;00m timeout \u001b[38;5;129;01mis\u001b[39;00m \u001b[38;5;28;01mNone\u001b[39;00m:\n\u001b[0;32m--> 320\u001b[0m     \u001b[43mwaiter\u001b[49m\u001b[38;5;241;43m.\u001b[39;49m\u001b[43macquire\u001b[49m\u001b[43m(\u001b[49m\u001b[43m)\u001b[49m\n\u001b[1;32m    321\u001b[0m     gotit \u001b[38;5;241m=\u001b[39m \u001b[38;5;28;01mTrue\u001b[39;00m\n",
      "\u001b[0;31mKeyboardInterrupt\u001b[0m: ",
      "\nDuring handling of the above exception, another exception occurred:\n",
      "\u001b[0;31mKeyboardInterrupt\u001b[0m                         Traceback (most recent call last)",
      "Cell \u001b[0;32mIn[14], line 3\u001b[0m\n\u001b[1;32m      1\u001b[0m \u001b[38;5;28;01mfrom\u001b[39;00m \u001b[38;5;21;01mGWProt\u001b[39;00m\u001b[38;5;21;01m.\u001b[39;00m\u001b[38;5;21;01mFGW_matrices\u001b[39;00m \u001b[38;5;28;01mimport\u001b[39;00m \u001b[38;5;241m*\u001b[39m\n\u001b[0;32m----> 3\u001b[0m \u001b[43mcompute_in_parallel\u001b[49m\u001b[43m(\u001b[49m\u001b[43mproteins\u001b[49m\u001b[38;5;241;43m=\u001b[39;49m\u001b[43mbase_prots\u001b[49m\u001b[43m,\u001b[49m\u001b[43m \u001b[49m\u001b[43mcomparison_method\u001b[49m\u001b[38;5;241;43m=\u001b[39;49m\u001b[43mGW_protein\u001b[49m\u001b[38;5;241;43m.\u001b[39;49m\u001b[43mrun_FGW_dict\u001b[49m\u001b[43m,\u001b[49m\u001b[43m \u001b[49m\u001b[43malpha\u001b[49m\u001b[43m \u001b[49m\u001b[38;5;241;43m=\u001b[39;49m\u001b[43m \u001b[49m\u001b[38;5;241;43m0.05\u001b[39;49m\u001b[43m,\u001b[49m\u001b[43md\u001b[49m\u001b[43m \u001b[49m\u001b[38;5;241;43m=\u001b[39;49m\u001b[43m \u001b[49m\u001b[43mget_BLOSUM_dict\u001b[49m\u001b[43m(\u001b[49m\u001b[43mn\u001b[49m\u001b[43m \u001b[49m\u001b[38;5;241;43m=\u001b[39;49m\u001b[43m \u001b[49m\u001b[38;5;241;43m62\u001b[39;49m\u001b[43m)\u001b[49m\u001b[43m)\u001b[49m\n",
      "Cell \u001b[0;32mIn[4], line 6\u001b[0m, in \u001b[0;36mcompute_in_parallel\u001b[0;34m(proteins, comparison_method, returning, **kwargs)\u001b[0m\n\u001b[1;32m      3\u001b[0m dist_mat \u001b[38;5;241m=\u001b[39m np\u001b[38;5;241m.\u001b[39mzeros((N,N))\n\u001b[1;32m      4\u001b[0m start_time \u001b[38;5;241m=\u001b[39m time\u001b[38;5;241m.\u001b[39mtime()\n\u001b[0;32m----> 6\u001b[0m \u001b[38;5;28;01mwith\u001b[39;00m multiprocess\u001b[38;5;241m.\u001b[39mPool() \u001b[38;5;28;01mas\u001b[39;00m pool:\n\u001b[1;32m      7\u001b[0m     \u001b[38;5;28;01mfor\u001b[39;00m r \u001b[38;5;129;01min\u001b[39;00m  pool\u001b[38;5;241m.\u001b[39mimap(\u001b[38;5;28;01mlambda\u001b[39;00m pair: (pair[\u001b[38;5;241m0\u001b[39m], pair[\u001b[38;5;241m1\u001b[39m], comparison_method(proteins[pair[\u001b[38;5;241m0\u001b[39m]], proteins[pair[\u001b[38;5;241m1\u001b[39m]], \u001b[38;5;241m*\u001b[39m\u001b[38;5;241m*\u001b[39mkwargs)), it\u001b[38;5;241m.\u001b[39mcombinations(\u001b[38;5;28mrange\u001b[39m(N),\u001b[38;5;241m2\u001b[39m)):\n\u001b[1;32m      8\u001b[0m         i,j,d \u001b[38;5;241m=\u001b[39m r\n",
      "File \u001b[0;32m~/.local/lib/python3.10/site-packages/multiprocess/pool.py:739\u001b[0m, in \u001b[0;36mPool.__exit__\u001b[0;34m(self, exc_type, exc_val, exc_tb)\u001b[0m\n\u001b[1;32m    738\u001b[0m \u001b[38;5;28;01mdef\u001b[39;00m \u001b[38;5;21m__exit__\u001b[39m(\u001b[38;5;28mself\u001b[39m, exc_type, exc_val, exc_tb):\n\u001b[0;32m--> 739\u001b[0m     \u001b[38;5;28;43mself\u001b[39;49m\u001b[38;5;241;43m.\u001b[39;49m\u001b[43mterminate\u001b[49m\u001b[43m(\u001b[49m\u001b[43m)\u001b[49m\n",
      "File \u001b[0;32m~/.local/lib/python3.10/site-packages/multiprocess/pool.py:657\u001b[0m, in \u001b[0;36mPool.terminate\u001b[0;34m(self)\u001b[0m\n\u001b[1;32m    655\u001b[0m util\u001b[38;5;241m.\u001b[39mdebug(\u001b[38;5;124m'\u001b[39m\u001b[38;5;124mterminating pool\u001b[39m\u001b[38;5;124m'\u001b[39m)\n\u001b[1;32m    656\u001b[0m \u001b[38;5;28mself\u001b[39m\u001b[38;5;241m.\u001b[39m_state \u001b[38;5;241m=\u001b[39m TERMINATE\n\u001b[0;32m--> 657\u001b[0m \u001b[38;5;28;43mself\u001b[39;49m\u001b[38;5;241;43m.\u001b[39;49m\u001b[43m_terminate\u001b[49m\u001b[43m(\u001b[49m\u001b[43m)\u001b[49m\n",
      "File \u001b[0;32m~/.local/lib/python3.10/site-packages/multiprocess/util.py:224\u001b[0m, in \u001b[0;36mFinalize.__call__\u001b[0;34m(self, wr, _finalizer_registry, sub_debug, getpid)\u001b[0m\n\u001b[1;32m    221\u001b[0m \u001b[38;5;28;01melse\u001b[39;00m:\n\u001b[1;32m    222\u001b[0m     sub_debug(\u001b[38;5;124m'\u001b[39m\u001b[38;5;124mfinalizer calling \u001b[39m\u001b[38;5;132;01m%s\u001b[39;00m\u001b[38;5;124m with args \u001b[39m\u001b[38;5;132;01m%s\u001b[39;00m\u001b[38;5;124m and kwargs \u001b[39m\u001b[38;5;132;01m%s\u001b[39;00m\u001b[38;5;124m'\u001b[39m,\n\u001b[1;32m    223\u001b[0m               \u001b[38;5;28mself\u001b[39m\u001b[38;5;241m.\u001b[39m_callback, \u001b[38;5;28mself\u001b[39m\u001b[38;5;241m.\u001b[39m_args, \u001b[38;5;28mself\u001b[39m\u001b[38;5;241m.\u001b[39m_kwargs)\n\u001b[0;32m--> 224\u001b[0m     res \u001b[38;5;241m=\u001b[39m \u001b[38;5;28;43mself\u001b[39;49m\u001b[38;5;241;43m.\u001b[39;49m\u001b[43m_callback\u001b[49m\u001b[43m(\u001b[49m\u001b[38;5;241;43m*\u001b[39;49m\u001b[38;5;28;43mself\u001b[39;49m\u001b[38;5;241;43m.\u001b[39;49m\u001b[43m_args\u001b[49m\u001b[43m,\u001b[49m\u001b[43m \u001b[49m\u001b[38;5;241;43m*\u001b[39;49m\u001b[38;5;241;43m*\u001b[39;49m\u001b[38;5;28;43mself\u001b[39;49m\u001b[38;5;241;43m.\u001b[39;49m\u001b[43m_kwargs\u001b[49m\u001b[43m)\u001b[49m\n\u001b[1;32m    225\u001b[0m \u001b[38;5;28mself\u001b[39m\u001b[38;5;241m.\u001b[39m_weakref \u001b[38;5;241m=\u001b[39m \u001b[38;5;28mself\u001b[39m\u001b[38;5;241m.\u001b[39m_callback \u001b[38;5;241m=\u001b[39m \u001b[38;5;28mself\u001b[39m\u001b[38;5;241m.\u001b[39m_args \u001b[38;5;241m=\u001b[39m \\\n\u001b[1;32m    226\u001b[0m                 \u001b[38;5;28mself\u001b[39m\u001b[38;5;241m.\u001b[39m_kwargs \u001b[38;5;241m=\u001b[39m \u001b[38;5;28mself\u001b[39m\u001b[38;5;241m.\u001b[39m_key \u001b[38;5;241m=\u001b[39m \u001b[38;5;28;01mNone\u001b[39;00m\n\u001b[1;32m    227\u001b[0m \u001b[38;5;28;01mreturn\u001b[39;00m res\n",
      "File \u001b[0;32m~/.local/lib/python3.10/site-packages/multiprocess/pool.py:695\u001b[0m, in \u001b[0;36mPool._terminate_pool\u001b[0;34m(cls, taskqueue, inqueue, outqueue, pool, change_notifier, worker_handler, task_handler, result_handler, cache)\u001b[0m\n\u001b[1;32m    692\u001b[0m task_handler\u001b[38;5;241m.\u001b[39m_state \u001b[38;5;241m=\u001b[39m TERMINATE\n\u001b[1;32m    694\u001b[0m util\u001b[38;5;241m.\u001b[39mdebug(\u001b[38;5;124m'\u001b[39m\u001b[38;5;124mhelping task handler/workers to finish\u001b[39m\u001b[38;5;124m'\u001b[39m)\n\u001b[0;32m--> 695\u001b[0m \u001b[38;5;28;43mcls\u001b[39;49m\u001b[38;5;241;43m.\u001b[39;49m\u001b[43m_help_stuff_finish\u001b[49m\u001b[43m(\u001b[49m\u001b[43minqueue\u001b[49m\u001b[43m,\u001b[49m\u001b[43m \u001b[49m\u001b[43mtask_handler\u001b[49m\u001b[43m,\u001b[49m\u001b[43m \u001b[49m\u001b[38;5;28;43mlen\u001b[39;49m\u001b[43m(\u001b[49m\u001b[43mpool\u001b[49m\u001b[43m)\u001b[49m\u001b[43m)\u001b[49m\n\u001b[1;32m    697\u001b[0m \u001b[38;5;28;01mif\u001b[39;00m (\u001b[38;5;129;01mnot\u001b[39;00m result_handler\u001b[38;5;241m.\u001b[39mis_alive()) \u001b[38;5;129;01mand\u001b[39;00m (\u001b[38;5;28mlen\u001b[39m(cache) \u001b[38;5;241m!=\u001b[39m \u001b[38;5;241m0\u001b[39m):\n\u001b[1;32m    698\u001b[0m     \u001b[38;5;28;01mraise\u001b[39;00m \u001b[38;5;167;01mAssertionError\u001b[39;00m(\n\u001b[1;32m    699\u001b[0m         \u001b[38;5;124m\"\u001b[39m\u001b[38;5;124mCannot have cache with result_hander not alive\u001b[39m\u001b[38;5;124m\"\u001b[39m)\n",
      "File \u001b[0;32m~/.local/lib/python3.10/site-packages/multiprocess/pool.py:675\u001b[0m, in \u001b[0;36mPool._help_stuff_finish\u001b[0;34m(inqueue, task_handler, size)\u001b[0m\n\u001b[1;32m    671\u001b[0m \u001b[38;5;129m@staticmethod\u001b[39m\n\u001b[1;32m    672\u001b[0m \u001b[38;5;28;01mdef\u001b[39;00m \u001b[38;5;21m_help_stuff_finish\u001b[39m(inqueue, task_handler, size):\n\u001b[1;32m    673\u001b[0m     \u001b[38;5;66;03m# task_handler may be blocked trying to put items on inqueue\u001b[39;00m\n\u001b[1;32m    674\u001b[0m     util\u001b[38;5;241m.\u001b[39mdebug(\u001b[38;5;124m'\u001b[39m\u001b[38;5;124mremoving tasks from inqueue until task handler finished\u001b[39m\u001b[38;5;124m'\u001b[39m)\n\u001b[0;32m--> 675\u001b[0m     \u001b[43minqueue\u001b[49m\u001b[38;5;241;43m.\u001b[39;49m\u001b[43m_rlock\u001b[49m\u001b[38;5;241;43m.\u001b[39;49m\u001b[43macquire\u001b[49m\u001b[43m(\u001b[49m\u001b[43m)\u001b[49m\n\u001b[1;32m    676\u001b[0m     \u001b[38;5;28;01mwhile\u001b[39;00m task_handler\u001b[38;5;241m.\u001b[39mis_alive() \u001b[38;5;129;01mand\u001b[39;00m inqueue\u001b[38;5;241m.\u001b[39m_reader\u001b[38;5;241m.\u001b[39mpoll():\n\u001b[1;32m    677\u001b[0m         inqueue\u001b[38;5;241m.\u001b[39m_reader\u001b[38;5;241m.\u001b[39mrecv()\n",
      "\u001b[0;31mKeyboardInterrupt\u001b[0m: "
     ]
    }
   ],
   "source": [
    "from GWProt.FGW_matrices import *\n",
    "\n",
    "compute_in_parallel(proteins=base_prots, comparison_method=GW_protein.run_FGW_dict, alpha = 0.05,d = get_BLOSUM_dict(n = 62))"
   ]
  },
  {
   "cell_type": "markdown",
   "id": "1645a497-1188-4063-b0f4-29d2e390bc78",
   "metadata": {},
   "source": [
    "We also demonstrate using user-inputted data. We use eccentricity as a toy example though we do not expect it to improve accuracy."
   ]
  },
  {
   "cell_type": "code",
   "execution_count": null,
   "id": "f528af2d-4ce0-4b80-8778-c5c7bf960281",
   "metadata": {},
   "outputs": [],
   "source": [
    "eccentricity_lists = [p.get_eccentricity() for p in base_prots]\n",
    "FGW_eccentricity_dist_mat = np.zeros((50,50))\n",
    "\n",
    "start_time = time.time()\n",
    "with multiprocess.Pool() as pool:\n",
    "    results = pool.imap(lambda pair: (pair[0], pair[1], GW_protein.run_FGW_data_lists(base_prots[pair[0]], \n",
    "                                                                                 base_prots[pair[1]], \n",
    "                                                                                 data1 = eccentricity_lists[pair[0]],\n",
    "                                                                                data2 = eccentricity_lists[pair[1]],\n",
    "                                                                                      alpha = 0.05)), it.combinations(range(50),2))\n",
    "    for r in results:\n",
    "        i,j,d = r\n",
    "        FGW_eccentricity_dist_mat[i,j] = d\n",
    "        FGW_eccentricity_dist_mat[j,i] = d\n",
    "run_time = int(time.time() - start_time)\n",
    "print(f'run time = {run_time//60} min, {run_time % 60} sec')"
   ]
  },
  {
   "cell_type": "code",
   "execution_count": null,
   "id": "a3232df9-b0e2-4ef2-9b81-04f0c7a209d6",
   "metadata": {},
   "outputs": [],
   "source": [
    "display(FGW_eccentricity_dist_mat)"
   ]
  },
  {
   "cell_type": "markdown",
   "id": "bb4d064b-1fd6-4e2c-a635-f40ae965054f",
   "metadata": {},
   "source": [
    "Now we show the functionality of ``GW_protein_pI`` which runs fused GW with isoelectric points."
   ]
  },
  {
   "cell_type": "code",
   "execution_count": null,
   "id": "261cec4a-9b12-4d00-9f92-2b6b56d067bd",
   "metadata": {},
   "outputs": [],
   "source": [
    "base_prots_pI = [GW_protein_pI.make_protein_from_pdb(file) for file in  lenas + pisus]"
   ]
  },
  {
   "cell_type": "markdown",
   "id": "526e00d8-3163-4af8-b76f-35d18fcd547c",
   "metadata": {},
   "source": [
    "We check that after casting to ``GW_protein`` s they agree with the earlier ones."
   ]
  },
  {
   "cell_type": "code",
   "execution_count": null,
   "id": "d0152112-f358-47fe-af16-6f6b4b95695a",
   "metadata": {},
   "outputs": [],
   "source": [
    "assert base_prots == [p.GW_protein() for p in base_prots_pI]"
   ]
  },
  {
   "cell_type": "code",
   "execution_count": null,
   "id": "0b497fed-1b8b-4dd0-8a90-c4d226a1bae1",
   "metadata": {},
   "outputs": [],
   "source": [
    "compute_in_parallel(proteins=base_prots_pI, comparison_method= GW_protein_pI.run_FGW, alpha = 0.05)"
   ]
  },
  {
   "cell_type": "markdown",
   "id": "84c33793-c6ea-4cba-a46c-844c8216b966",
   "metadata": {},
   "source": [
    "We see that we can run the same variants as with GW, including uniformly downsampled and with distortion scaling."
   ]
  },
  {
   "cell_type": "code",
   "execution_count": null,
   "id": "22556563-b7aa-482b-9ae9-53fd0a029ae1",
   "metadata": {},
   "outputs": [],
   "source": [
    "downsampled_100_prots_pI = [p.downsample_n(n=100) for p in base_prots_pI]\n",
    "compute_in_parallel(proteins=downsampled_100_prots_pI, comparison_method= GW_protein_pI.run_FGW)"
   ]
  },
  {
   "cell_type": "code",
   "execution_count": null,
   "id": "34ce0fc0-319f-47d7-a8dd-8c52825f25c5",
   "metadata": {},
   "outputs": [],
   "source": [
    "scaled_prots_pI = [p.scale_ipdm(inplace = False) for p in base_prots_pI]\n",
    "compute_in_parallel(proteins=scaled_prots_pI, returning= True, comparison_method= GW_protein_pI.run_FGW)"
   ]
  },
  {
   "cell_type": "markdown",
   "id": "cbcca6dc-3110-4dbd-b467-54f785ec00bd",
   "metadata": {},
   "source": [
    "Finally we demonstrate running FGW with sequence-based downsampling. We first need to run ``convolve_pIs`` to ' smooth ' out the isoelectric point values before the downsampling takes place."
   ]
  },
  {
   "cell_type": "code",
   "execution_count": null,
   "id": "3989e8a5-7e9b-4020-b229-eb909dc3f716",
   "metadata": {},
   "outputs": [],
   "source": [
    "convolved_prots = [p.convolve_pIs(inplace = False) for p in base_prots_pI]\n"
   ]
  },
  {
   "cell_type": "code",
   "execution_count": null,
   "id": "37fc577b-462d-4de0-82cf-ace4a9898d35",
   "metadata": {},
   "outputs": [],
   "source": [
    "compute_in_parallel(proteins=convolved_prots, comparison_method= GW_protein_pI.run_FGW_seq_aln, alpha = 0.05)"
   ]
  },
  {
   "cell_type": "code",
   "execution_count": null,
   "id": "10115e8c-aed9-4f51-bcff-af6ce6ddbd24",
   "metadata": {},
   "outputs": [],
   "source": []
  },
  {
   "cell_type": "code",
   "execution_count": null,
   "id": "338bfb55-6f60-41b1-9479-b751a44add82",
   "metadata": {},
   "outputs": [],
   "source": []
  },
  {
   "cell_type": "code",
   "execution_count": null,
   "id": "a61d8af8-61c4-4adb-a819-ed31bb26c195",
   "metadata": {},
   "outputs": [],
   "source": []
  }
 ],
 "metadata": {
  "kernelspec": {
   "display_name": "Python 3 (ipykernel)",
   "language": "python",
   "name": "python3"
  },
  "language_info": {
   "codemirror_mode": {
    "name": "ipython",
    "version": 3
   },
   "file_extension": ".py",
   "mimetype": "text/x-python",
   "name": "python",
   "nbconvert_exporter": "python",
   "pygments_lexer": "ipython3",
   "version": "3.10.6"
  }
 },
 "nbformat": 4,
 "nbformat_minor": 5
}
