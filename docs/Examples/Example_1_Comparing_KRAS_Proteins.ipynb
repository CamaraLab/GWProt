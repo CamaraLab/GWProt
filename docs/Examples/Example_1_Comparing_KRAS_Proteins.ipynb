{
 "cells": [
  {
   "cell_type": "markdown",
   "id": "51856e6c-9134-4e31-a1f5-8c0cf9cdcf5c",
   "metadata": {},
   "source": [
    "Example 1: Identifying switch regions in KRAS\n",
    "=============================================\n"
   ]
  },
  {
   "cell_type": "markdown",
   "id": "ecb20a8a-74c2-460f-9bcb-3cbc2d8a7706",
   "metadata": {},
   "source": [
    "KRAS (Kirsten Rat Sarcoma) is a signaling protein involved in cell proliferation. In its inactive state, it is bound to guanosine diphosphate (GDP). In its active state, it is bound to guanosine triphosphate (GTP) and activates effector proteins that interact with two flexible switch regions. Certain mutant forms of KRAS remain constitutively active, which can cause uncontrolled proliferation and lead to various cancers. Thus, mutant KRAS is a key drug target.\n",
    "\n",
    "In this example, we analyze 54 experimentally determined structures of KRAS using ``GWProt``. We group them by Gromov-Wasserstein (GW) distance and examine how this relates to conformational changes in the switch regions. We also demonstrate how the local geometric distortion (LGD) highlights these flexible regions.\n",
    "\n",
    "The dataset consists of PDB files for KRAS (wild type and several mutants) retrieved from the [RCSB Protein Data Bank](https://www.rcsb.org). Ligands, ions, and small molecules have been removed for clarity. All proteins are truncated to amino acids 2–162 in the [canonical sequence](https://www.uniprot.org/uniprotkb/P01116/entry#sequences) to ensure consistency. Files with multiple chains were split into separate entries.\n",
    "\n",
    "The processed PDB files are available in the following folder in the [GitHub repository](https://github.com/CamaraLab/GWProt/tree/main/docs/Examples/Example_Data/KRAS%20Proteins). For this notebook, we use the local copy:"
   ]
  },
  {
   "cell_type": "code",
   "execution_count": null,
   "id": "90428d13-4cd6-42e0-a3d3-e43d821be11d",
   "metadata": {},
   "outputs": [],
   "source": [
    "dir = \"Examples/Example_Data/KRAS Proteins/\""
   ]
  },
  {
   "cell_type": "markdown",
   "id": "eaece7d9-9500-4f70-aae3-2ef2ec47e65f",
   "metadata": {},
   "source": [
    "We start by creating `GW_protein` objects for each protein structure:"
   ]
  },
  {
   "cell_type": "code",
   "execution_count": null,
   "id": "46330693-ceae-49e5-89a9-a446ba563a64",
   "metadata": {},
   "outputs": [],
   "source": [
    "import GWProt.GW_protein\n",
    "import os\n",
    "\n",
    "protein_list = [GWProt.GW_protein.GW_protein.make_protein_from_pdb(pdb_file = os.path.join(dir, file))  for file in os.listdir(dir)]"
   ]
  },
  {
   "cell_type": "markdown",
   "id": "487000e3-e28d-430c-80c7-dd5fbc1bda4c",
   "metadata": {},
   "source": [
    "We now initialize an `LGD_Comparison` object to compare these protein structures using the Gromov-Wasserstein (GW) distance and local geometric distortion (LGD).\n",
    "In this example, we store the transport plans in memory with `RAM = True`. This will use approximately 600 MB of memory; note that memory usage grows quadratically with the number of proteins."
   ]
  },
  {
   "cell_type": "code",
   "execution_count": null,
   "id": "66d4f543-36a8-40fb-a728-7266428960aa",
   "metadata": {},
   "outputs": [],
   "source": [
    "import GWProt.lgd_comparison\n",
    "\n",
    "A = GWProt.lgd_comparison.LGD_Comparison(prot_list = protein_list, RAM =  True)"
   ]
  },
  {
   "cell_type": "markdown",
   "id": "fd8b699c-923d-42fb-b4a1-b9b489d9326c",
   "metadata": {},
   "source": [
    "We now compute all pairwise GW distances. On a machine with 16 parallel processes, this takes about 5 seconds; with a single process, it takes around 40 seconds."
   ]
  },
  {
   "cell_type": "code",
   "execution_count": null,
   "id": "5459cfb6-64f4-4792-b7e9-aef457e1e462",
   "metadata": {},
   "outputs": [],
   "source": [
    "# Run GW all-vs-all. Adjust 'processes' for your hardware.\n",
    "A.GW_compute_lgd(processes = 16)"
   ]
  },
  {
   "cell_type": "markdown",
   "id": "5e4a83ee-6686-47cc-88c1-ddfa867e105f",
   "metadata": {},
   "source": [
    "We next examine how the conformation of KRAS varies with the bound ligand. The original PDB files include KRAS bound to GDP and to GTP analogues (GNP, GCP, and GSP). This information is stored in a metadata file, which we now load."
   ]
  },
  {
   "cell_type": "code",
   "execution_count": null,
   "id": "66037daf-56de-4e17-8726-a0087d3ed07e",
   "metadata": {},
   "outputs": [],
   "source": [
    "import csv\n",
    "\n",
    "ligand_dict = {}\n",
    "with open(\"Examples/Example_Data/KRAS Ligands.csv\", 'r') as ligand_metadata:\n",
    "    csvreader = csv.reader(ligand_metadata)\n",
    "    for row in csvreader:\n",
    "        ligand_dict[row[0]] = row[1]\n",
    "\n",
    "ligand_list  = [ligand_dict[p.name] for p in protein_list]"
   ]
  },
  {
   "cell_type": "markdown",
   "id": "75a0e1f2-b82a-4b79-b3af-87fdef92e01e",
   "metadata": {},
   "source": [
    "To visualize the structural relationships, we create a UMAP plot from the GW distance matrix:"
   ]
  },
  {
   "cell_type": "code",
   "execution_count": null,
   "id": "f49c6854-9f06-4097-852c-86fc55d806dc",
   "metadata": {
    "scrolled": true
   },
   "outputs": [],
   "source": [
    "import matplotlib.pyplot as plt\n",
    "import numpy as np\n",
    "from umap import UMAP\n",
    "\n",
    "distance_matrix = A.get_GW_dmat()\n",
    "reducer = UMAP(metric = 'precomputed', random_state=1)\n",
    "embedding = reducer.fit_transform(distance_matrix)\n",
    "\n",
    "plt.figure(figsize=(8, 8))\n",
    "unique_ligands = np.unique(ligand_list)\n",
    "colors = plt.cm.tab10(np.linspace(0, 1, len(unique_ligands)))\n",
    "\n",
    "for ligand, color in zip(unique_ligands, colors):\n",
    "    mask = np.array(ligand_list) == ligand\n",
    "    plt.scatter(\n",
    "        embedding[mask, 0],\n",
    "        embedding[mask, 1],\n",
    "        c=[color],\n",
    "        s=7,\n",
    "        label=ligand\n",
    "    )\n",
    "\n",
    "plt.legend(title=\"Ligand\")\n",
    "plt.show()\n"
   ]
  },
  {
   "cell_type": "markdown",
   "id": "1f17f5cb",
   "metadata": {},
   "source": [
    "![Example_Data/Images/Switch_Region_II.png](Example_Data/Images/Umap1.png)"
   ]
  },
  {
   "cell_type": "markdown",
   "id": "35aa1f9d",
   "metadata": {},
   "source": [
    "We can also cluster the proteins in this structural space:"
   ]
  },
  {
   "cell_type": "code",
   "execution_count": null,
   "id": "74c30c46",
   "metadata": {},
   "outputs": [],
   "source": [
    "from sklearn.cluster import KMeans\n",
    "\n",
    "kmeans = KMeans(n_clusters=4, n_init=10, random_state=1)\n",
    "cluster_labels = kmeans.fit_predict(embedding)\n",
    "\n",
    "plt.figure(figsize=(8, 8))\n",
    "cmap = plt.cm.tab10\n",
    "\n",
    "for cluster_id in range(4):\n",
    "    mask = cluster_labels == cluster_id\n",
    "    plt.scatter(\n",
    "        embedding[mask, 0],\n",
    "        embedding[mask, 1],\n",
    "        s=10,\n",
    "        c=[cmap(cluster_id)],   # one color per cluster\n",
    "        label=f\"Cluster {cluster_id}\"\n",
    "    )\n",
    "\n",
    "plt.legend(title=\"Cluster\")\n",
    "plt.show()"
   ]
  },
  {
   "cell_type": "markdown",
   "id": "488cb95e",
   "metadata": {},
   "source": [
    "![Example_Data/Images/Switch_Region_II.png](Example_Data/Images/Umap2.png)"
   ]
  },
  {
   "cell_type": "markdown",
   "id": "440eb205-634f-442e-b661-c0e4dd0cb095",
   "metadata": {},
   "source": [
    "Using PyMOL, we can clearly see that these clusters correspond to distinct conformational states. In this image of switch region II, the four clusters exhibit different conformations. Clusters 0 and 3 are close both conformationally and in the UMAP embedding, reflecting their low GW distances."
   ]
  },
  {
   "cell_type": "markdown",
   "id": "5f161ece-4d3e-421b-8003-6e5869956ba5",
   "metadata": {},
   "source": [
    "![Example_Data/Images/Switch_Region_II.png](Example_Data/Images/Switch_Region_II.png)"
   ]
  },
  {
   "cell_type": "markdown",
   "id": "b219a9f3-ba80-402b-963a-2808c8b26d9f",
   "metadata": {},
   "source": [
    "In this image of switch region I, most GTP-analogue-bound proteins (blue) have similar conformations, while most GDP-bound proteins (red, green, and purple) form a distinct group."
   ]
  },
  {
   "cell_type": "markdown",
   "id": "37c3400f-a20c-41aa-80a1-522be374c9b7",
   "metadata": {},
   "source": [
    "![Example_Data/Images/Switch_Region_I.jpg](Example_Data/Images/Switch_Region_I.jpg)"
   ]
  },
  {
   "cell_type": "markdown",
   "id": "5fb0c006-8a7c-4363-8c87-a9f998bf5a4e",
   "metadata": {},
   "source": [
    "Next, we use `pymol_protein_viewer.show_proteins_with_values` to visualize the proteins and the local geometric distortion (LGD) values for each residue. `A.raw_lgd_dict` contains the LGD values from all pairwise calculations; we first average these for each protein, then generate a PyMOL file for visualization."
   ]
  },
  {
   "cell_type": "code",
   "execution_count": null,
   "id": "5955a1c5-e24a-4e09-b379-721bc2858d6a",
   "metadata": {},
   "outputs": [],
   "source": [
    "import GWProt.pymol_protein_viewer\n",
    "\n",
    "avg_lgd_dict =  GWProt.lgd_comparison.normalize_lgd_dict(A.raw_lgd_dict)\n",
    "avg_lgd_list = [avg_lgd_dict[name] for name in A.name_list]\n",
    "\n",
    "GWProt.pymol_protein_viewer.show_proteins_with_values(\n",
    "    infiles = [os.path.join(dir, file) for file in os.listdir(dir)],\n",
    "    chain_ids = [file[5] for file in os.listdir(dir)],\n",
    "    data_lists = avg_lgd_list,\n",
    "    output_file = \"Examples Data/Pymol Outputs/KRAS_LGD.pse\")"
   ]
  },
  {
   "cell_type": "markdown",
   "id": "582d4f19-6748-4fe6-927c-29428b9615cb",
   "metadata": {},
   "source": [
    "The PyMOL file generated and saved as `KRAS_LGD.pse` can be opened in PyMOL. The switch I region is in the upper left foreground, and switch II is in the right foreground. Both regions show higher local geometric distortion (redder colors), while non-switch regions have lower LGD (yellow colors)."
   ]
  },
  {
   "cell_type": "markdown",
   "id": "55e059e8-a3cf-469c-a2e9-fd1719319f01",
   "metadata": {},
   "source": [
    "![Example_Data/Images/KRAS_Stresses.png](Example_Data/Images/KRAS_Stresses.png)"
   ]
  },
  {
   "cell_type": "markdown",
   "id": "5c3a2788-cbb0-4351-826b-5c16988155a7",
   "metadata": {},
   "source": [
    "Next, we test how well the local geometric distortion (LGD) values can be used to predict the switch I and switch II regions. These regions do not have precisely defined endpoints, but for this analysis we use residues 30–40 and 60–72 in the canonical sequence. In these files, these correspond to indices 28–38 and 58–74.\n",
    "\n",
    "We display the precision-recall curve for a randomly selected protein and report the mean average precision (area under the precision-recall curve)."
   ]
  },
  {
   "cell_type": "code",
   "execution_count": null,
   "id": "08d16f5a-5104-4e6f-889f-96ebbf8134fe",
   "metadata": {},
   "outputs": [],
   "source": [
    "import sklearn.metrics\n",
    "\n",
    "switch_regions_dict = {p.name : [int(i in range(28,39) or i in range(58,75)) for i in range(161)] for p in protein_list}\n",
    "\n",
    "p, r, _ = sklearn.metrics.precision_recall_curve(switch_regions_dict['5mla_A'], avg_lgd_dict['5mla_A'])\n",
    "sklearn.metrics.PrecisionRecallDisplay(precision=p, recall=r).plot()\n",
    "plt.show()\n",
    "avg_precision_dict = GWProt.lgd_comparison.get_AP_scores(avg_lgd_dict, switch_regions_dict, upper=True)\n",
    "\n",
    "print(f'mean average precision = {np.mean(list(avg_precision_dict.values()))}')"
   ]
  },
  {
   "cell_type": "markdown",
   "id": "ad9ae343",
   "metadata": {},
   "source": [
    "![Example_Data/Images/KRAS_Stresses.png](Example_Data/Images/AUPR1.png)"
   ]
  },
  {
   "cell_type": "markdown",
   "id": "cf858bf5-8787-41c8-b6ce-7adb9e8e3c4b",
   "metadata": {},
   "source": [
    "We can also compute transferred local geometric distortion values using `raw_transferred_lgd`, which we then average with `normalize_lgd_dict`. Transferring uses the calculated transport plans to map LGD values from one protein to another in an all-to-all fashion. This generally improves accuracy."
   ]
  },
  {
   "cell_type": "code",
   "execution_count": null,
   "id": "25afe82a-c932-45af-954b-f22749a1d339",
   "metadata": {},
   "outputs": [],
   "source": [
    "transferred_lgd = GWProt.lgd_comparison.normalize_lgd_dict(A.raw_transferred_lgd(avg_lgd_dict))\n",
    "\n",
    "p, r, _ = sklearn.metrics.precision_recall_curve(switch_regions_dict['5mla_A'], transferred_lgd['5mla_A'])\n",
    "sklearn.metrics.PrecisionRecallDisplay(precision=p, recall=r).plot()\n",
    "plt.show()\n",
    "\n",
    "transferred_avg_precision_dict = GWProt.lgd_comparison.get_AP_scores(transferred_lgd, switch_regions_dict, upper=True)\n",
    "print(f'mean average precision = {np.mean(list(transferred_avg_precision_dict.values()))}')"
   ]
  },
  {
   "cell_type": "markdown",
   "id": "4f27429e",
   "metadata": {},
   "source": [
    "![Example_Data/Images/KRAS_Stresses.png](Example_Data/Images/AUPR2.png)"
   ]
  }
 ],
 "metadata": {
  "kernelspec": {
   "display_name": "Python 3",
   "language": "python",
   "name": "python3"
  },
  "language_info": {
   "codemirror_mode": {
    "name": "ipython",
    "version": 3
   },
   "file_extension": ".py",
   "mimetype": "text/x-python",
   "name": "python",
   "nbconvert_exporter": "python",
   "pygments_lexer": "ipython3",
   "version": "3.14.0"
  }
 },
 "nbformat": 4,
 "nbformat_minor": 5
}
