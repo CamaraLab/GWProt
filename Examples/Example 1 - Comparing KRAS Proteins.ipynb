{
 "cells": [
  {
   "cell_type": "markdown",
   "id": "51856e6c-9134-4e31-a1f5-8c0cf9cdcf5c",
   "metadata": {},
   "source": [
    "Example 1: Comparing KRAS Proteins\n",
    "===================================\n"
   ]
  },
  {
   "cell_type": "code",
   "execution_count": 1,
   "id": "7e49045f-f77b-4704-a790-9046a263f43d",
   "metadata": {},
   "outputs": [],
   "source": [
    "import os\n",
    "os.environ['OPENBLAS_NUM_THREADS'] = '1' \n",
    "import numpy as np\n",
    "\n",
    "#from GW_prot import *\n",
    "\n",
    "\n",
    "import sys\n",
    "sys.path.insert(0,'../src')\n",
    "\n",
    "from FGW_protein import *"
   ]
  },
  {
   "cell_type": "markdown",
   "id": "ecb20a8a-74c2-460f-9bcb-3cbc2d8a7706",
   "metadata": {},
   "source": [
    "(This dataset has been curated as follows.....XXXXXX)"
   ]
  },
  {
   "cell_type": "code",
   "execution_count": 2,
   "id": "90428d13-4cd6-42e0-a3d3-e43d821be11d",
   "metadata": {},
   "outputs": [],
   "source": [
    "dir = \"../Examples/Examples Data/KRAS ends cut2/\""
   ]
  },
  {
   "cell_type": "markdown",
   "id": "eaece7d9-9500-4f70-aae3-2ef2ec47e65f",
   "metadata": {},
   "source": [
    "We start by creating FGW_protein objects for each KRAS protein."
   ]
  },
  {
   "cell_type": "code",
   "execution_count": 3,
   "id": "46330693-ceae-49e5-89a9-a446ba563a64",
   "metadata": {},
   "outputs": [],
   "source": [
    "protein_list = [FGW_protein.make_protein_from_pdb(pdb_file = os.path.join(dir, file))  for file in os.listdir(dir)]"
   ]
  },
  {
   "cell_type": "markdown",
   "id": "487000e3-e28d-430c-80c7-dd5fbc1bda4c",
   "metadata": {},
   "source": [
    "We then initialize a `Stress_Comparison` object to compare these proteins using GW and their stresses.\n",
    "In this example we store the transport plans in RAM for simplicity. This will use roughly 12.6 MB. "
   ]
  },
  {
   "cell_type": "code",
   "execution_count": 4,
   "id": "66d4f543-36a8-40fb-a728-7266428960aa",
   "metadata": {},
   "outputs": [],
   "source": [
    "import stress_comparison\n",
    "A = stress_comparison.Stress_Comparison(prot_list = protein_list, RAM =  True)"
   ]
  },
  {
   "cell_type": "markdown",
   "id": "fd8b699c-923d-42fb-b4a1-b9b489d9326c",
   "metadata": {},
   "source": [
    "We then run GW all-vs-all. On our computer with 16 parallel processes this take 5 seconds. With a single process it takes around 40 seconds. If we set `RAM = False` the computation time takes about 71 amd 81 seconds"
   ]
  },
  {
   "cell_type": "code",
   "execution_count": 5,
   "id": "6f13e3e7-04f1-4bbd-b50d-a216aca92050",
   "metadata": {},
   "outputs": [
    {
     "name": "stdout",
     "output_type": "stream",
     "text": [
      "11883784\n"
     ]
    }
   ],
   "source": [
    "sys.path.insert(0,'/home/elijah/pymol/lib/python3.10/site-packages')\n",
    "from pympler import asizeof\n",
    "\n",
    "print(asizeof.asizeof(A))\n",
    "#11883784"
   ]
  },
  {
   "cell_type": "code",
   "execution_count": 6,
   "id": "fec80d8e-7031-4866-9a4e-5f4d6171c01e",
   "metadata": {},
   "outputs": [
    {
     "name": "stdout",
     "output_type": "stream",
     "text": [
      "CPU times: user 983 ms, sys: 936 ms, total: 1.92 s\n",
      "Wall time: 4.94 s\n"
     ]
    }
   ],
   "source": [
    "%%time\n",
    "A.GW_compute_stresses(processes = 16)\n",
    "#5s"
   ]
  },
  {
   "cell_type": "code",
   "execution_count": 7,
   "id": "5779a9a5-8c2c-4635-b45d-e7d35d3528cb",
   "metadata": {},
   "outputs": [
    {
     "name": "stdout",
     "output_type": "stream",
     "text": [
      "CPU times: user 41.4 s, sys: 117 ms, total: 41.5 s\n",
      "Wall time: 41.5 s\n"
     ]
    }
   ],
   "source": [
    "%%time\n",
    "#41s\n",
    "A.GW_compute_stresses(processes = 1)"
   ]
  },
  {
   "cell_type": "code",
   "execution_count": 8,
   "id": "73941798-4793-41c3-b96b-9added982e1a",
   "metadata": {},
   "outputs": [
    {
     "name": "stdout",
     "output_type": "stream",
     "text": [
      "609824272\n"
     ]
    }
   ],
   "source": [
    "print(asizeof.asizeof(A))\n",
    "#609824272"
   ]
  },
  {
   "cell_type": "code",
   "execution_count": 9,
   "id": "48a34b11-4b3f-4eed-b59f-7bb987d542ec",
   "metadata": {},
   "outputs": [
    {
     "name": "stdout",
     "output_type": "stream",
     "text": [
      "593981552\n"
     ]
    }
   ],
   "source": [
    "print(asizeof.asizeof(A.transport_dict))\n",
    "#593981552"
   ]
  },
  {
   "cell_type": "code",
   "execution_count": 10,
   "id": "e8d4db82-f278-4a07-8d03-e0aef5472620",
   "metadata": {},
   "outputs": [
    {
     "name": "stdout",
     "output_type": "stream",
     "text": [
      "mkdir: cannot create directory ‘tmp’: File exists\n"
     ]
    }
   ],
   "source": [
    "!mkdir tmp\n",
    "B = stress_comparison.Stress_Comparison(prot_list = protein_list, RAM =  False, transport_dir= 'tmp')"
   ]
  },
  {
   "cell_type": "code",
   "execution_count": 11,
   "id": "3201450e-56fd-4b56-b9ed-b844249fb49f",
   "metadata": {},
   "outputs": [
    {
     "name": "stdout",
     "output_type": "stream",
     "text": [
      "11759000\n"
     ]
    }
   ],
   "source": [
    "print(asizeof.asizeof(B))\n",
    "#11759000"
   ]
  },
  {
   "cell_type": "code",
   "execution_count": 24,
   "id": "636b0d4b-7f65-4044-aa9b-1a5f9a5928fb",
   "metadata": {},
   "outputs": [
    {
     "name": "stdout",
     "output_type": "stream",
     "text": [
      "CPU times: user 1.41 s, sys: 1.58 s, total: 2.99 s\n",
      "Wall time: 14.9 s\n"
     ]
    }
   ],
   "source": [
    "%%time\n",
    "B.GW_compute_stresses(processes = 16)\n",
    "#15s"
   ]
  },
  {
   "cell_type": "code",
   "execution_count": 13,
   "id": "bed6e01f-2db3-44fd-ad87-ca5d16ba45dd",
   "metadata": {},
   "outputs": [
    {
     "name": "stdout",
     "output_type": "stream",
     "text": [
      "CPU times: user 1min, sys: 433 ms, total: 1min\n",
      "Wall time: 1min 23s\n"
     ]
    }
   ],
   "source": [
    "%%time\n",
    "B.GW_compute_stresses(processes = 1)\n",
    "#79s"
   ]
  },
  {
   "cell_type": "code",
   "execution_count": 14,
   "id": "33aaa826-99fd-4c4a-afb9-9a4cd16c766b",
   "metadata": {},
   "outputs": [
    {
     "name": "stdout",
     "output_type": "stream",
     "text": [
      "15845936\n"
     ]
    }
   ],
   "source": [
    "print(asizeof.asizeof(B))\n",
    "#15845936"
   ]
  },
  {
   "cell_type": "markdown",
   "id": "5e4a83ee-6686-47cc-88c1-ddfa867e105f",
   "metadata": {},
   "source": [
    "We can study how the conformation of KRAS changes depending on the ligand it is bound to. These PDB files contain KRAS bound to guanosine diphosphate (GDP) and those bound to guanosine triphosphate-analogues (GNP, GCP, GSP)."
   ]
  },
  {
   "cell_type": "code",
   "execution_count": 15,
   "id": "97fa0d43-3be9-40e4-806e-2a4847ea30f1",
   "metadata": {},
   "outputs": [],
   "source": [
    "ligand_list = ['GNP',  'GCP',  'GSP',  'GCP',  'GDP',  'GDP',  'GDP',  'GDP',  'GDP',  'GDP',  'GDP',  'GDP',  'GDP',  'GDP',  'GDP',  'GDP',  'GDP',  'GDP',  'GDP',  'GSP',  'GDP',  'GDP',  'GDP',  'GDP',  'GDP',  'GDP',  'GDP',  'GDP',  'GSP',  'GNP',  'GDP',  'GNP',  'GNP',  'GNP',  'GDP',  'GNP',  'GNP',  'GNP',  'GNP',  'GDP',  'GDP',  'GDP',  'GDP',  'GDP',  'GDP',  'GDP',  'GDP',  'GDP',  'GDP',  'GDP',  'GDP',  'GDP',  'GDP',  'GDP']"
   ]
  },
  {
   "cell_type": "markdown",
   "id": "75a0e1f2-b82a-4b79-b3af-87fdef92e01e",
   "metadata": {},
   "source": [
    "For this visual analysis, we will create a UMAP plot, with different colors corresponding to different ligands. "
   ]
  },
  {
   "cell_type": "code",
   "execution_count": 16,
   "id": "797aa20c-33fd-4be8-8ab9-55f374904200",
   "metadata": {},
   "outputs": [
    {
     "data": {
      "image/png": "[encoded data removed]",
      "text/plain": [
       "<Figure size 1000x1000 with 1 Axes>"
      ]
     },
     "metadata": {},
     "output_type": "display_data"
    }
   ],
   "source": [
    "from umap.umap_ import UMAP\n",
    "import matplotlib.pyplot as plt\n",
    "\n",
    "\n",
    "\n",
    "distance_matrix = A.get_GW_dmat()\n",
    "\n",
    "reducer = UMAP(metric = 'precomputed', random_state=14)\n",
    "\n",
    "embedding = reducer.fit_transform(distance_matrix)\n",
    "    \n",
    "        \n",
    "plt.figure(figsize=(10, 10))\n",
    "plt.scatter(embedding[:, 0], embedding[:, 1], c= ['red' if l == 'GDP' else 'blue' for l in ligand_list], s=5)\n",
    "# for i in range(54): \n",
    "#     plt.annotate(str(i), (embedding[i, 0], embedding[i, 1] + 0.05), fontsize = 15) \n",
    "  \n",
    "plt.show()\n",
    "\n"
   ]
  },
  {
   "cell_type": "code",
   "execution_count": 17,
   "id": "c3b60771-ea54-4a60-923e-fc0d742de600",
   "metadata": {},
   "outputs": [],
   "source": [
    "#Although this clustering is only partially explained by the ligands, they do match visible conformational variation in the proteins\n"
   ]
  },
  {
   "cell_type": "code",
   "execution_count": 18,
   "id": "f49c6854-9f06-4097-852c-86fc55d806dc",
   "metadata": {
    "scrolled": true
   },
   "outputs": [
    {
     "data": {
      "image/png": "[encoded data removed]",
      "text/plain": [
       "<Figure size 1000x1000 with 1 Axes>"
      ]
     },
     "metadata": {},
     "output_type": "display_data"
    }
   ],
   "source": [
    "\n",
    "group1 = [11, 34, 39, 40, 41, 42, 43, 44, 45, 46, 47] #purple\n",
    "group2 = [4, 20,21,22,23,24,25,26,27,49,50,51,52] #red\n",
    "group3 = [5, 6, 7, 8, 9, 10, 12, 13, 14, 15, 16, 17, 18, 30, 48, 53] #green\n",
    "group4 = [0, 1, 2, 3, 19, 28, 29, 31, 32, 33, 35, 36, 37, 38] #blue\n",
    "\n",
    "\n",
    "\n",
    "plt.figure(figsize=(10, 10))\n",
    "plt.scatter([embedding[i, 0] for i in group1], [embedding[i, 1] for i in group1], c= ['purple']*len(group1), s=5)\n",
    "plt.scatter([embedding[i, 0] for i in group2], [embedding[i, 1] for i in group2], c= ['red']*len(group2), s=5)\n",
    "plt.scatter([embedding[i, 0] for i in group3], [embedding[i, 1] for i in group3], c= ['green']*len(group3), s=5)\n",
    "plt.scatter([embedding[i, 0] for i in group4], [embedding[i, 1] for i in group4], c= ['blue']*len(group4), s=5)\n",
    "\n",
    "plt.show()\n",
    "\n"
   ]
  },
  {
   "cell_type": "markdown",
   "id": "5fb0c006-8a7c-4363-8c87-a9f998bf5a4e",
   "metadata": {},
   "source": [
    "Next we use pymol to visualize the proteins and the stress levels of different residues in the proteins. \n",
    "`A.raw_stress_levels` contains the stresses of all the pairwise calculations, so we first average them for each protein."
   ]
  },
  {
   "cell_type": "code",
   "execution_count": 19,
   "id": "d97e2f23-21f2-4f03-bb7c-94766bd07b48",
   "metadata": {},
   "outputs": [],
   "source": [
    "avg_stresses_dict =  stress_comparison.normalize_stress_dict( A.raw_stress_dict)\n",
    "avg_stresses_list = [avg_stresses_dict[name] for name in A.name_list]"
   ]
  },
  {
   "cell_type": "code",
   "execution_count": 20,
   "id": "33a91c8d-4764-42eb-b2dc-ebe278eb6aeb",
   "metadata": {},
   "outputs": [],
   "source": [
    "pymol_protein_viewer.show_proteins_with_values( infiles = [os.path.join(dir, file)  for file in os.listdir(dir)],     chain_ids = [ file[5]  for file in os.listdir(dir)],     data_lists = avg_stresses_list,     output_file = \"KRAS ends cut stresses.pse\")"
   ]
  },
  {
   "cell_type": "markdown",
   "id": "582d4f19-6748-4fe6-927c-29428b9615cb",
   "metadata": {},
   "source": [
    "The pymol file we generate can then be opened in a pymol GUI window.\n",
    "![Screenshot](Examples Data/Example 1 Outputs/KRAS stresses screenshot.pdf) \n",
    "\n",
    "For clarity we can also view a single protein at a time.\n",
    "\n"
   ]
  },
  {
   "cell_type": "markdown",
   "id": "5c3a2788-cbb0-4351-826b-5c16988155a7",
   "metadata": {},
   "source": [
    "Next we will test how well the stress levels can be used to predict the switch I and switch II regions. These regions do not have well-defined endpoints but we will choose to use residues 30-40 and 60-72 in the canonical indexing respectively. These protein do not contain all the residues so the switch regions are at indices 28-38 and 58-74 instead."
   ]
  },
  {
   "cell_type": "code",
   "execution_count": 21,
   "id": "08d16f5a-5104-4e6f-889f-96ebbf8134fe",
   "metadata": {},
   "outputs": [],
   "source": [
    "\n",
    "switch_regions_dict = {p.name : [ 1- int(i in range(28,39) or i in range(58,75)) for i in range(161)] for p in protein_list}\n",
    "\n",
    "avg_precision_dict = stress_comparison.get_AP_scores(avg_stresses_dict, switch_regions_dict)"
   ]
  },
  {
   "cell_type": "code",
   "execution_count": 22,
   "id": "32dfd537-b8da-4fd9-a299-9817eb39b840",
   "metadata": {},
   "outputs": [
    {
     "data": {
      "text/plain": [
       "{'3gft_A': 0.9668889534130874,\n",
       " '4dsn_A': 0.9693193838492158,\n",
       " '4dso_A': 0.9567030772451607,\n",
       " '4dst_A': 0.965842206288982,\n",
       " '4epr_A': 0.9668477274775755,\n",
       " '4ept_A': 0.9535714634075838,\n",
       " '4epv_A': 0.9688440413476281,\n",
       " '4epw_A': 0.9702027370407983,\n",
       " '4epx_A': 0.9677386400208486,\n",
       " '4epy_A': 0.9680468407888427,\n",
       " '4ldj_A': 0.9663632626501745,\n",
       " '4lpk_B': 0.97106365889409,\n",
       " '4obe_A': 0.9635456250756944,\n",
       " '4obe_B': 0.96842452956253,\n",
       " '4ql3_A': 0.9661178820791774,\n",
       " '4tq9_A': 0.9651585387796667,\n",
       " '4tq9_B': 0.9658636581018542,\n",
       " '4tqa_A': 0.9678516927021218,\n",
       " '4tqa_B': 0.9654132992186241,\n",
       " '5mla_A': 0.9572070987913182,\n",
       " '5mlb_A': 0.9539122446742481,\n",
       " '5mlb_C': 0.9542873837953065,\n",
       " '5mlb_E': 0.9526750742482961,\n",
       " '5mlb_G': 0.9539215162955939,\n",
       " '5o2s_A': 0.9539122446742481,\n",
       " '5o2s_C': 0.9542873837953065,\n",
       " '5o2s_E': 0.9526750742482961,\n",
       " '5o2s_G': 0.9539215162955939,\n",
       " '5o2t_A': 0.9572070987913182,\n",
       " '5ocg_A': 0.9659365209421029,\n",
       " '5tar_A': 0.949791507925561,\n",
       " '5ufe_A': 0.9486023702647237,\n",
       " '5ufq_A': 0.9730877429052439,\n",
       " '5ufq_B': 0.9747530000207154,\n",
       " '5uqw_A': 0.9570337068742342,\n",
       " '5usj_B': 0.9555940784100345,\n",
       " '5usj_C': 0.949356797303543,\n",
       " '5usj_E': 0.9521503384195256,\n",
       " '5usj_F': 0.9567361100909264,\n",
       " '5v71_A': 0.9693911994290905,\n",
       " '5v71_B': 0.9609893494157677,\n",
       " '5v71_C': 0.9643246971552872,\n",
       " '5v71_D': 0.9685658875585703,\n",
       " '5v71_E': 0.9647510609013156,\n",
       " '5v71_F': 0.9614449162428883,\n",
       " '5v9l_A': 0.9679046272470779,\n",
       " '5v9l_B': 0.9699968976390773,\n",
       " '5v9l_C': 0.9647551466034288,\n",
       " '5v9o_A': 0.9709715198994495,\n",
       " '5vp7_A': 0.9608288659966591,\n",
       " '5vp7_F': 0.9616422689101353,\n",
       " '5w22_A': 0.9623110927911228,\n",
       " '5w22_B': 0.9634636139678883,\n",
       " '5whd_A': 0.9756814467256757}"
      ]
     },
     "execution_count": 22,
     "metadata": {},
     "output_type": "execute_result"
    }
   ],
   "source": [
    "avg_precision_dict\n",
    "#TODO - show precision recall curve"
   ]
  },
  {
   "cell_type": "markdown",
   "id": "f153d2b2-937a-47e4-91bc-fde8aaa43642",
   "metadata": {},
   "source": [
    "We can also run `stress"
   ]
  },
  {
   "cell_type": "code",
   "execution_count": 23,
   "id": "c1832430-4310-4276-8431-90c70cf9c7d4",
   "metadata": {},
   "outputs": [
    {
     "ename": "TypeError",
     "evalue": "combinations() missing required argument 'r' (pos 2)",
     "output_type": "error",
     "traceback": [
      "\u001b[0;31m---------------------------------------------------------------------------\u001b[0m",
      "\u001b[0;31mTypeError\u001b[0m                                 Traceback (most recent call last)",
      "Cell \u001b[0;32mIn[23], line 1\u001b[0m\n\u001b[0;32m----> 1\u001b[0m transferred_stress \u001b[38;5;241m=\u001b[39m stress_comparison\u001b[38;5;241m.\u001b[39mnormalize_stress_dict(\u001b[43mA\u001b[49m\u001b[38;5;241;43m.\u001b[39;49m\u001b[43mraw_transferred_stresses\u001b[49m\u001b[43m(\u001b[49m\u001b[43mavg_stresses_dict\u001b[49m\u001b[43m)\u001b[49m)\n\u001b[1;32m      2\u001b[0m transferred_avg_precision_dict \u001b[38;5;241m=\u001b[39m stress_comparison\u001b[38;5;241m.\u001b[39mget_AP_scores(transferred_stress, switch_regions_dict)\n\u001b[1;32m      3\u001b[0m transferred_avg_precision_dict\n",
      "File \u001b[0;32m~/dropbox3/Analyses/PGC020.a12/Examples/../src/stress_comparison.py:180\u001b[0m, in \u001b[0;36mStress_Comparison.raw_transferred_stresses\u001b[0;34m(self, stress_dict, cores)\u001b[0m\n\u001b[1;32m    178\u001b[0m         results \u001b[38;5;241m=\u001b[39m pool\u001b[38;5;241m.\u001b[39mimap(\u001b[38;5;28mself\u001b[39m\u001b[38;5;241m.\u001b[39m_stress_transfer_helper, \u001b[38;5;28mzip\u001b[39m( it\u001b[38;5;241m.\u001b[39mrepeat(stress_dict), it\u001b[38;5;241m.\u001b[39mcombinations(\u001b[38;5;28mself\u001b[39m\u001b[38;5;241m.\u001b[39mprot_list)), chunksize \u001b[38;5;241m=\u001b[39m \u001b[38;5;241m20\u001b[39m)\n\u001b[1;32m    179\u001b[0m \u001b[38;5;28;01melse\u001b[39;00m:\n\u001b[0;32m--> 180\u001b[0m     results \u001b[38;5;241m=\u001b[39m \u001b[38;5;28mmap\u001b[39m(\u001b[38;5;28mself\u001b[39m\u001b[38;5;241m.\u001b[39m_stress_transfer_helper, \u001b[38;5;28mzip\u001b[39m( it\u001b[38;5;241m.\u001b[39mrepeat(stress_dict), \u001b[43mit\u001b[49m\u001b[38;5;241;43m.\u001b[39;49m\u001b[43mcombinations\u001b[49m\u001b[43m(\u001b[49m\u001b[38;5;28;43mself\u001b[39;49m\u001b[38;5;241;43m.\u001b[39;49m\u001b[43mprot_list\u001b[49m\u001b[43m)\u001b[49m))\n\u001b[1;32m    182\u001b[0m \u001b[38;5;28;01mfor\u001b[39;00m r \u001b[38;5;129;01min\u001b[39;00m results:\n\u001b[1;32m    183\u001b[0m     n1,n2, s1,s2 \u001b[38;5;241m=\u001b[39m r\n",
      "\u001b[0;31mTypeError\u001b[0m: combinations() missing required argument 'r' (pos 2)"
     ]
    }
   ],
   "source": [
    "transferred_stress = stress_comparison.normalize_stress_dict(A.raw_transferred_stresses(avg_stresses_dict))\n",
    "transferred_avg_precision_dict = stress_comparison.get_AP_scores(transferred_stress, switch_regions_dict)\n",
    "transferred_avg_precision_dict"
   ]
  },
  {
   "cell_type": "code",
   "execution_count": null,
   "id": "0df7935b-c68a-44b7-a7ee-ef5ad4865780",
   "metadata": {},
   "outputs": [],
   "source": []
  },
  {
   "cell_type": "code",
   "execution_count": 25,
   "id": "8d224a9f-9fdf-4588-80c8-c2c4b36eb180",
   "metadata": {},
   "outputs": [
    {
     "name": "stdout",
     "output_type": "stream",
     "text": [
      "609824568\n"
     ]
    }
   ],
   "source": [
    "print(asizeof.asizeof(A))"
   ]
  },
  {
   "cell_type": "code",
   "execution_count": null,
   "id": "15c32f25-2f41-4420-bfad-0618a3594c28",
   "metadata": {},
   "outputs": [],
   "source": []
  }
 ],
 "metadata": {
  "kernelspec": {
   "display_name": "Python 3 (ipykernel)",
   "language": "python",
   "name": "python3"
  },
  "language_info": {
   "codemirror_mode": {
    "name": "ipython",
    "version": 3
   },
   "file_extension": ".py",
   "mimetype": "text/x-python",
   "name": "python",
   "nbconvert_exporter": "python",
   "pygments_lexer": "ipython3",
   "version": "3.10.12"
  }
 },
 "nbformat": 4,
 "nbformat_minor": 5
}
