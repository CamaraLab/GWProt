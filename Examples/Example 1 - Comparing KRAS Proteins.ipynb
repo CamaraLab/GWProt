{
 "cells": [
  {
   "cell_type": "markdown",
   "id": "51856e6c-9134-4e31-a1f5-8c0cf9cdcf5c",
   "metadata": {},
   "source": [
    "Example 1: Comparing KRAS Proteins\n",
    "===================================\n"
   ]
  },
  {
   "cell_type": "code",
   "execution_count": 1,
   "id": "7e49045f-f77b-4704-a790-9046a263f43d",
   "metadata": {},
   "outputs": [
    {
     "name": "stderr",
     "output_type": "stream",
     "text": [
      "/home/elijah/.local/lib/python3.10/site-packages/umap/distances.py:1063: NumbaDeprecationWarning: \u001b[1mThe 'nopython' keyword argument was not supplied to the 'numba.jit' decorator. The implicit default value for this argument is currently False, but it will be changed to True in Numba 0.59.0. See https://numba.readthedocs.io/en/stable/reference/deprecation.html#deprecation-of-object-mode-fall-back-behaviour-when-using-jit for details.\u001b[0m\n",
      "  @numba.jit()\n",
      "/home/elijah/.local/lib/python3.10/site-packages/umap/distances.py:1071: NumbaDeprecationWarning: \u001b[1mThe 'nopython' keyword argument was not supplied to the 'numba.jit' decorator. The implicit default value for this argument is currently False, but it will be changed to True in Numba 0.59.0. See https://numba.readthedocs.io/en/stable/reference/deprecation.html#deprecation-of-object-mode-fall-back-behaviour-when-using-jit for details.\u001b[0m\n",
      "  @numba.jit()\n",
      "/home/elijah/.local/lib/python3.10/site-packages/umap/distances.py:1086: NumbaDeprecationWarning: \u001b[1mThe 'nopython' keyword argument was not supplied to the 'numba.jit' decorator. The implicit default value for this argument is currently False, but it will be changed to True in Numba 0.59.0. See https://numba.readthedocs.io/en/stable/reference/deprecation.html#deprecation-of-object-mode-fall-back-behaviour-when-using-jit for details.\u001b[0m\n",
      "  @numba.jit()\n",
      "/home/elijah/.local/lib/python3.10/site-packages/tqdm/auto.py:21: TqdmWarning: IProgress not found. Please update jupyter and ipywidgets. See https://ipywidgets.readthedocs.io/en/stable/user_install.html\n",
      "  from .autonotebook import tqdm as notebook_tqdm\n",
      "/home/elijah/.local/lib/python3.10/site-packages/umap/umap_.py:660: NumbaDeprecationWarning: \u001b[1mThe 'nopython' keyword argument was not supplied to the 'numba.jit' decorator. The implicit default value for this argument is currently False, but it will be changed to True in Numba 0.59.0. See https://numba.readthedocs.io/en/stable/reference/deprecation.html#deprecation-of-object-mode-fall-back-behaviour-when-using-jit for details.\u001b[0m\n",
      "  @numba.jit()\n"
     ]
    }
   ],
   "source": [
    "import os\n",
    "os.environ['OPENBLAS_NUM_THREADS'] = '1' \n",
    "import numpy as np\n",
    "from umap.umap_ import UMAP\n",
    "import matplotlib.pyplot as plt\n",
    "import sklearn.metrics\n",
    "\n",
    "#from GW_prot import *\n",
    "\n",
    "\n",
    "import sys\n",
    "sys.path.insert(0,'../src')\n",
    "\n",
    "from FGW_protein import *\n",
    "import stress_comparison\n",
    "sys.path.insert(0,'/home/elijah/pymol/lib/python3.10/site-packages') #just for pympler\n",
    "from pympler import asizeof"
   ]
  },
  {
   "cell_type": "markdown",
   "id": "ecb20a8a-74c2-460f-9bcb-3cbc2d8a7706",
   "metadata": {},
   "source": [
    "KRAS (Kirsten Rat Sarcoma) is a signalling protein involved in cell proliferation. In its off state it is bound to guanosine diphosphate (GDP). In its on state it is bound to guanosine triphosphate (GTP) and activates effector proteins which can bind to two flexible switch regions. Certain mutant forms of KRAS keep it in its on state which can cause proliferation, causing multiple types of cancer. Thus mutant forms of KRAS are potential targets for drugs to treat the cancers they cause.\n",
    "\n",
    "\n",
    "This dataset consists of experimentally determined PDB files of KRAS retreived from [RCSB](https://www.rcsb.org), including both wild type and several missense mutants. Ligands, ions, and small molecules including potential drug candidates have been removed for clarity. All proteins were truncated to amino acids 2-162 in the [canonical sequence](https://www.uniprot.org/uniprotkb/P01116/entry#sequences) as some had missing data beyond that range. Files with multiple chains on RCSB were split into separate files in this dataset. "
   ]
  },
  {
   "cell_type": "code",
   "execution_count": 2,
   "id": "90428d13-4cd6-42e0-a3d3-e43d821be11d",
   "metadata": {},
   "outputs": [],
   "source": [
    "dir = \"../Examples/Examples Data/KRAS ends cut2/\""
   ]
  },
  {
   "cell_type": "markdown",
   "id": "eaece7d9-9500-4f70-aae3-2ef2ec47e65f",
   "metadata": {},
   "source": [
    "We start by creating `FGW_protein` objects for each KRAS protein."
   ]
  },
  {
   "cell_type": "code",
   "execution_count": 3,
   "id": "46330693-ceae-49e5-89a9-a446ba563a64",
   "metadata": {},
   "outputs": [],
   "source": [
    "protein_list = [FGW_protein.make_protein_from_pdb(pdb_file = os.path.join(dir, file))  for file in os.listdir(dir)]"
   ]
  },
  {
   "cell_type": "markdown",
   "id": "487000e3-e28d-430c-80c7-dd5fbc1bda4c",
   "metadata": {},
   "source": [
    "We then initialize a `Stress_Comparison` object to compare these proteins using GW and their stresses.\n",
    "In this example we store the transport plans in RAM for simplicity. This will use roughly 12.6 MB. "
   ]
  },
  {
   "cell_type": "code",
   "execution_count": 4,
   "id": "66d4f543-36a8-40fb-a728-7266428960aa",
   "metadata": {},
   "outputs": [],
   "source": [
    "A = stress_comparison.Stress_Comparison(prot_list = protein_list, RAM =  True)"
   ]
  },
  {
   "cell_type": "markdown",
   "id": "fd8b699c-923d-42fb-b4a1-b9b489d9326c",
   "metadata": {},
   "source": [
    "We then run GW all-vs-all. On our computer with 16 parallel processes this take 5 seconds. With a single process it takes around 40 seconds. If we set `RAM = False` the computation time takes about 71 amd 81 seconds"
   ]
  },
  {
   "cell_type": "code",
   "execution_count": 5,
   "id": "6f13e3e7-04f1-4bbd-b50d-a216aca92050",
   "metadata": {},
   "outputs": [
    {
     "name": "stdout",
     "output_type": "stream",
     "text": [
      "11883784\n"
     ]
    }
   ],
   "source": [
    "\n",
    "\n",
    "print(asizeof.asizeof(A))\n",
    "#11883784"
   ]
  },
  {
   "cell_type": "code",
   "execution_count": 6,
   "id": "fec80d8e-7031-4866-9a4e-5f4d6171c01e",
   "metadata": {},
   "outputs": [
    {
     "name": "stdout",
     "output_type": "stream",
     "text": [
      "CPU times: user 1.26 s, sys: 849 ms, total: 2.11 s\n",
      "Wall time: 5.35 s\n"
     ]
    }
   ],
   "source": [
    "%%time\n",
    "A.GW_compute_stresses(processes = 16)\n",
    "#5s"
   ]
  },
  {
   "cell_type": "code",
   "execution_count": 7,
   "id": "5779a9a5-8c2c-4635-b45d-e7d35d3528cb",
   "metadata": {},
   "outputs": [
    {
     "name": "stdout",
     "output_type": "stream",
     "text": [
      "CPU times: user 55.2 s, sys: 122 ms, total: 55.3 s\n",
      "Wall time: 55.3 s\n"
     ]
    }
   ],
   "source": [
    "%%time\n",
    "#41s\n",
    "A.GW_compute_stresses(processes = 1)"
   ]
  },
  {
   "cell_type": "code",
   "execution_count": 8,
   "id": "73941798-4793-41c3-b96b-9added982e1a",
   "metadata": {},
   "outputs": [
    {
     "name": "stdout",
     "output_type": "stream",
     "text": [
      "609824272\n"
     ]
    }
   ],
   "source": [
    "print(asizeof.asizeof(A))\n",
    "#609824272"
   ]
  },
  {
   "cell_type": "code",
   "execution_count": 9,
   "id": "48a34b11-4b3f-4eed-b59f-7bb987d542ec",
   "metadata": {},
   "outputs": [
    {
     "name": "stdout",
     "output_type": "stream",
     "text": [
      "593981552\n"
     ]
    }
   ],
   "source": [
    "print(asizeof.asizeof(A.transport_dict))\n",
    "#593981552"
   ]
  },
  {
   "cell_type": "code",
   "execution_count": 10,
   "id": "e8d4db82-f278-4a07-8d03-e0aef5472620",
   "metadata": {},
   "outputs": [],
   "source": [
    "B = stress_comparison.Stress_Comparison(prot_list = protein_list, RAM =  False, transport_dir= '.')"
   ]
  },
  {
   "cell_type": "code",
   "execution_count": 11,
   "id": "3201450e-56fd-4b56-b9ed-b844249fb49f",
   "metadata": {},
   "outputs": [
    {
     "name": "stdout",
     "output_type": "stream",
     "text": [
      "11759128\n"
     ]
    }
   ],
   "source": [
    "print(asizeof.asizeof(B))\n",
    "#11759000"
   ]
  },
  {
   "cell_type": "code",
   "execution_count": null,
   "id": "636b0d4b-7f65-4044-aa9b-1a5f9a5928fb",
   "metadata": {},
   "outputs": [],
   "source": [
    "%%time\n",
    "B.GW_compute_stresses(processes = 16)\n",
    "#15s"
   ]
  },
  {
   "cell_type": "code",
   "execution_count": null,
   "id": "bed6e01f-2db3-44fd-ad87-ca5d16ba45dd",
   "metadata": {},
   "outputs": [],
   "source": [
    "%%time\n",
    "#B.GW_compute_stresses(processes = 1)\n",
    "#79s"
   ]
  },
  {
   "cell_type": "code",
   "execution_count": null,
   "id": "33aaa826-99fd-4c4a-afb9-9a4cd16c766b",
   "metadata": {},
   "outputs": [],
   "source": [
    "print(asizeof.asizeof(B))\n",
    "#15845936"
   ]
  },
  {
   "cell_type": "markdown",
   "id": "5e4a83ee-6686-47cc-88c1-ddfa867e105f",
   "metadata": {},
   "source": [
    "We can study how the conformation of KRAS changes depending on the ligand it is bound to. The original PDB files contain KRAS bound to GDP and to the GTP-analogues GNP, GCP, and GSP."
   ]
  },
  {
   "cell_type": "code",
   "execution_count": null,
   "id": "97fa0d43-3be9-40e4-806e-2a4847ea30f1",
   "metadata": {},
   "outputs": [],
   "source": [
    "ligand_list = ['GNP',  'GCP',  'GSP',  'GCP',  'GDP',  'GDP',  'GDP',  'GDP',  'GDP',  'GDP',  'GDP',  'GDP',  'GDP',  'GDP',  'GDP',  'GDP',  'GDP',  'GDP',  'GDP',  'GSP',  'GDP',  'GDP',  'GDP',  'GDP',  'GDP',  'GDP',  'GDP',  'GDP',  'GSP',  'GNP',  'GDP',  'GNP',  'GNP',  'GNP',  'GDP',  'GNP',  'GNP',  'GNP',  'GNP',  'GDP',  'GDP',  'GDP',  'GDP',  'GDP',  'GDP',  'GDP',  'GDP',  'GDP',  'GDP',  'GDP',  'GDP',  'GDP',  'GDP',  'GDP']"
   ]
  },
  {
   "cell_type": "markdown",
   "id": "75a0e1f2-b82a-4b79-b3af-87fdef92e01e",
   "metadata": {},
   "source": [
    "For this visual analysis, we will create a UMAP plot. The proteins in blue are those bound to GTP-analogues. The proteins in red, green, and purple are proteins bound to GDP, with the color determined by their cluster."
   ]
  },
  {
   "cell_type": "code",
   "execution_count": null,
   "id": "f49c6854-9f06-4097-852c-86fc55d806dc",
   "metadata": {
    "scrolled": true
   },
   "outputs": [],
   "source": [
    "distance_matrix = A.get_GW_dmat()\n",
    "reducer = UMAP(metric = 'precomputed', random_state=14)\n",
    "embedding = reducer.fit_transform(distance_matrix)\n",
    "    \n",
    "\n",
    "group1 = [11, 34, 39, 40, 41, 42, 43, 44, 45, 46, 47] #purple\n",
    "group2 = [4, 20,21,22,23,24,25,26,27,49,50,51,52] #red\n",
    "group3 = [5, 6, 7, 8, 9, 10, 12, 13, 14, 15, 16, 17, 18, 30, 48, 53] #green\n",
    "group4 = [0, 1, 2, 3, 19, 28, 29, 31, 32, 33, 35, 36, 37, 38] #blue\n",
    "\n",
    "\n",
    "plt.figure(figsize=(8, 8))\n",
    "plt.scatter([embedding[i, 0] for i in group1], [embedding[i, 1] for i in group1], c= ['purple']*11, s=5)\n",
    "plt.scatter([embedding[i, 0] for i in group2], [embedding[i, 1] for i in group2], c= ['red']*13, s=5)\n",
    "plt.scatter([embedding[i, 0] for i in group3], [embedding[i, 1] for i in group3], c= ['green']*16, s=5)\n",
    "plt.scatter([embedding[i, 0] for i in group4], [embedding[i, 1] for i in group4], c= ['blue']*14, s=5)\n",
    "\n",
    "plt.show()\n",
    "#Pablo - try isomap here instead\n"
   ]
  },
  {
   "cell_type": "markdown",
   "id": "440eb205-634f-442e-b661-c0e4dd0cb095",
   "metadata": {},
   "source": [
    "Using pymol we can clearly see that these clusters reflect conformational differences between the proteins. In this image of switch region II we see that the four colors take have distinct conformations. We note that the blue and green groups are very close by both conformationationally and in the UMAP clustering, corresponding to the fact that they have they have low GW-distances. \n"
   ]
  },
  {
   "cell_type": "markdown",
   "id": "f71f54a6-4b72-472e-a462-8f9d7e1fc7af",
   "metadata": {},
   "source": [
    "![Screenshot2.png](Screenshot2.png)"
   ]
  },
  {
   "cell_type": "markdown",
   "id": "b219a9f3-ba80-402b-963a-2808c8b26d9f",
   "metadata": {},
   "source": [
    "In this image of switch region I we see that most GTP-analogue-bound proteins (blue) have similar conformations and most GDP-bound proteins (red, green, and purple) have similar conformations distinct from the GTP-analogue-bound ones. "
   ]
  },
  {
   "cell_type": "markdown",
   "id": "37c3400f-a20c-41aa-80a1-522be374c9b7",
   "metadata": {},
   "source": [
    "![Screenshot1.png](Screenshot1.png)"
   ]
  },
  {
   "cell_type": "markdown",
   "id": "bb56a2c2-122d-49be-a85f-b4a7e1ee05c3",
   "metadata": {},
   "source": [
    "Along with the different types of ligands, mutations, different drug candidates, and batch effects could contribute to the different conformations."
   ]
  },
  {
   "cell_type": "markdown",
   "id": "5fb0c006-8a7c-4363-8c87-a9f998bf5a4e",
   "metadata": {},
   "source": [
    "Next we use `pymol_protein_viewer.show_proteins_with_values` to visualize the proteins and the stress levels of different residues in the proteins. `A.raw_stress_levels` contains the stresses of all the pairwise calculations, so we first average them for each protein."
   ]
  },
  {
   "cell_type": "code",
   "execution_count": null,
   "id": "d97e2f23-21f2-4f03-bb7c-94766bd07b48",
   "metadata": {},
   "outputs": [],
   "source": [
    "avg_stresses_dict =  stress_comparison.normalize_stress_dict( A.raw_stress_dict)\n",
    "avg_stresses_list = [avg_stresses_dict[name] for name in A.name_list]"
   ]
  },
  {
   "cell_type": "code",
   "execution_count": null,
   "id": "33a91c8d-4764-42eb-b2dc-ebe278eb6aeb",
   "metadata": {},
   "outputs": [],
   "source": [
    "# commented out for testing\n",
    "#pymol_protein_viewer.show_proteins_with_values( infiles = [os.path.join(dir, file)  for file in os.listdir(dir)],     chain_ids = [ file[5]  for file in os.listdir(dir)],     data_lists = avg_stresses_list,     output_file = \"KRAS ends cut stresses.pse\")"
   ]
  },
  {
   "cell_type": "markdown",
   "id": "582d4f19-6748-4fe6-927c-29428b9615cb",
   "metadata": {},
   "source": [
    "The pymol file we generated and saved to `KRAS ends cut stresses.pse`can then be opened in a pymol GUI window. The switch I region is in the foreground at the upper right and the switch II region in the foreground center. We see that both have higher stress levels as indicated by the redder colors, whereas the non-switch regions have lower stress as indicated by yellows. \n"
   ]
  },
  {
   "cell_type": "markdown",
   "id": "93a92b79-0fef-48b3-8a18-1b60b704e7fe",
   "metadata": {},
   "source": [
    "![Screenshot3.png](Screenshot3.png)\n"
   ]
  },
  {
   "cell_type": "markdown",
   "id": "5c3a2788-cbb0-4351-826b-5c16988155a7",
   "metadata": {},
   "source": [
    "Next we will test how well the stress levels can be used to predict the switch I and switch II regions. These regions do not have well-defined endpoints but we will choose to use residues 30-40 and 60-72 in the canonical indexing respectively. As these files do not contain all the residues the switch regions are at indices 28-38 and 58-74 instead."
   ]
  },
  {
   "cell_type": "code",
   "execution_count": null,
   "id": "08d16f5a-5104-4e6f-889f-96ebbf8134fe",
   "metadata": {},
   "outputs": [],
   "source": [
    "switch_regions_dict = {p.name : [ int(i in range(28,39) or i in range(58,75)) for i in range(161)] for p in protein_list}\n",
    "\n",
    "p,r,_ = sklearn.metrics.precision_recall_curve(switch_regions_dict['5mla_A'],  avg_stresses_dict['5mla_A'])\n",
    "sklearn.metrics.PrecisionRecallDisplay(precision = p, recall = r).plot()\n",
    "plt.show()\n",
    "avg_precision_dict = stress_comparison.get_AP_scores(avg_stresses_dict, switch_regions_dict, upper = True)"
   ]
  },
  {
   "cell_type": "code",
   "execution_count": null,
   "id": "871dddbc-e97d-427b-bd35-674c33d374b9",
   "metadata": {},
   "outputs": [],
   "source": [
    "\n",
    "transferred_stresses = stress_comparison.normalize_stress_dict( A.raw_transferred_stresses(avg_stresses_dict))\n"
   ]
  },
  {
   "cell_type": "code",
   "execution_count": null,
   "id": "0df7935b-c68a-44b7-a7ee-ef5ad4865780",
   "metadata": {},
   "outputs": [],
   "source": [
    "p,r,_ = sklearn.metrics.precision_recall_curve(switch_regions_dict['5mla_A'],  transferred_stresses['5mla_A'])\n",
    "sklearn.metrics.PrecisionRecallDisplay(precision = p, recall = r).plot()\n",
    "plt.show()\n",
    "\n",
    "transferred_avg_precision_dict = stress_comparison.get_AP_scores(transferred_stresses, switch_regions_dict, upper = True)"
   ]
  },
  {
   "cell_type": "code",
   "execution_count": null,
   "id": "22d2f058-6523-4147-870a-2c291fa708a7",
   "metadata": {},
   "outputs": [],
   "source": [
    "avg_precision_dict = stress_comparison.get_AP_scores(avg_stresses_dict, switch_regions_dict, upper = True)\n",
    "transferred_avg_precision_dict = stress_comparison.get_AP_scores(transferred_stresses, switch_regions_dict, upper = True)"
   ]
  },
  {
   "cell_type": "code",
   "execution_count": null,
   "id": "39e44280-3c9a-434b-9994-7bd08a9cd662",
   "metadata": {},
   "outputs": [],
   "source": [
    "\n",
    "np.mean([avg_precision_dict[k]  for k in A.name_list])"
   ]
  },
  {
   "cell_type": "code",
   "execution_count": null,
   "id": "481e430d-cc7d-4099-82a5-3bc529a2480f",
   "metadata": {},
   "outputs": [],
   "source": [
    "\n",
    "np.mean([transferred_avg_precision_dict[k]  for k in A.name_list])"
   ]
  },
  {
   "cell_type": "code",
   "execution_count": null,
   "id": "57c7b422-e0e5-483f-8754-1eb980a5103a",
   "metadata": {},
   "outputs": [],
   "source": []
  },
  {
   "cell_type": "code",
   "execution_count": null,
   "id": "bc832f33-3df9-405f-8711-2ce0d9ac56e3",
   "metadata": {},
   "outputs": [],
   "source": []
  }
 ],
 "metadata": {
  "kernelspec": {
   "display_name": "Python 3 (ipykernel)",
   "language": "python",
   "name": "python3"
  },
  "language_info": {
   "codemirror_mode": {
    "name": "ipython",
    "version": 3
   },
   "file_extension": ".py",
   "mimetype": "text/x-python",
   "name": "python",
   "nbconvert_exporter": "python",
   "pygments_lexer": "ipython3",
   "version": "3.10.12"
  }
 },
 "nbformat": 4,
 "nbformat_minor": 5
}
