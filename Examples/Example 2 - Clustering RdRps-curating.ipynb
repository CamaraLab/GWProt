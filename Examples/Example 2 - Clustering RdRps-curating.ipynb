{
 "cells": [
  {
   "cell_type": "code",
   "execution_count": 49,
   "id": "86789648-6b77-4383-9a7b-cb64797f22fe",
   "metadata": {},
   "outputs": [],
   "source": [
    "\"\"\"\n",
    "This one is for finding good proteins to use for this example\n",
    "\n",
    "\n",
    "\"\"\"\n",
    "import os\n",
    "os.environ['OPENBLAS_NUM_THREADS'] = '1' \n",
    "import numpy as np\n",
    "import itertools as it\n",
    "import multiprocess\n",
    "import matplotlib.pyplot as plt\n",
    "from umap.umap_ import UMAP\n",
    "\n",
    "\n",
    "#from GW_prot import *\n",
    "\n",
    "\n",
    "import sys\n",
    "sys.path.insert(0,'../src')\n",
    "from FGW_protein import *\n",
    "from FGW_protein_pI import *"
   ]
  },
  {
   "cell_type": "code",
   "execution_count": 50,
   "id": "8db3ae02-a38e-42cd-84b2-e86767621296",
   "metadata": {},
   "outputs": [
    {
     "data": {
      "text/plain": [
       "'\\nTo do\\n- main thing is find a better set of proteins to work with\\n'"
      ]
     },
     "execution_count": 50,
     "metadata": {},
     "output_type": "execute_result"
    }
   ],
   "source": [
    "\"\"\"\n",
    "To do\n",
    "- main thing is find a better set of proteins to work with\n",
    "\"\"\""
   ]
  },
  {
   "cell_type": "markdown",
   "id": "dfb1bd4d-730d-4086-832d-59b902fe21e5",
   "metadata": {},
   "source": [
    "This example demonstrates variants of Gromov-Wasserstein which can be computed with GWProt. The dataset used in this example includes XXXXXX"
   ]
  },
  {
   "cell_type": "markdown",
   "id": "fc9f419d-5583-400d-81f8-205cd2f2b5cc",
   "metadata": {},
   "source": [
    "We define a helper method to compute pairwise all-vs-all GW distances, then display \n",
    "to compute the [silhoutte score](https://en.wikipedia.org/wiki/Silhouette_(clustering)#:~:text=The%20silhouette%20score%20is%20specialized,distance%20or%20the%20Manhattan%20distance.) and [Davies-Bouldin score](https://en.wikipedia.org/wiki/Davies–Bouldin_index), two basic measures of clustering to evaluate the accuracy of different methods in GWProt. A higher silhoutte score and lower Davies-Bouldin score mean better clustering."
   ]
  },
  {
   "cell_type": "code",
   "execution_count": 51,
   "id": "8a5b04f6-e567-404c-901a-4a2878a6171e",
   "metadata": {},
   "outputs": [],
   "source": [
    "from sklearn.metrics import silhouette_score # higher is better, 0 is overlapping\n",
    "from sklearn.metrics import davies_bouldin_score #lower is better\n",
    "\n",
    "def get_clustering(dmat, inds1, inds2, umap = False):\n",
    "    N = len(inds1 + inds2)\n",
    "    \n",
    "    dist_mat = dmat[np.ix_(inds1 + inds2,inds1 + inds2)]\n",
    "    labels = [0]*len(inds1) + [1]*len(inds2)\n",
    "\n",
    "    s_score = silhouette_score(X = dist_mat, labels = labels, metric='precomputed')\n",
    "    db_score = davies_bouldin_score(dist_mat, labels = labels)\n",
    "\n",
    "    if umap:\n",
    "        print(f\"Silhouette Score: {s_score}\")\n",
    "        print(f\"Davies-Bouldin Score: {db_score}\")\n",
    "\n",
    "        reducer = UMAP(metric = 'precomputed', random_state=1)\n",
    "        embedding = reducer.fit_transform(dist_mat)\n",
    "        plt.figure(figsize=(5, 5))\n",
    "        plt.scatter(embedding[:, 0], embedding[:, 1], c= ['red' if labels[i] else 'blue' for i in range(N)], s=5)\n",
    "        plt.show()\n",
    "    return s_score, db_score\n",
    "\n",
    "\n",
    "import random\n",
    "random.seed(1)\n",
    "\n",
    "def random_combination(iterable, r):\n",
    "    \"Random selection from itertools.combinations(iterable, r)\"  \n",
    "    pool = tuple(iterable)\n",
    "    n = len(pool)\n",
    "    indices = sorted(random.sample(range(n), r))\n",
    "    return tuple(pool[i] for i in indices)\n"
   ]
  },
  {
   "cell_type": "code",
   "execution_count": 9,
   "id": "86353947-953b-42de-a68b-86a01c84a965",
   "metadata": {},
   "outputs": [
    {
     "name": "stdout",
     "output_type": "stream",
     "text": [
      " DALI_out,200.csv.npy\n",
      " DALI_out.csv.npy\n",
      "'FGW200_a=0.02.csv_fixed.npy'\n",
      "'FGW200_alpha=0.02.csv.npy'\n",
      "'FGW200_alpha=0.02_corrected.csv.npy'\n",
      "'FGW200_alpha=0.02_scaled.csv.npy'\n",
      "'FGW200_alpha=0.02_scaled.csv_fixed.npy'\n",
      "'FGW200_alpha=0.05.csv.npy'\n",
      "'FGW200_alpha=0.05_sqrt.csv.npy'\n",
      "'FGW200_alpha=0.05_sqrt.csv_fixed.npy'\n",
      " FGW_strat,all,scaled.csv.npy\n",
      " FGW_strat,scaled,all.csv.npy\n",
      " Foldseek_Palmstrub_3Di_alignment_raw.csv.npy\n",
      " Foldseek_raw.csv.npy\n",
      " GW_100.csv.npy\n",
      " GW_100.v2.csv.npy\n",
      " GW_200.csv.npy\n",
      " GW_50..csv.npy\n",
      " GW_50.csv.npy\n",
      " GW_50.v2.csv.npy\n",
      " GW_all,200.csv.npy\n",
      " GW_clustered,50.csv.npy\n",
      "'Palmstrub truncated GW200.csv.npy'\n",
      "'Palmstrub_FGW200_alpha=0.05_median_sqrt.csv_fixed.npy'\n",
      " Palmstrub_GW100_idinit.csv.npy\n",
      " Palmstrub_GW100_idinit_sqrt.csv.npy\n",
      " Palmstrub_GW200_global_seq_align.csv.npy\n",
      " Palmstrub_GW200_idinit.csv.npy\n",
      "'Palmstrub_GW200_idinit_stride_a=3.csv.npy'\n",
      " Palmstrub_GW200_scaled_ssearch_seq_align.csv.npy\n",
      " Palmstrub_GW200_scaled_ssearch_seq_alignREDO.csv.npy\n",
      " Palmstrub_GW200_sqrt_idinit.csv.npy\n",
      "'Palmstrub_GW200_sqrt_idinit_stride_a=3.csv.npy'\n",
      " Palmstrub_GW200_ssearch_seq_align.csv.npy\n",
      " Palmstrub_GW50_idinit.csv.npy\n",
      " Palmstrub_GW50_idinit_sqrt.csv.npy\n",
      " QGW_100,25.csv.npy\n",
      " QGW_100,25.v2.csv.npy\n",
      " QGW_100,75.csv.npy\n",
      " TM_fast_out.csv.npy\n",
      " TM_fast_raw.csv.npy\n",
      " TM_fixed.csv.npy\n",
      " TM_parallel_raw.csv.npy\n",
      " TM_parallell_desktop.csv.npy\n",
      " palmstrub_FGW200_Idinit_sqrtscaled.csv.npy\n",
      " palmstrub_FGWseq_0.02.csv.npy\n",
      " palmstrub_FGWseq_0.05.csv.npy\n",
      " palmstrub_FGWseq_0.5_sqrt.csv.npy\n",
      " viralFGW__triineq_TEST.csv.npy\n",
      " viralFGW_triineq_TEST.csv.npy\n",
      " viralGW_triineqTEST.csv.npy\n"
     ]
    }
   ],
   "source": [
    "!ls '../../../Data/Palmstrub Computation Results/Palmstrub npy results'"
   ]
  },
  {
   "cell_type": "code",
   "execution_count": 32,
   "id": "db843d99-fcf0-4610-ac93-20e7666b4b02",
   "metadata": {},
   "outputs": [],
   "source": [
    "files = ['Palmstrub_GW100_idinit.csv.npy',\n",
    "'Palmstrub_GW100_idinit_sqrt.csv.npy',\n",
    "'Palmstrub_GW200_idinit.csv.npy',\n",
    "'GW_100.v2.csv.npy',\n",
    "'palmstrub_FGW200_Idinit_sqrtscaled.csv.npy',\n",
    "'Palmstrub_GW200_global_seq_align.csv.npy',\n",
    "'Palmstrub_GW200_scaled_ssearch_seq_alignREDO.csv.npy']"
   ]
  },
  {
   "cell_type": "code",
   "execution_count": 13,
   "id": "90401323-70f2-448d-ac25-41738f817dba",
   "metadata": {},
   "outputs": [],
   "source": [
    "# data that's the same throughout all runs\n",
    "import json\n",
    "\n",
    "Taxonomy_array = np.load('../../PGC020.a5/Taxonomy_array.npy')\n",
    "all_files = os.listdir(\"../../../Data/palmstrub\")\n",
    "palmstrub_list = all_files\n",
    "with open(\"../../PGC020.a5/test_anot.json\", \"r\") as f:\n",
    "    data = json.load(f)\n",
    "doubled_pdb = \"rdrp.abc.YP_009273004\"\n",
    "data['names'].index(doubled_pdb)\n",
    "for k in data.keys():\n",
    "    \n",
    "    data[k].pop(2632)\n",
    "\n",
    "decoy_list = []\n",
    "counter = 0\n",
    "for file in all_files:\n",
    "    if 'ecoy' in file:\n",
    "        decoy_list.append('decoy')\n",
    "    else:\n",
    "        decoy_list.append('rdrp')\n"
   ]
  },
  {
   "cell_type": "code",
   "execution_count": 24,
   "id": "08e559c7-6abc-4203-9609-8c9e3ed814a9",
   "metadata": {},
   "outputs": [],
   "source": [
    "taxonomy_level = 4\n",
    "clade_dict = {}\n",
    "for i in range(5127):\n",
    "    if Taxonomy_array[i][taxonomy_level] != -1 and Taxonomy_array[i][taxonomy_level] != '-1': \n",
    "         clade_dict[data['names'][i]] = Taxonomy_array[i][taxonomy_level]\n",
    "\n",
    "\n",
    "# make list of the indices of the phylla\n",
    "phyllum_indices_dict = {}\n",
    "for phyllum in [' Duplornaviricota', ' Kitrinoviricota', ' Lenarviricota', ' Negarnaviricota', ' Pisuviricota']:\n",
    "    phyllum_indices_dict[phyllum] = []\n",
    "    for i in range(5127):\n",
    "        file = all_files[i].removesuffix('.pdb')\n",
    "        if file not in clade_dict.keys():\n",
    "            continue\n",
    "        if clade_dict[all_files[i].removesuffix('.pdb')] == phyllum:\n",
    "            phyllum_indices_dict[phyllum].append(i)\n",
    "            \n",
    "\n",
    "            \n",
    "    \n",
    "        \n",
    "\n",
    "#    ' Duplornaviricota' : 'red',\n",
    "#     ' Kitrinoviricota': 'orange',\n",
    "#     ' Lenarviricota' : 'green',\n",
    "#   ' Negarnaviricota':'dodgerblue',\n",
    "# ' Pisuviricota': 'mediumpurple',"
   ]
  },
  {
   "cell_type": "code",
   "execution_count": 36,
   "id": "21016acd-fb96-477f-9eee-0a5409ac8ec7",
   "metadata": {},
   "outputs": [
    {
     "name": "stdout",
     "output_type": "stream",
     "text": [
      "Silhouette Score: 0.06061066380469136\n",
      "Davies-Bouldin Score: 2.9313454351506554\n"
     ]
    },
    {
     "data": {
      "image/png": "[encoded data removed]",
      "text/plain": [
       "<Figure size 500x500 with 1 Axes>"
      ]
     },
     "metadata": {},
     "output_type": "display_data"
    },
    {
     "data": {
      "text/plain": [
       "(0.06061066380469136, 2.9313454351506554)"
      ]
     },
     "execution_count": 36,
     "metadata": {},
     "output_type": "execute_result"
    }
   ],
   "source": [
    "file = 'FGW200_alpha=0.02_corrected.csv.npy'\n",
    "phyllum1 = ' Duplornaviricota'\n",
    "phyllum2 = ' Pisuviricota'\n",
    "N = 50\n",
    "\n",
    "dmat = np.load('../../../Data/Palmstrub Computation Results/Palmstrub npy results/' + file)\n",
    "\n",
    "inds1 = random_combination(phyllum_indices_dict[phyllum1], N)\n",
    "inds2 = random_combination(phyllum_indices_dict[phyllum2], N)\n",
    "get_clustering(dmat= dmat, inds1= inds1, inds2 = inds2, umap= True)"
   ]
  },
  {
   "cell_type": "code",
   "execution_count": 45,
   "id": "db2d29e1-9d8c-4a8f-ace8-3db0cb28c699",
   "metadata": {},
   "outputs": [
    {
     "name": "stdout",
     "output_type": "stream",
     "text": [
      "(' Duplornaviricota', ' Kitrinoviricota')\n",
      "('Palmstrub_GW200_scaled_ssearch_seq_alignREDO.csv.npy', 0.1335590803156291, 2.127387316253504)\n",
      "('Palmstrub_GW200_global_seq_align.csv.npy', 0.1276693847233032, 2.163616788292505)\n",
      "('Palmstrub_GW200_idinit.csv.npy', 0.1088885267854536, 2.2881111056978956)\n",
      "('Palmstrub_GW100_idinit.csv.npy', 0.10243945622023938, 2.302543522246586)\n",
      "('Palmstrub_GW100_idinit_sqrt.csv.npy', 0.11327051731021304, 2.491529398358626)\n",
      "('palmstrub_FGW200_Idinit_sqrtscaled.csv.npy', 0.10541724455904777, 2.53557906962687)\n",
      "('GW_100.v2.csv.npy', 0.0588271082108828, 2.947095655180902)\n",
      "*************************\n",
      "(' Duplornaviricota', ' Lenarviricota')\n",
      "('Palmstrub_GW200_scaled_ssearch_seq_alignREDO.csv.npy', 0.11446966344165366, 2.561539473753295)\n",
      "('Palmstrub_GW200_global_seq_align.csv.npy', 0.11166720459647779, 2.7889870695595547)\n",
      "('palmstrub_FGW200_Idinit_sqrtscaled.csv.npy', 0.08500229968693988, 2.9732523921787664)\n",
      "('Palmstrub_GW100_idinit_sqrt.csv.npy', 0.07993719283531486, 3.089399726585165)\n",
      "('Palmstrub_GW200_idinit.csv.npy', 0.08232193190950539, 3.1203145766514786)\n",
      "('Palmstrub_GW100_idinit.csv.npy', 0.07714216923752627, 3.1731534466086506)\n",
      "('GW_100.v2.csv.npy', 0.044084750204099514, 4.17339819682312)\n",
      "*************************\n",
      "(' Duplornaviricota', ' Negarnaviricota')\n",
      "('Palmstrub_GW200_idinit.csv.npy', 0.25865556649617594, 1.0768479736923362)\n",
      "('Palmstrub_GW100_idinit.csv.npy', 0.2408746755899115, 1.1225912301800527)\n",
      "('Palmstrub_GW200_global_seq_align.csv.npy', 0.2511546857314487, 1.215224916332945)\n",
      "('GW_100.v2.csv.npy', 0.20032250934038934, 1.2173525492783355)\n",
      "('palmstrub_FGW200_Idinit_sqrtscaled.csv.npy', 0.21856367266378865, 1.2983926161215926)\n",
      "('Palmstrub_GW200_scaled_ssearch_seq_alignREDO.csv.npy', 0.20606304042753268, 1.4418278921135235)\n",
      "('Palmstrub_GW100_idinit_sqrt.csv.npy', 0.18355984314164775, 1.4556709040988414)\n",
      "*************************\n",
      "(' Duplornaviricota', ' Pisuviricota')\n",
      "('Palmstrub_GW200_scaled_ssearch_seq_alignREDO.csv.npy', 0.11577809473865813, 2.1865448279730595)\n",
      "('palmstrub_FGW200_Idinit_sqrtscaled.csv.npy', 0.10849731256106775, 2.2062970098937367)\n",
      "('Palmstrub_GW200_global_seq_align.csv.npy', 0.11704733613509108, 2.2245626641417924)\n",
      "('Palmstrub_GW200_idinit.csv.npy', 0.10137236471521727, 2.2889896394879403)\n",
      "('Palmstrub_GW100_idinit.csv.npy', 0.0879897326757853, 2.387973156236998)\n",
      "('Palmstrub_GW100_idinit_sqrt.csv.npy', 0.09002045663511067, 2.5459480611168823)\n",
      "('GW_100.v2.csv.npy', 0.05335402574986301, 3.0545036049600363)\n",
      "*************************\n",
      "(' Kitrinoviricota', ' Lenarviricota')\n",
      "('Palmstrub_GW200_idinit.csv.npy', 0.2578960004690357, 0.9517396289746363)\n",
      "('Palmstrub_GW100_idinit.csv.npy', 0.24195633371595604, 0.9686302683707649)\n",
      "('Palmstrub_GW200_global_seq_align.csv.npy', 0.2666958766227479, 1.0146568222909955)\n",
      "('Palmstrub_GW200_scaled_ssearch_seq_alignREDO.csv.npy', 0.24013193459343526, 1.0765933442458737)\n",
      "('Palmstrub_GW100_idinit_sqrt.csv.npy', 0.2106122579563766, 1.1154031729410028)\n",
      "('palmstrub_FGW200_Idinit_sqrtscaled.csv.npy', 0.22457124036746012, 1.1481354571810904)\n",
      "('GW_100.v2.csv.npy', 0.18306446656653608, 1.244867835358649)\n",
      "*************************\n",
      "(' Kitrinoviricota', ' Negarnaviricota')\n",
      "('Palmstrub_GW200_idinit.csv.npy', 0.4198058631693323, 0.5797811421117113)\n",
      "('Palmstrub_GW100_idinit.csv.npy', 0.3947611607133558, 0.6007583440940482)\n",
      "('Palmstrub_GW200_global_seq_align.csv.npy', 0.41389274999623027, 0.643411453063274)\n",
      "('GW_100.v2.csv.npy', 0.3309718894514326, 0.7061806215328996)\n",
      "('Palmstrub_GW200_scaled_ssearch_seq_alignREDO.csv.npy', 0.35019675160985236, 0.735834912097903)\n",
      "('palmstrub_FGW200_Idinit_sqrtscaled.csv.npy', 0.3572226905624056, 0.7410622199926292)\n",
      "('Palmstrub_GW100_idinit_sqrt.csv.npy', 0.2991251050241457, 0.8656713256154769)\n",
      "*************************\n",
      "(' Kitrinoviricota', ' Pisuviricota')\n",
      "('Palmstrub_GW200_scaled_ssearch_seq_alignREDO.csv.npy', 0.11051491246915328, 2.7494628711950715)\n",
      "('Palmstrub_GW200_global_seq_align.csv.npy', 0.10720216720269385, 2.9340814782313585)\n",
      "('palmstrub_FGW200_Idinit_sqrtscaled.csv.npy', 0.08199647936252577, 3.2973242418399202)\n",
      "('Palmstrub_GW200_idinit.csv.npy', 0.075027057772002, 3.4197763444231035)\n",
      "('Palmstrub_GW100_idinit.csv.npy', 0.07138713053840502, 3.434290455931239)\n",
      "('Palmstrub_GW100_idinit_sqrt.csv.npy', 0.08477473478877975, 3.570862250935807)\n",
      "('GW_100.v2.csv.npy', 0.04079655748192968, 4.0414091289129495)\n",
      "*************************\n",
      "(' Lenarviricota', ' Negarnaviricota')\n",
      "('Palmstrub_GW200_global_seq_align.csv.npy', 0.195242177648835, 1.3767058591341088)\n",
      "('Palmstrub_GW200_idinit.csv.npy', 0.1805620940877245, 1.3873507787085828)\n",
      "('palmstrub_FGW200_Idinit_sqrtscaled.csv.npy', 0.17912313411659167, 1.393705326844515)\n",
      "('Palmstrub_GW100_idinit.csv.npy', 0.16699763367717602, 1.434387976336766)\n",
      "('Palmstrub_GW200_scaled_ssearch_seq_alignREDO.csv.npy', 0.17421315117078717, 1.4667783994562407)\n",
      "('Palmstrub_GW100_idinit_sqrt.csv.npy', 0.1255740812437839, 1.777633056201852)\n",
      "('GW_100.v2.csv.npy', 0.11947303067463524, 1.7994554281025945)\n",
      "*************************\n",
      "(' Lenarviricota', ' Pisuviricota')\n",
      "('Palmstrub_GW200_idinit.csv.npy', 0.20925714006508966, 1.1725946876065672)\n",
      "('Palmstrub_GW100_idinit.csv.npy', 0.193926724483775, 1.1985670405022646)\n",
      "('Palmstrub_GW200_global_seq_align.csv.npy', 0.22932593354826303, 1.22484847306376)\n",
      "('palmstrub_FGW200_Idinit_sqrtscaled.csv.npy', 0.19869866883212065, 1.26572966745083)\n",
      "('Palmstrub_GW200_scaled_ssearch_seq_alignREDO.csv.npy', 0.20198794466884856, 1.3204581834897364)\n",
      "('Palmstrub_GW100_idinit_sqrt.csv.npy', 0.15858832677298113, 1.3972789996783412)\n",
      "('GW_100.v2.csv.npy', 0.14924971593842523, 1.5084198147766232)\n",
      "*************************\n",
      "(' Negarnaviricota', ' Pisuviricota')\n",
      "('Palmstrub_GW200_idinit.csv.npy', 0.34202741591809455, 0.7954291727549333)\n",
      "('Palmstrub_GW200_global_seq_align.csv.npy', 0.3633802017526739, 0.8095693302002537)\n",
      "('Palmstrub_GW100_idinit.csv.npy', 0.3233447965940488, 0.8147224133940946)\n",
      "('palmstrub_FGW200_Idinit_sqrtscaled.csv.npy', 0.3236652122205954, 0.822784584017484)\n",
      "('Palmstrub_GW200_scaled_ssearch_seq_alignREDO.csv.npy', 0.31461039517028844, 0.8967870810451865)\n",
      "('GW_100.v2.csv.npy', 0.27423417501902725, 0.9229954261417872)\n",
      "('Palmstrub_GW100_idinit_sqrt.csv.npy', 0.2476787458394409, 1.0654479089849382)\n",
      "*************************\n"
     ]
    }
   ],
   "source": [
    "for pair in it.combinations([' Duplornaviricota', ' Kitrinoviricota', ' Lenarviricota', ' Negarnaviricota', ' Pisuviricota'],2):\n",
    "    \n",
    "\n",
    "    phyllum1 , phyllum2 = pair\n",
    "    N = 50\n",
    "    inds1 = random_combination(phyllum_indices_dict[phyllum1], N)\n",
    "    inds2 = random_combination(phyllum_indices_dict[phyllum2], N)\n",
    "    \n",
    "    results = []\n",
    "    print(pair)\n",
    "    \n",
    "    for file in files:\n",
    "    \n",
    "    \n",
    "        dmat = np.load('../../../Data/Palmstrub Computation Results/Palmstrub npy results/' + file)\n",
    "        s, db = get_clustering(dmat= dmat, inds1= inds1, inds2 = inds2, umap= False)\n",
    "        results.append((file, s, db))\n",
    "    \n",
    "    for a in sorted(results, key = lambda x: x[2]):\n",
    "        print(a)\n",
    "    print('*************************')\n",
    "    # for a in sorted(results, key = lambda x: x[1], reverse=True):\n",
    "    #     print(a)\n",
    "\n",
    "(' Duplornaviricota', ' Lenarviricota')"
   ]
  },
  {
   "cell_type": "code",
   "execution_count": 48,
   "id": "1ae2ff75-43b3-4785-9f14-4e84ea61aaaf",
   "metadata": {},
   "outputs": [
    {
     "data": {
      "text/plain": [
       "[532,\n",
       " 572,\n",
       " 584,\n",
       " 585,\n",
       " 776,\n",
       " 794,\n",
       " 795,\n",
       " 796,\n",
       " 816,\n",
       " 982,\n",
       " 984,\n",
       " 1012,\n",
       " 1014,\n",
       " 1083,\n",
       " 1154,\n",
       " 1245,\n",
       " 1246,\n",
       " 1268,\n",
       " 1316,\n",
       " 1320,\n",
       " 1321,\n",
       " 1322,\n",
       " 1323,\n",
       " 1324,\n",
       " 1325,\n",
       " 1326,\n",
       " 1342,\n",
       " 1343,\n",
       " 1344,\n",
       " 1359,\n",
       " 1377,\n",
       " 1378,\n",
       " 1379,\n",
       " 1380,\n",
       " 1381,\n",
       " 1501,\n",
       " 1502,\n",
       " 1511,\n",
       " 1817,\n",
       " 1818,\n",
       " 1824,\n",
       " 1826,\n",
       " 1827,\n",
       " 1828,\n",
       " 1829,\n",
       " 1830,\n",
       " 1831,\n",
       " 1832,\n",
       " 1833,\n",
       " 1834,\n",
       " 1837,\n",
       " 1838,\n",
       " 1840,\n",
       " 1841,\n",
       " 1842,\n",
       " 1889,\n",
       " 1891,\n",
       " 1892,\n",
       " 1893,\n",
       " 1894,\n",
       " 1899,\n",
       " 1980,\n",
       " 2017,\n",
       " 2018,\n",
       " 2019,\n",
       " 2020,\n",
       " 2021,\n",
       " 2022,\n",
       " 2023,\n",
       " 2024,\n",
       " 2036,\n",
       " 2086,\n",
       " 2091,\n",
       " 2756,\n",
       " 2835,\n",
       " 2865,\n",
       " 2895,\n",
       " 2946,\n",
       " 2988,\n",
       " 2989,\n",
       " 3027,\n",
       " 3044,\n",
       " 3061,\n",
       " 3087,\n",
       " 3163,\n",
       " 3164,\n",
       " 3166,\n",
       " 3167,\n",
       " 3168,\n",
       " 3217,\n",
       " 3241,\n",
       " 3243,\n",
       " 3245,\n",
       " 3304,\n",
       " 3305,\n",
       " 3339,\n",
       " 3358,\n",
       " 3418,\n",
       " 3455,\n",
       " 3499,\n",
       " 3501,\n",
       " 3503,\n",
       " 3504,\n",
       " 3578,\n",
       " 3719,\n",
       " 3723,\n",
       " 3724,\n",
       " 3778,\n",
       " 3829,\n",
       " 3830,\n",
       " 3848,\n",
       " 3881,\n",
       " 3913,\n",
       " 3917,\n",
       " 3918,\n",
       " 3919,\n",
       " 3920,\n",
       " 3921,\n",
       " 3949,\n",
       " 3951,\n",
       " 3952,\n",
       " 3953,\n",
       " 4960,\n",
       " 5031]"
      ]
     },
     "execution_count": 48,
     "metadata": {},
     "output_type": "execute_result"
    }
   ],
   "source": [
    "phyllum_indices_dict[' Lenarviricota']"
   ]
  },
  {
   "cell_type": "markdown",
   "id": "7fa31a4b-291b-44dc-b2a2-ae8007bccf39",
   "metadata": {},
   "source": [
    "The main class in GWProt is `FGW_protein`, whose objects contain the relevant data for a protein including the coordinates of each alpha-Carbon, the sequence, and the intra-protein distance matrix, an array containing all pairwise distances between alpha-Carbons. We can initialize objects in this class from PDB (protein databank) files."
   ]
  },
  {
   "cell_type": "code",
   "execution_count": null,
   "id": "7a59d22d-24c2-409e-95d8-6372d43fcb03",
   "metadata": {},
   "outputs": [],
   "source": [
    "base_prots = [FGW_protein.make_protein_from_pdb(file) for file in decoys + rdrps]"
   ]
  },
  {
   "cell_type": "markdown",
   "id": "e5e0b2d2-ad17-4361-b2a8-4fd44e6ce8ff",
   "metadata": {},
   "source": [
    "For faster computations, we can downsample to an evenly spaced subset of the residues:"
   ]
  },
  {
   "cell_type": "code",
   "execution_count": null,
   "id": "c58b1364-5c0b-4070-a140-45dbc072b452",
   "metadata": {},
   "outputs": [],
   "source": [
    "downsamped_100_prots = [p.downsample_n(n=100) for p in base_prots]"
   ]
  },
  {
   "cell_type": "markdown",
   "id": "ecc2cee0-a156-4b42-87e8-5a54897c0640",
   "metadata": {},
   "source": [
    "We can also rescale the intra-protein distance matrices, where computing GW distances gives greater weight to local distances."
   ]
  },
  {
   "cell_type": "code",
   "execution_count": null,
   "id": "7c86eed4-9b36-4942-9fa2-17f5ee6ff6c4",
   "metadata": {},
   "outputs": [],
   "source": [
    "scaled_prots = [p.scale_ipdm(inplace = False) for p in base_prots]"
   ]
  },
  {
   "cell_type": "markdown",
   "id": "bbbb2469-4296-4a2d-b01f-8c9f50776bf2",
   "metadata": {},
   "source": [
    "We can also combine both variants and confirm that the order does not matter:"
   ]
  },
  {
   "cell_type": "code",
   "execution_count": null,
   "id": "e80f1551-8cf4-43da-966c-e8f7c36ee8ed",
   "metadata": {},
   "outputs": [],
   "source": [
    "downsampled_then_scaled_prots = [p.scale_ipdm(inplace = False) for p in downsamped_100_prots]\n",
    "scaled_then_downsampled_prots = [p.downsample_n(n=100) for p in scaled_prots]\n",
    "assert downsampled_then_scaled_prots == scaled_then_downsampled_prots"
   ]
  },
  {
   "cell_type": "code",
   "execution_count": null,
   "id": "35570074-a67f-43b3-8c2f-91250fd10ed8",
   "metadata": {},
   "outputs": [],
   "source": [
    "compute_in_parallel(proteins=base_prots, comparison_method= FGW_protein.run_GW)"
   ]
  },
  {
   "cell_type": "code",
   "execution_count": null,
   "id": "ace589e1-655e-4ad9-acd5-17962778d650",
   "metadata": {},
   "outputs": [],
   "source": [
    "compute_in_parallel(proteins=downsamped_100_prots, comparison_method= FGW_protein.run_GW)"
   ]
  },
  {
   "cell_type": "code",
   "execution_count": null,
   "id": "81914052-24d3-4ea4-814b-3216cf3168e6",
   "metadata": {},
   "outputs": [],
   "source": [
    "compute_in_parallel(proteins=downsampled_then_scaled_prots, comparison_method= FGW_protein.run_GW)"
   ]
  },
  {
   "cell_type": "code",
   "execution_count": null,
   "id": "cccab114-200c-47da-9fb3-722d4f3f45a3",
   "metadata": {},
   "outputs": [],
   "source": []
  },
  {
   "cell_type": "code",
   "execution_count": null,
   "id": "e6faed72-4e9f-4f04-8c63-75c7c35dcba9",
   "metadata": {
    "scrolled": true
   },
   "outputs": [],
   "source": [
    "%%time \n",
    "# compute GW\n",
    "GW_dist_mat = np.zeros((50,50))\n",
    "\n",
    "with multiprocess.Pool() as pool:\n",
    "    results = pool.imap(lambda pair: (pair[0], pair[1], FGW_protein.run_GW(base_prots[pair[0]], base_prots[pair[1]])), it.combinations(range(50),2))\n",
    "    for r in results:\n",
    "        i,j,d = r\n",
    "        GW_dist_mat[i,j] = d\n",
    "        GW_dist_mat[j,i] = d\n",
    "\n",
    "# 4min 11s"
   ]
  },
  {
   "cell_type": "code",
   "execution_count": 61,
   "id": "bbce90f3-3e46-44f8-a76d-c0de46552bac",
   "metadata": {},
   "outputs": [
    {
     "data": {
      "image/png": "[encoded data removed]",
      "text/plain": [
       "<Figure size 500x500 with 1 Axes>"
      ]
     },
     "metadata": {},
     "output_type": "display_data"
    },
    {
     "name": "stdout",
     "output_type": "stream",
     "text": [
      "Silhouette Score: 0.07705666396146785\n",
      "Davies-Bouldin Index: 3.2617971105781196\n"
     ]
    }
   ],
   "source": [
    "display_clustering(GW_dist_mat)\n",
    "show_silhouette_score(GW_dist_mat)\n",
    "show_davies_bouldin_score(GW_dist_mat)"
   ]
  },
  {
   "cell_type": "code",
   "execution_count": null,
   "id": "2970b686-bb7a-48d9-b3cc-7081e7f0683f",
   "metadata": {
    "scrolled": true
   },
   "outputs": [],
   "source": [
    "%%time\n",
    "# compute GW downsampled\n",
    "GW_downsampled_dist_mat = np.zeros((50,50))\n",
    "\n",
    "\n",
    "with multiprocess.Pool() as pool:\n",
    "    results = pool.imap(lambda pair: (pair[0], pair[1], FGW_protein.run_GW(downsamped_100_prots[pair[0]], downsamped_100_prots[pair[1]])), it.combinations(range(50),2))\n",
    "    for r in results:\n",
    "        i,j,d = r\n",
    "        GW_downsampled_dist_mat[i,j] = d\n",
    "        GW_downsampled_dist_mat[j,i] = d\n",
    "#3m 38s"
   ]
  },
  {
   "cell_type": "code",
   "execution_count": 62,
   "id": "59b3d19e-cba7-4775-9fef-23b3f226c8e3",
   "metadata": {},
   "outputs": [
    {
     "data": {
      "image/png": "[encoded data removed]",
      "text/plain": [
       "<Figure size 500x500 with 1 Axes>"
      ]
     },
     "metadata": {},
     "output_type": "display_data"
    },
    {
     "name": "stdout",
     "output_type": "stream",
     "text": [
      "Silhouette Score: 0.07531142497516866\n",
      "Davies-Bouldin Index: 3.307621161194969\n"
     ]
    }
   ],
   "source": [
    "display_clustering(GW_downsampled_dist_mat)\n",
    "show_silhouette_score(GW_downsampled_dist_mat)\n",
    "show_davies_bouldin_score(GW_downsampled_dist_mat)"
   ]
  },
  {
   "cell_type": "code",
   "execution_count": null,
   "id": "92bccc15-2b83-4177-8216-6bf68e5b85d7",
   "metadata": {
    "scrolled": true
   },
   "outputs": [],
   "source": [
    "%%time\n",
    "# compute GW scaled\n",
    "GW_scaled_dist_mat = np.zeros((50,50))\n",
    "\n",
    "with multiprocess.Pool() as pool:\n",
    "    results = pool.imap(lambda pair: (pair[0], pair[1], FGW_protein.run_GW(scaled_prots[pair[0]], scaled_prots[pair[1]])), it.combinations(range(50),2))\n",
    "    for r in results:\n",
    "        i,j,d = r\n",
    "        GW_scaled_dist_mat[i,j] = d\n",
    "        GW_scaled_dist_mat[j,i] = d\n",
    "\n",
    "# 7m 41s  - oddly long"
   ]
  },
  {
   "cell_type": "code",
   "execution_count": 63,
   "id": "2899f439-63cc-4b46-a91c-64ecc77ef2d4",
   "metadata": {},
   "outputs": [
    {
     "data": {
      "image/png": "[encoded data removed]",
      "text/plain": [
       "<Figure size 500x500 with 1 Axes>"
      ]
     },
     "metadata": {},
     "output_type": "display_data"
    },
    {
     "name": "stdout",
     "output_type": "stream",
     "text": [
      "Silhouette Score: 0.07531908169808643\n",
      "Davies-Bouldin Index: 3.279929473003541\n"
     ]
    }
   ],
   "source": [
    "display_clustering(GW_scaled_dist_mat)\n",
    "show_silhouette_score(GW_scaled_dist_mat)\n",
    "show_davies_bouldin_score(GW_scaled_dist_mat)"
   ]
  },
  {
   "cell_type": "code",
   "execution_count": null,
   "id": "638981da-4477-4420-a7f9-e79fe05e7698",
   "metadata": {
    "scrolled": true
   },
   "outputs": [],
   "source": [
    "%%time\n",
    "# compute GW scaled and downsampled\n",
    "GW_scaled_downsampled_dist_mat = np.zeros((50,50))\n",
    "\n",
    "with multiprocess.Pool() as pool:\n",
    "    results = pool.imap(lambda pair: (pair[0], pair[1], FGW_protein.run_GW(downsampled_then_scaled_prots[pair[0]], downsampled_then_scaled_prots[pair[1]])), it.combinations(range(50),2))\n",
    "    for r in results:\n",
    "        i,j,d = r\n",
    "        GW_scaled_downsampled_dist_mat[i,j] = d\n",
    "        GW_scaled_downsampled_dist_mat[j,i] = d\n",
    "# 6m27s"
   ]
  },
  {
   "cell_type": "code",
   "execution_count": null,
   "id": "82aea563-ea7f-420a-8b31-fff5fe860cf1",
   "metadata": {},
   "outputs": [],
   "source": [
    "# compute GW with cells\n",
    "cells = [p.make_GW_cell() for p in base_prots]"
   ]
  },
  {
   "cell_type": "code",
   "execution_count": null,
   "id": "6206b702-bac3-41cd-aa8a-de9456fb8d2f",
   "metadata": {},
   "outputs": [],
   "source": [
    "%%time\n",
    "# compute GW\n",
    "GW_cells_dist_mat = np.zeros((50,50))\n",
    "\n",
    "with multiprocess.Pool() as pool:\n",
    "    results = pool.imap(lambda pair: (pair[0], pair[1], FGW_protein.run_GW_from_cells(cells[pair[0]], cells[pair[1]])), it.combinations(range(50),2))\n",
    "    for r in results:\n",
    "        i,j,d = r\n",
    "        GW_cells_dist_mat[i,j] = d\n",
    "        GW_cells_dist_mat[j,i] = d\n",
    "\n",
    "\n",
    "assert np.isclose(GW_cells_dist_mat, GW_dist_mat).all()\n",
    "#4m 15s"
   ]
  },
  {
   "cell_type": "code",
   "execution_count": null,
   "id": "5aea20ae-0029-4242-9a14-8a3b3d5b17d7",
   "metadata": {},
   "outputs": [],
   "source": []
  },
  {
   "cell_type": "code",
   "execution_count": 15,
   "id": "7ac74beb-bc5c-4479-8958-c52840936855",
   "metadata": {},
   "outputs": [],
   "source": [
    "from FGW_matrices import *\n",
    "BLOSUM62_dict = get_BLOSUM(n = 62, raw = True)\n",
    "\n",
    "compute_in_parallel(proteins=base_prots, comparison_method=FGW_protein.run_FGW_dict, alpha = 0.5,d = get_BLOSUM(n = 62, raw = True))"
   ]
  },
  {
   "cell_type": "code",
   "execution_count": 16,
   "id": "6778b16b-d5f0-4bcb-b2b2-8aca1002a393",
   "metadata": {},
   "outputs": [
    {
     "name": "stdout",
     "output_type": "stream",
     "text": [
      "CPU times: user 12.1 s, sys: 1.44 s, total: 13.5 s\n",
      "Wall time: 6min\n"
     ]
    }
   ],
   "source": [
    "%%time \n",
    "# compute FGW\n",
    "FGW_BLOSUM62_dist_mat = np.zeros((50,50))\n",
    "\n",
    "with multiprocess.Pool() as pool:\n",
    "    results = pool.imap(lambda pair: (pair[0], pair[1], FGW_protein.run_FGW_dict(base_prots[pair[0]], base_prots[pair[1]], alpha = 0.5,d = BLOSUM62_dict )), it.combinations(range(50),2))\n",
    "\n",
    "    # results = pool.imap(lambda pair: (pair[0], pair[1], FGW_protein.run_FGW_dict(base_prots[pair[0]], base_prots[pair[1]], alpha = 0.5,d = hydrophobicity_dict )), it.combinations(range(50),2))\n",
    "    for r in results:\n",
    "        i,j,d = r\n",
    "        FGW_BLOSUM62_dist_mat[i,j] = d\n",
    "        FGW_BLOSUM62_dist_mat[j,i] = d\n",
    "\n",
    "#6m\n",
    "# Note that these are not all metrics so may not satisfy the mathematical results"
   ]
  },
  {
   "cell_type": "code",
   "execution_count": 64,
   "id": "0b89c3cb-ae62-423d-be22-4997b82b0e38",
   "metadata": {},
   "outputs": [
    {
     "data": {
      "image/png": "[encoded data removed]",
      "text/plain": [
       "<Figure size 500x500 with 1 Axes>"
      ]
     },
     "metadata": {},
     "output_type": "display_data"
    },
    {
     "name": "stdout",
     "output_type": "stream",
     "text": [
      "Silhouette Score: 0.07239025056064756\n",
      "Davies-Bouldin Index: 3.291403640654677\n"
     ]
    }
   ],
   "source": [
    "display_clustering(FGW_BLOSUM62_dist_mat)\n",
    "show_silhouette_score(FGW_BLOSUM62_dist_mat)\n",
    "show_davies_bouldin_score(FGW_BLOSUM62_dist_mat)"
   ]
  },
  {
   "cell_type": "code",
   "execution_count": 18,
   "id": "f528af2d-4ce0-4b80-8778-c5c7bf960281",
   "metadata": {},
   "outputs": [
    {
     "name": "stdout",
     "output_type": "stream",
     "text": [
      "CPU times: user 12.1 s, sys: 1.4 s, total: 13.5 s\n",
      "Wall time: 5min 58s\n"
     ]
    }
   ],
   "source": [
    "%%time\n",
    "#We can also use user-inputted data\n",
    "eccentricity_lists = [p.get_eccentricity() for p in base_prots]\n",
    "FGW_eccentricity_dist_mat = np.zeros((50,50))\n",
    "\n",
    "with multiprocess.Pool() as pool:\n",
    "    results = pool.imap(lambda pair: (pair[0], pair[1], FGW_protein.run_FGW_data_lists(base_prots[pair[0]], \n",
    "                                                                                 base_prots[pair[1]], \n",
    "                                                                                 data1 = eccentricity_lists[pair[0]],\n",
    "                                                                                 data2 = eccentricity_lists[pair[1]],\n",
    "                                                                                 alpha = 0.5)), it.combinations(range(50),2))\n",
    "    for r in results:\n",
    "        i,j,d = r\n",
    "        FGW_eccentricity_dist_mat[i,j] = d\n",
    "        FGW_eccentricity_dist_mat[j,i] = d\n",
    "#5m 58s"
   ]
  },
  {
   "cell_type": "code",
   "execution_count": 65,
   "id": "a3232df9-b0e2-4ef2-9b81-04f0c7a209d6",
   "metadata": {},
   "outputs": [
    {
     "data": {
      "image/png": "[encoded data removed]",
      "text/plain": [
       "<Figure size 500x500 with 1 Axes>"
      ]
     },
     "metadata": {},
     "output_type": "display_data"
    },
    {
     "name": "stdout",
     "output_type": "stream",
     "text": [
      "Silhouette Score: 0.0747812492900918\n",
      "Davies-Bouldin Index: 3.2810461880631734\n"
     ]
    }
   ],
   "source": [
    "display_clustering(FGW_eccentricity_dist_mat)\n",
    "show_silhouette_score(FGW_eccentricity_dist_mat)\n",
    "show_davies_bouldin_score(FGW_eccentricity_dist_mat)"
   ]
  },
  {
   "cell_type": "code",
   "execution_count": 20,
   "id": "72664c07-8bb9-4ab7-8fca-83289ff6f8b7",
   "metadata": {},
   "outputs": [
    {
     "data": {
      "text/plain": [
       "<module 'FGW_protein_pI' from '/home/elijah/dropbox3/Analyses/PGC020.a12/Examples/../src/FGW_protein_pI.py'>"
      ]
     },
     "execution_count": 20,
     "metadata": {},
     "output_type": "execute_result"
    }
   ],
   "source": [
    "import importlib\n",
    "importlib.reload(sys.modules['FGW_protein_pI'])"
   ]
  },
  {
   "cell_type": "code",
   "execution_count": 21,
   "id": "25bcaeb0-d5f8-4475-8fc3-1a3f12e5fc30",
   "metadata": {},
   "outputs": [],
   "source": [
    "\n",
    "# FGW_protein_pI\n",
    "\n",
    "base_prots_pI = [FGW_protein_pI.make_protein_from_pdb(file) for file in decoys + rdrps]\n",
    "\n",
    "# cast to FGW_protein and show they're equal\n",
    "assert base_prots == [p.FGW_protein() for p in base_prots_pI]\n",
    "\n",
    "# compute FGW\n",
    "# sequence based-downsampling\n",
    "# uniform downsampling"
   ]
  },
  {
   "cell_type": "code",
   "execution_count": null,
   "id": "0b497fed-1b8b-4dd0-8a90-c4d226a1bae1",
   "metadata": {},
   "outputs": [],
   "source": [
    "compute_in_parallel(proteins=base_prots_pI, comparison_method= FGW_protein_pI.run_FGW, alpha = 0.5)"
   ]
  },
  {
   "cell_type": "code",
   "execution_count": 22,
   "id": "421657fb-821e-4c82-bee5-269e44cc1f06",
   "metadata": {},
   "outputs": [
    {
     "name": "stdout",
     "output_type": "stream",
     "text": [
      "CPU times: user 11.7 s, sys: 1.46 s, total: 13.2 s\n",
      "Wall time: 5min 51s\n"
     ]
    }
   ],
   "source": [
    "%%time\n",
    "FGW_pI_dist_mat = np.zeros((50,50))\n",
    "\n",
    "with multiprocess.Pool() as pool:\n",
    "    results = pool.imap(lambda pair: (pair[0], pair[1], FGW_protein_pI.run_FGW(base_prots_pI[pair[0]], base_prots_pI[pair[1]], alpha = 0.5, )), it.combinations(range(50),2))\n",
    "\n",
    "    # results = pool.imap(lambda pair: (pair[0], pair[1], FGW_protein.run_FGW_dict(base_prots[pair[0]], base_prots[pair[1]], alpha = 0.5,d = hydrophobicity_dict )), it.combinations(range(50),2))\n",
    "    for r in results:\n",
    "        i,j,d = r\n",
    "        FGW_pI_dist_mat[i,j] = d\n",
    "        FGW_pI_dist_mat[j,i] = d\n",
    "#5m 51s"
   ]
  },
  {
   "cell_type": "code",
   "execution_count": 66,
   "id": "aa5a636a-8d87-4d34-99ac-4c3334e7093d",
   "metadata": {},
   "outputs": [
    {
     "data": {
      "image/png": "[encoded data removed]",
      "text/plain": [
       "<Figure size 500x500 with 1 Axes>"
      ]
     },
     "metadata": {},
     "output_type": "display_data"
    },
    {
     "name": "stdout",
     "output_type": "stream",
     "text": [
      "Silhouette Score: 0.07470840967504097\n",
      "Davies-Bouldin Index: 3.274830503361593\n"
     ]
    }
   ],
   "source": [
    "display_clustering(FGW_pI_dist_mat)\n",
    "show_silhouette_score(FGW_pI_dist_mat)\n",
    "show_davies_bouldin_score(FGW_pI_dist_mat)"
   ]
  },
  {
   "cell_type": "code",
   "execution_count": 28,
   "id": "cd840d16-35dc-4254-9fd7-d54a606ada9b",
   "metadata": {},
   "outputs": [],
   "source": [
    "FGW_downsampled = [p.downsample_n(100) for p in base_prots_pI]"
   ]
  },
  {
   "cell_type": "code",
   "execution_count": null,
   "id": "504b7b7a-097a-42e5-b10a-2fff83e1b8fc",
   "metadata": {},
   "outputs": [],
   "source": [
    "compute_in_parallel(proteins=FGW_downsampled, comparison_method= FGW_protein_pI.run_FGW, alpha = 0.5)"
   ]
  },
  {
   "cell_type": "code",
   "execution_count": 29,
   "id": "a023d390-7fa8-479d-8932-bbc42054f942",
   "metadata": {},
   "outputs": [
    {
     "name": "stdout",
     "output_type": "stream",
     "text": [
      "CPU times: user 1.73 s, sys: 422 ms, total: 2.15 s\n",
      "Wall time: 4.27 s\n"
     ]
    }
   ],
   "source": [
    "%%time\n",
    "FGW_pI_downsampled_dist_mat = np.zeros((50,50))\n",
    "\n",
    "with multiprocess.Pool() as pool:\n",
    "    results = pool.imap(lambda pair: (pair[0], pair[1], FGW_protein_pI.run_FGW(FGW_downsampled[pair[0]], FGW_downsampled[pair[1]], alpha = 0.5, )), it.combinations(range(50),2))\n",
    "\n",
    "    for r in results:\n",
    "        i,j,d = r\n",
    "        FGW_pI_downsampled_dist_mat[i,j] = d\n",
    "        FGW_pI_downsampled_dist_mat[j,i] = d\n"
   ]
  },
  {
   "cell_type": "code",
   "execution_count": 67,
   "id": "aaf7f6e5-6d7d-463a-a317-0a59e262792a",
   "metadata": {},
   "outputs": [
    {
     "data": {
      "image/png": "[encoded data removed]",
      "text/plain": [
       "<Figure size 500x500 with 1 Axes>"
      ]
     },
     "metadata": {},
     "output_type": "display_data"
    },
    {
     "name": "stdout",
     "output_type": "stream",
     "text": [
      "Silhouette Score: 0.05932563534012502\n",
      "Davies-Bouldin Index: 3.5070692611878083\n"
     ]
    }
   ],
   "source": [
    "display_clustering(FGW_pI_downsampled_dist_mat)\n",
    "show_silhouette_score(FGW_pI_downsampled_dist_mat)\n",
    "show_davies_bouldin_score(FGW_pI_downsampled_dist_mat)"
   ]
  },
  {
   "cell_type": "code",
   "execution_count": null,
   "id": "0bf5bfe9-92bf-4cbc-8314-ced2b509751d",
   "metadata": {},
   "outputs": [],
   "source": [
    "compute_in_parallel(proteins=base_prots_pI, comparison_method= FGW_protein_pI.run_FGW_seq_aln, alpha = 1)"
   ]
  },
  {
   "cell_type": "code",
   "execution_count": 32,
   "id": "8ed2d32e-cd21-4392-9c96-b73e1f31d8ff",
   "metadata": {},
   "outputs": [
    {
     "name": "stdout",
     "output_type": "stream",
     "text": [
      "CPU times: user 1.45 s, sys: 592 ms, total: 2.04 s\n",
      "Wall time: 2.94 s\n"
     ]
    }
   ],
   "source": [
    "%%time\n",
    "GW_seq_dist_mat = np.zeros((50,50))\n",
    "\n",
    "with multiprocess.Pool() as pool:\n",
    "    results = pool.imap(lambda pair: (pair[0], pair[1], FGW_protein_pI.run_FGW_seq_aln(base_prots_pI[pair[0]], base_prots_pI[pair[1]], alpha = 1, )), it.combinations(range(50),2))\n",
    "\n",
    "    for r in results:\n",
    "        i,j,d = r\n",
    "        GW_seq_dist_mat[i,j] = d\n",
    "        GW_seq_dist_mat[j,i] = d\n",
    "\n",
    "\n"
   ]
  },
  {
   "cell_type": "code",
   "execution_count": 68,
   "id": "3eaee8f6-d4b0-4b1d-bf0f-1f4d49a6e4ac",
   "metadata": {},
   "outputs": [
    {
     "data": {
      "image/png": "[encoded data removed]",
      "text/plain": [
       "<Figure size 500x500 with 1 Axes>"
      ]
     },
     "metadata": {},
     "output_type": "display_data"
    },
    {
     "name": "stdout",
     "output_type": "stream",
     "text": [
      "Silhouette Score: 0.03836803074819825\n",
      "Davies-Bouldin Index: 4.142159369705593\n"
     ]
    }
   ],
   "source": [
    "display_clustering(GW_seq_dist_mat)\n",
    "show_silhouette_score(GW_seq_dist_mat)\n",
    "show_davies_bouldin_score(GW_seq_dist_mat)"
   ]
  },
  {
   "cell_type": "code",
   "execution_count": null,
   "id": "e4840ec5-a5a9-4acf-ad8c-15b91f2fcf72",
   "metadata": {},
   "outputs": [],
   "source": [
    "compute_in_parallel(proteins=base_prots_pI, comparison_method= FGW_protein_pI.run_FGW_seq_aln, alpha = 0.5)"
   ]
  },
  {
   "cell_type": "code",
   "execution_count": 35,
   "id": "068bec89-2b89-43eb-96ee-1b80329ee4e4",
   "metadata": {},
   "outputs": [
    {
     "name": "stdout",
     "output_type": "stream",
     "text": [
      "CPU times: user 1.34 s, sys: 596 ms, total: 1.94 s\n",
      "Wall time: 2.74 s\n"
     ]
    }
   ],
   "source": [
    "%%time\n",
    "FGW_seq_dist_mat = np.zeros((50,50))\n",
    "\n",
    "with multiprocess.Pool() as pool:\n",
    "    results = pool.imap(lambda pair: (pair[0], pair[1], FGW_protein_pI.run_FGW_seq_aln(FGW_downsampled[pair[0]], FGW_downsampled[pair[1]], alpha = 0.5, )), it.combinations(range(50),2))\n",
    "\n",
    "    for r in results:\n",
    "        i,j,d = r\n",
    "        FGW_seq_dist_mat[i,j] = d\n",
    "        FGW_seq_dist_mat[j,i] = d\n",
    "\n",
    "\n"
   ]
  },
  {
   "cell_type": "code",
   "execution_count": 69,
   "id": "38b639b0-54cd-47f7-afcc-1cff24ecbec7",
   "metadata": {},
   "outputs": [
    {
     "data": {
      "image/png": "[encoded data removed]",
      "text/plain": [
       "<Figure size 500x500 with 1 Axes>"
      ]
     },
     "metadata": {},
     "output_type": "display_data"
    },
    {
     "name": "stdout",
     "output_type": "stream",
     "text": [
      "Silhouette Score: 0.03624816214462871\n",
      "Davies-Bouldin Index: 4.201138911711315\n"
     ]
    }
   ],
   "source": [
    "display_clustering(FGW_seq_dist_mat)\n",
    "show_silhouette_score(FGW_seq_dist_mat)\n",
    "show_davies_bouldin_score(FGW_seq_dist_mat)"
   ]
  },
  {
   "cell_type": "code",
   "execution_count": null,
   "id": "a3aeb6e0-8265-4dc2-906b-69e48893210d",
   "metadata": {},
   "outputs": [],
   "source": []
  }
 ],
 "metadata": {
  "kernelspec": {
   "display_name": "Python 3 (ipykernel)",
   "language": "python",
   "name": "python3"
  },
  "language_info": {
   "codemirror_mode": {
    "name": "ipython",
    "version": 3
   },
   "file_extension": ".py",
   "mimetype": "text/x-python",
   "name": "python",
   "nbconvert_exporter": "python",
   "pygments_lexer": "ipython3",
   "version": "3.10.12"
  }
 },
 "nbformat": 4,
 "nbformat_minor": 5
}
