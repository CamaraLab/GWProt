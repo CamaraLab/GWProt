{
 "cells": [
  {
   "cell_type": "code",
   "execution_count": null,
   "id": "86789648-6b77-4383-9a7b-cb64797f22fe",
   "metadata": {},
   "outputs": [],
   "source": [
    "# this one should include downsampling, FGW_pI, downsampling by sequence....\n",
    "# we load a dataset of proteins and compare them in different ways\n",
    "# not sure the best way to easily assess accuracy here\n",
    "# maybe just a subset of the RDRP data, with just two clades\n",
    "\n",
    "import os\n",
    "os.environ['OPENBLAS_NUM_THREADS'] = '1' \n",
    "import numpy as np\n",
    "import itertools as it\n",
    "import multiprocess\n",
    "import matplotlib.pyplot as plt\n",
    "from umap.umap_ import UMAP\n",
    "\n",
    "\n",
    "#from GW_prot import *\n",
    "\n",
    "\n",
    "import sys\n",
    "sys.path.insert(0,'../src')\n",
    "from FGW_protein import *\n",
    "from FGW_protein_pI import *"
   ]
  },
  {
   "cell_type": "markdown",
   "id": "dfb1bd4d-730d-4086-832d-59b902fe21e5",
   "metadata": {},
   "source": [
    "This example demonstrates variants of Gromov-Wasserstein which can be computed with GWProt. \n",
    "The dataset used in this example consists of randomly sampled RdRps from the phylla "
   ]
  },
  {
   "cell_type": "code",
   "execution_count": null,
   "id": "ea67275e-e376-470c-889a-2c5afd4d3dc2",
   "metadata": {},
   "outputs": [],
   "source": [
    "# import importlib\n",
    "# importlib.reload(sys.modules['FGW_protein'])"
   ]
  },
  {
   "cell_type": "code",
   "execution_count": null,
   "id": "128d785e-70dd-4465-8794-612a744bbe00",
   "metadata": {},
   "outputs": [],
   "source": [
    "#first randomly currate the dataset\n",
    "\n",
    "import os\n",
    "\n",
    "dir = '../../../Data/palmstrub/'\n",
    "all_decoys = [dir + f for f in os.listdir(dir) if 'decoy.giii' in f]\n",
    "all_rdrps = [dir + f for f in os.listdir(dir) if 'decoy' not in f]\n",
    "\n",
    "import random\n",
    "random.seed(1)\n",
    "\n",
    "def random_combination(iterable, r):\n",
    "    \"Random selection from itertools.combinations(iterable, r)\"  \n",
    "    pool = tuple(iterable)\n",
    "    n = len(pool)\n",
    "    indices = sorted(random.sample(range(n), r))\n",
    "    return tuple(pool[i] for i in indices)\n",
    "\n",
    "\n",
    "decoys = random_combination(all_decoys,25)\n",
    "rdrps = random_combination(all_rdrps,25)\n",
    "\n"
   ]
  },
  {
   "cell_type": "code",
   "execution_count": null,
   "id": "74bc2f69-2ad9-4fea-af8b-73adcb33ea0f",
   "metadata": {},
   "outputs": [],
   "source": [
    "inds1 = [622,  636,  651,  667,  694,  695,  696,  709,  824,  832,  835,  860,  864,  867,  874,  879,  888,  916,  917,  918,  919,  920,  985,  987,  998,  999,  1035,  1038,  1041,  1042,  1043,  1044,  1045,  1130,  1136,  1137,  1138,  1150,  1166,  1174,  1175,  1222,  1234,  1272,  1280,  1285,  1286,  1287,  1311,  1332,  1347,  1348,  1391,  1408,  1411,  1508,  1509,  1517,  1524,  1525,  1526,  1552,  1559,  1563,  1707,  1720,  1727,  1736,  1770,  1803,  1813,  1821,  1879,  1905,  1906,  1916,  1930,  1932,  1938,  1939,  1940,  1942,  1944,  1945,  2015,  2045,  2051,  2069,  2077,  2097,  2104,  2105,  2106,  2107,  2122,  2127,  2136,  2137,  2149,  2159,  2160,  2168,  2216,  2251,  2641,  2642,  2709,  2734,  2744,  2796,  2807,  2837,  2891,  2920,  2921,  2922,  2930,  2931,  2932,  2933,  2934,  2935,  2936,  2937,  2938,  2939,  2940,  2947,  2948,  2949,  2961,  2990,  2992,  2999,  3008,  3011,  3026,  3051,  3063,  3088,  3094,  3112,  3113,  3134,  3147,  3148,  3151,  3176,  3177,  3178,  3191,  3218,  3221,  3223,  3230,  3254,  3271,  3274,  3277,  3292,  3302,  3332,  3342,  3366,  3369,  3374,  3378,  3385,  3388,  3389,  3394,  3398,  3419,  3422,  3525,  3536,  3539,  3556,  3577,  3587,  3602,  3631,  3633,  3656,  3657,  3748,  3750,  3752,  3757,  3758,  3759,  3760,  3764,  3818,  3832,  3834,  3836,  3838,  3839,  3841,  3843,  3849,  3850,  3866,  3867,  3870,  3876,  3887,  3898,  3912,  3916,  3924,  3954,  3962,  4041,  4978,  5024,  5026,  5036,  5067,  5069,  5070,  5076,  5079,  5080]\n",
    "inds2 = [532,  572,  584,  585,  776,  794,  795,  796,  816,  982,  984,  1012,  1014,  1083,  1154,  1245,  1246,  1268,  1316,  1320,  1321,  1322,  1323,  1324,  1325,  1326,  1342,  1343,  1344,  1359,  1377,  1378,  1379,  1380,  1381,  1501,  1502,  1511,  1817,  1818,  1824,  1826,  1827,  1828,  1829,  1830,  1831,  1832,  1833,  1834,  1837,  1838,  1840,  1841,  1842,  1889,  1891,  1892,  1893,  1894,  1899,  1980,  2017,  2018,  2019,  2020,  2021,  2022,  2023,  2024,  2036,  2086,  2091,  2756,  2835,  2865,  2895,  2946,  2988,  2989,  3027,  3044,  3061,  3087,  3163,  3164,  3166,  3167,  3168,  3217,  3241,  3243,  3245,  3304,  3305,  3339,  3358,  3418,  3455,  3499,  3501,  3503,  3504,  3578,  3719,  3723,  3724,  3778,  3829,  3830,  3848,  3881,  3913,  3917,  3918,  3919,  3920,  3921,  3949,  3951,  3952,  3953,  4960,  5031]"
   ]
  },
  {
   "cell_type": "code",
   "execution_count": null,
   "id": "e1638a7d-8ede-4e44-8f7a-ea86e01ae059",
   "metadata": {},
   "outputs": [],
   "source": [
    "file_list = os.listdir(dir)\n",
    "\n",
    "decoys = [dir + file_list[i] for i in random_combination(inds1,25)]\n",
    "rdrps = [dir + file_list[i] for i in random_combination(inds2,25)]"
   ]
  },
  {
   "cell_type": "markdown",
   "id": "fc9f419d-5583-400d-81f8-205cd2f2b5cc",
   "metadata": {},
   "source": [
    "We define a helper method to compute pairwise all-vs-all GW distances, then display \n",
    "to compute the [silhoutte score](https://en.wikipedia.org/wiki/Silhouette_(clustering)#:~:text=The%20silhouette%20score%20is%20specialized,distance%20or%20the%20Manhattan%20distance.) and [Davies-Bouldin score](https://en.wikipedia.org/wiki/Davies–Bouldin_index), two basic measures of clustering to evaluate the accuracy of different methods in GWProt. A higher silhoutte score and lower Davies-Bouldin score mean better clustering."
   ]
  },
  {
   "cell_type": "code",
   "execution_count": null,
   "id": "8a5b04f6-e567-404c-901a-4a2878a6171e",
   "metadata": {},
   "outputs": [],
   "source": [
    "from sklearn.metrics import silhouette_score # higher is better, 0 is overlapping\n",
    "from sklearn.metrics import davies_bouldin_score #lower is better\n",
    "\n",
    "def compute_in_parallel(proteins, comparison_method, **kwargs):\n",
    "    N = len(proteins)\n",
    "    dist_mat = np.zeros((N,N))\n",
    "    start_time = time.time()\n",
    "\n",
    "    with multiprocess.Pool() as pool:\n",
    "        for r in  pool.imap(lambda pair: (pair[0], pair[1], comparison_method(proteins[pair[0]], proteins[pair[1]], **kwargs)), it.combinations(range(N),2)):\n",
    "            i,j,d = r\n",
    "            dist_mat[i,j] = d\n",
    "            dist_mat[j,i] = d\n",
    "            \n",
    "    print(f'run time = {time.time() - start_time}')\n",
    "    print(f\"Silhouette Score: {silhouette_score(X = dist_mat, labels = [0 if i <N/2 else 1 for i in range(N)], metric='precomputed')}\")\n",
    "    print(f\"Davies-Bouldin Score: {davies_bouldin_score(dist_mat, labels = [0 if i <N/2 else 1 for i in range(N)])}\")\n",
    "    \n",
    "    reducer = UMAP(metric = 'precomputed', random_state=1)\n",
    "    embedding = reducer.fit_transform(dist_mat)\n",
    "    plt.figure(figsize=(5, 5))\n",
    "    plt.scatter(embedding[:, 0], embedding[:, 1], c= ['red' if i <N/2 else 'blue' for i in range(N)], s=5)\n",
    "    plt.show()\n",
    "    "
   ]
  },
  {
   "cell_type": "code",
   "execution_count": null,
   "id": "889ab742-5074-438d-84bf-1fd0da9ec275",
   "metadata": {},
   "outputs": [],
   "source": [
    "\n",
    "def display(dist_mat):\n",
    "    N = dist_mat.shape[0]\n",
    "\n",
    "\n",
    "    print(f\"Silhouette Score: {silhouette_score(X = dist_mat, labels = [0 if i <N/2 else 1 for i in range(N)], metric='precomputed')}\")\n",
    "    print(f\"Davies-Bouldin Score: {davies_bouldin_score(dist_mat, labels = [0 if i <N/2 else 1 for i in range(N)])}\")\n",
    "    \n",
    "    reducer = UMAP(metric = 'precomputed', random_state=1)\n",
    "    embedding = reducer.fit_transform(dist_mat)\n",
    "    plt.figure(figsize=(5, 5))\n",
    "    plt.scatter(embedding[:, 0], embedding[:, 1], c= ['red' if i <N/2 else 'blue' for i in range(N)], s=5)\n",
    "    plt.show()\n",
    "    "
   ]
  },
  {
   "cell_type": "markdown",
   "id": "7fa31a4b-291b-44dc-b2a2-ae8007bccf39",
   "metadata": {},
   "source": [
    "The main class in GWProt is `FGW_protein`, whose objects contain the relevant data for a protein including the coordinates of each alpha-Carbon, the sequence, and the intra-protein distance matrix, an array containing all pairwise distances between alpha-Carbons. We can initialize objects in this class from PDB (protein databank) files."
   ]
  },
  {
   "cell_type": "code",
   "execution_count": null,
   "id": "7a59d22d-24c2-409e-95d8-6372d43fcb03",
   "metadata": {},
   "outputs": [],
   "source": [
    "base_prots = [FGW_protein.make_protein_from_pdb(file) for file in decoys + rdrps]"
   ]
  },
  {
   "cell_type": "markdown",
   "id": "e5e0b2d2-ad17-4361-b2a8-4fd44e6ce8ff",
   "metadata": {},
   "source": [
    "For faster computations, we can downsample to an evenly spaced subset of the residues:"
   ]
  },
  {
   "cell_type": "code",
   "execution_count": null,
   "id": "c58b1364-5c0b-4070-a140-45dbc072b452",
   "metadata": {},
   "outputs": [],
   "source": [
    "downsamped_100_prots = [p.downsample_n(n=100) for p in base_prots]"
   ]
  },
  {
   "cell_type": "markdown",
   "id": "ecc2cee0-a156-4b42-87e8-5a54897c0640",
   "metadata": {},
   "source": [
    "We can also rescale the intra-protein distance matrices, where computing GW distances gives greater weight to local distances."
   ]
  },
  {
   "cell_type": "code",
   "execution_count": null,
   "id": "7c86eed4-9b36-4942-9fa2-17f5ee6ff6c4",
   "metadata": {},
   "outputs": [],
   "source": [
    "scaled_prots = [p.scale_ipdm(inplace = False) for p in base_prots]"
   ]
  },
  {
   "cell_type": "markdown",
   "id": "bbbb2469-4296-4a2d-b01f-8c9f50776bf2",
   "metadata": {},
   "source": [
    "We can also combine both variants and confirm that the order does not matter:"
   ]
  },
  {
   "cell_type": "code",
   "execution_count": null,
   "id": "e80f1551-8cf4-43da-966c-e8f7c36ee8ed",
   "metadata": {},
   "outputs": [],
   "source": [
    "downsampled_then_scaled_prots = [p.scale_ipdm(inplace = False) for p in downsamped_100_prots]\n",
    "scaled_then_downsampled_prots = [p.downsample_n(n=100) for p in scaled_prots]\n",
    "assert downsampled_then_scaled_prots == scaled_then_downsampled_prots"
   ]
  },
  {
   "cell_type": "code",
   "execution_count": null,
   "id": "35570074-a67f-43b3-8c2f-91250fd10ed8",
   "metadata": {},
   "outputs": [],
   "source": [
    "compute_in_parallel(proteins=base_prots, comparison_method= FGW_protein.run_GW)"
   ]
  },
  {
   "cell_type": "code",
   "execution_count": null,
   "id": "ace589e1-655e-4ad9-acd5-17962778d650",
   "metadata": {},
   "outputs": [],
   "source": [
    "compute_in_parallel(proteins=downsamped_100_prots, comparison_method= FGW_protein.run_GW)"
   ]
  },
  {
   "cell_type": "code",
   "execution_count": null,
   "id": "81914052-24d3-4ea4-814b-3216cf3168e6",
   "metadata": {},
   "outputs": [],
   "source": [
    "compute_in_parallel(proteins=downsampled_then_scaled_prots, comparison_method= FGW_protein.run_GW)"
   ]
  },
  {
   "cell_type": "code",
   "execution_count": null,
   "id": "cccab114-200c-47da-9fb3-722d4f3f45a3",
   "metadata": {},
   "outputs": [],
   "source": []
  },
  {
   "cell_type": "code",
   "execution_count": null,
   "id": "82aea563-ea7f-420a-8b31-fff5fe860cf1",
   "metadata": {},
   "outputs": [],
   "source": [
    "# compute GW with cells\n",
    "cells = [p.make_GW_cell() for p in base_prots]"
   ]
  },
  {
   "cell_type": "code",
   "execution_count": null,
   "id": "6206b702-bac3-41cd-aa8a-de9456fb8d2f",
   "metadata": {},
   "outputs": [],
   "source": [
    "%%time\n",
    "# compute GW\n",
    "GW_cells_dist_mat = np.zeros((50,50))\n",
    "\n",
    "with multiprocess.Pool() as pool:\n",
    "    results = pool.imap(lambda pair: (pair[0], pair[1], FGW_protein.run_GW_from_cells(cells[pair[0]], cells[pair[1]])), it.combinations(range(50),2))\n",
    "    for r in results:\n",
    "        i,j,d = r\n",
    "        GW_cells_dist_mat[i,j] = d\n",
    "        GW_cells_dist_mat[j,i] = d\n",
    "\n",
    "\n",
    "assert np.isclose(GW_cells_dist_mat, GW_dist_mat).all()\n",
    "#4m 15s"
   ]
  },
  {
   "cell_type": "code",
   "execution_count": null,
   "id": "5aea20ae-0029-4242-9a14-8a3b3d5b17d7",
   "metadata": {},
   "outputs": [],
   "source": []
  },
  {
   "cell_type": "code",
   "execution_count": null,
   "id": "7ac74beb-bc5c-4479-8958-c52840936855",
   "metadata": {},
   "outputs": [],
   "source": [
    "from FGW_matrices import *\n",
    "BLOSUM62_dict = get_BLOSUM(n = 62, raw = True)\n",
    "\n",
    "compute_in_parallel(proteins=base_prots, comparison_method=FGW_protein.run_FGW_dict, alpha = 0.5,d = get_BLOSUM(n = 62, raw = True))"
   ]
  },
  {
   "cell_type": "code",
   "execution_count": null,
   "id": "6778b16b-d5f0-4bcb-b2b2-8aca1002a393",
   "metadata": {},
   "outputs": [],
   "source": [
    "%%time \n",
    "# compute FGW\n",
    "FGW_BLOSUM62_dist_mat = np.zeros((50,50))\n",
    "\n",
    "with multiprocess.Pool() as pool:\n",
    "    results = pool.imap(lambda pair: (pair[0], pair[1], FGW_protein.run_FGW_dict(base_prots[pair[0]], base_prots[pair[1]], alpha = 0.5,d = BLOSUM62_dict )), it.combinations(range(50),2))\n",
    "\n",
    "    # results = pool.imap(lambda pair: (pair[0], pair[1], FGW_protein.run_FGW_dict(base_prots[pair[0]], base_prots[pair[1]], alpha = 0.5,d = hydrophobicity_dict )), it.combinations(range(50),2))\n",
    "    for r in results:\n",
    "        i,j,d = r\n",
    "        FGW_BLOSUM62_dist_mat[i,j] = d\n",
    "        FGW_BLOSUM62_dist_mat[j,i] = d\n",
    "\n",
    "#6m\n",
    "# Note that these are not all metrics so may not satisfy the mathematical results"
   ]
  },
  {
   "cell_type": "code",
   "execution_count": null,
   "id": "f528af2d-4ce0-4b80-8778-c5c7bf960281",
   "metadata": {},
   "outputs": [],
   "source": [
    "%%time\n",
    "#We can also use user-inputted data\n",
    "eccentricity_lists = [p.get_eccentricity() for p in base_prots]\n",
    "FGW_eccentricity_dist_mat = np.zeros((50,50))\n",
    "\n",
    "with multiprocess.Pool() as pool:\n",
    "    results = pool.imap(lambda pair: (pair[0], pair[1], FGW_protein.run_FGW_data_lists(base_prots[pair[0]], \n",
    "                                                                                 base_prots[pair[1]], \n",
    "                                                                                 data1 = eccentricity_lists[pair[0]],                                                                                  data2 = eccentricity_lists[pair[1]],                                                                                  alpha = 0.5)), it.combinations(range(50),2))\n",
    "    for r in results:\n",
    "        i,j,d = r\n",
    "        FGW_eccentricity_dist_mat[i,j] = d\n",
    "        FGW_eccentricity_dist_mat[j,i] = d\n",
    "#5m 58s"
   ]
  },
  {
   "cell_type": "code",
   "execution_count": null,
   "id": "a3232df9-b0e2-4ef2-9b81-04f0c7a209d6",
   "metadata": {},
   "outputs": [],
   "source": [
    "display(FGW_eccentricity_dist_mat)\n"
   ]
  },
  {
   "cell_type": "code",
   "execution_count": null,
   "id": "72664c07-8bb9-4ab7-8fca-83289ff6f8b7",
   "metadata": {},
   "outputs": [],
   "source": [
    "import importlib\n",
    "importlib.reload(sys.modules['FGW_protein_pI'])"
   ]
  },
  {
   "cell_type": "code",
   "execution_count": null,
   "id": "25bcaeb0-d5f8-4475-8fc3-1a3f12e5fc30",
   "metadata": {},
   "outputs": [],
   "source": [
    "\n",
    "# FGW_protein_pI\n",
    "\n",
    "base_prots_pI = [FGW_protein_pI.make_protein_from_pdb(file) for file in decoys + rdrps]\n",
    "\n",
    "# cast to FGW_protein and show they're equal\n",
    "assert base_prots == [p.FGW_protein() for p in base_prots_pI]\n",
    "\n",
    "# compute FGW\n",
    "# sequence based-downsampling\n",
    "# uniform downsampling"
   ]
  },
  {
   "cell_type": "code",
   "execution_count": null,
   "id": "0b497fed-1b8b-4dd0-8a90-c4d226a1bae1",
   "metadata": {},
   "outputs": [],
   "source": [
    "compute_in_parallel(proteins=base_prots_pI, comparison_method= FGW_protein_pI.run_FGW, alpha = 0.5)"
   ]
  },
  {
   "cell_type": "code",
   "execution_count": null,
   "id": "cd840d16-35dc-4254-9fd7-d54a606ada9b",
   "metadata": {},
   "outputs": [],
   "source": [
    "FGW_downsampled = [p.downsample_n(100) for p in base_prots_pI]"
   ]
  },
  {
   "cell_type": "code",
   "execution_count": null,
   "id": "504b7b7a-097a-42e5-b10a-2fff83e1b8fc",
   "metadata": {},
   "outputs": [],
   "source": [
    "compute_in_parallel(proteins=FGW_downsampled, comparison_method= FGW_protein_pI.run_FGW, alpha = 0.5)"
   ]
  },
  {
   "cell_type": "code",
   "execution_count": null,
   "id": "0bf5bfe9-92bf-4cbc-8314-ced2b509751d",
   "metadata": {},
   "outputs": [],
   "source": [
    "compute_in_parallel(proteins=base_prots_pI, comparison_method= FGW_protein_pI.run_FGW_seq_aln, alpha = 1)"
   ]
  },
  {
   "cell_type": "code",
   "execution_count": null,
   "id": "e4840ec5-a5a9-4acf-ad8c-15b91f2fcf72",
   "metadata": {},
   "outputs": [],
   "source": [
    "compute_in_parallel(proteins=base_prots_pI, comparison_method= FGW_protein_pI.run_FGW_seq_aln, alpha = 0.5)"
   ]
  },
  {
   "cell_type": "code",
   "execution_count": null,
   "id": "421657fb-821e-4c82-bee5-269e44cc1f06",
   "metadata": {},
   "outputs": [],
   "source": [
    "%%time\n",
    "FGW_pI_dist_mat = np.zeros((50,50))\n",
    "\n",
    "with multiprocess.Pool() as pool:\n",
    "    results = pool.imap(lambda pair: (pair[0], pair[1], FGW_protein_pI.run_FGW(base_prots_pI[pair[0]], base_prots_pI[pair[1]], alpha = 0.5, )), it.combinations(range(50),2))\n",
    "\n",
    "    # results = pool.imap(lambda pair: (pair[0], pair[1], FGW_protein.run_FGW_dict(base_prots[pair[0]], base_prots[pair[1]], alpha = 0.5,d = hydrophobicity_dict )), it.combinations(range(50),2))\n",
    "    for r in results:\n",
    "        i,j,d = r\n",
    "        FGW_pI_dist_mat[i,j] = d\n",
    "        FGW_pI_dist_mat[j,i] = d\n",
    "#5m 51s"
   ]
  },
  {
   "cell_type": "code",
   "execution_count": null,
   "id": "aa5a636a-8d87-4d34-99ac-4c3334e7093d",
   "metadata": {},
   "outputs": [],
   "source": [
    "display_clustering(FGW_pI_dist_mat)\n",
    "show_silhouette_score(FGW_pI_dist_mat)\n",
    "show_davies_bouldin_score(FGW_pI_dist_mat)"
   ]
  },
  {
   "cell_type": "code",
   "execution_count": null,
   "id": "a023d390-7fa8-479d-8932-bbc42054f942",
   "metadata": {},
   "outputs": [],
   "source": [
    "%%time\n",
    "FGW_pI_downsampled_dist_mat = np.zeros((50,50))\n",
    "\n",
    "with multiprocess.Pool() as pool:\n",
    "    results = pool.imap(lambda pair: (pair[0], pair[1], FGW_protein_pI.run_FGW(FGW_downsampled[pair[0]], FGW_downsampled[pair[1]], alpha = 0.5, )), it.combinations(range(50),2))\n",
    "\n",
    "    for r in results:\n",
    "        i,j,d = r\n",
    "        FGW_pI_downsampled_dist_mat[i,j] = d\n",
    "        FGW_pI_downsampled_dist_mat[j,i] = d\n"
   ]
  },
  {
   "cell_type": "code",
   "execution_count": null,
   "id": "aaf7f6e5-6d7d-463a-a317-0a59e262792a",
   "metadata": {},
   "outputs": [],
   "source": [
    "display_clustering(FGW_pI_downsampled_dist_mat)\n",
    "show_silhouette_score(FGW_pI_downsampled_dist_mat)\n",
    "show_davies_bouldin_score(FGW_pI_downsampled_dist_mat)"
   ]
  },
  {
   "cell_type": "code",
   "execution_count": null,
   "id": "8ed2d32e-cd21-4392-9c96-b73e1f31d8ff",
   "metadata": {},
   "outputs": [],
   "source": [
    "%%time\n",
    "GW_seq_dist_mat = np.zeros((50,50))\n",
    "\n",
    "with multiprocess.Pool() as pool:\n",
    "    results = pool.imap(lambda pair: (pair[0], pair[1], FGW_protein_pI.run_FGW_seq_aln(base_prots_pI[pair[0]], base_prots_pI[pair[1]], alpha = 1, )), it.combinations(range(50),2))\n",
    "\n",
    "    for r in results:\n",
    "        i,j,d = r\n",
    "        GW_seq_dist_mat[i,j] = d\n",
    "        GW_seq_dist_mat[j,i] = d\n",
    "\n",
    "\n"
   ]
  },
  {
   "cell_type": "code",
   "execution_count": null,
   "id": "3eaee8f6-d4b0-4b1d-bf0f-1f4d49a6e4ac",
   "metadata": {},
   "outputs": [],
   "source": [
    "display_clustering(GW_seq_dist_mat)\n",
    "show_silhouette_score(GW_seq_dist_mat)\n",
    "show_davies_bouldin_score(GW_seq_dist_mat)"
   ]
  },
  {
   "cell_type": "code",
   "execution_count": null,
   "id": "068bec89-2b89-43eb-96ee-1b80329ee4e4",
   "metadata": {},
   "outputs": [],
   "source": [
    "%%time\n",
    "FGW_seq_dist_mat = np.zeros((50,50))\n",
    "\n",
    "with multiprocess.Pool() as pool:\n",
    "    results = pool.imap(lambda pair: (pair[0], pair[1], FGW_protein_pI.run_FGW_seq_aln(FGW_downsampled[pair[0]], FGW_downsampled[pair[1]], alpha = 0.5, )), it.combinations(range(50),2))\n",
    "\n",
    "    for r in results:\n",
    "        i,j,d = r\n",
    "        FGW_seq_dist_mat[i,j] = d\n",
    "        FGW_seq_dist_mat[j,i] = d\n",
    "\n",
    "\n"
   ]
  },
  {
   "cell_type": "code",
   "execution_count": null,
   "id": "38b639b0-54cd-47f7-afcc-1cff24ecbec7",
   "metadata": {},
   "outputs": [],
   "source": [
    "display_clustering(FGW_seq_dist_mat)\n",
    "show_silhouette_score(FGW_seq_dist_mat)\n",
    "show_davies_bouldin_score(FGW_seq_dist_mat)"
   ]
  },
  {
   "cell_type": "code",
   "execution_count": null,
   "id": "a3aeb6e0-8265-4dc2-906b-69e48893210d",
   "metadata": {},
   "outputs": [],
   "source": []
  },
  {
   "cell_type": "code",
   "execution_count": null,
   "id": "6b28bb18-cdcb-48ba-9322-36f9bc32754f",
   "metadata": {},
   "outputs": [],
   "source": []
  }
 ],
 "metadata": {
  "kernelspec": {
   "display_name": "Python 3 (ipykernel)",
   "language": "python",
   "name": "python3"
  },
  "language_info": {
   "codemirror_mode": {
    "name": "ipython",
    "version": 3
   },
   "file_extension": ".py",
   "mimetype": "text/x-python",
   "name": "python",
   "nbconvert_exporter": "python",
   "pygments_lexer": "ipython3",
   "version": "3.10.12"
  }
 },
 "nbformat": 4,
 "nbformat_minor": 5
}
