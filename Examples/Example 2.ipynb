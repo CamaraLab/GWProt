{
 "cells": [
  {
   "cell_type": "code",
   "execution_count": null,
   "id": "86789648-6b77-4383-9a7b-cb64797f22fe",
   "metadata": {},
   "outputs": [],
   "source": [
    "# this one should include downsampling, FGW_pI, downsampling by sequence....\n",
    "# we load a dataset of proteins and compare them in different ways\n",
    "# not sure the best way to easily assess accuracy here\n",
    "# maybe just a subset of the RDRP data, with just two clades"
   ]
  },
  {
   "cell_type": "code",
   "execution_count": null,
   "id": "23c44d9c-267f-49b5-9bd4-06dcc58f3f12",
   "metadata": {},
   "outputs": [],
   "source": [
    "dir = '../../Data/palmstrub'\n",
    "base_prots = [FGW_protein.FGW_protein.make_protein_from_pdb(file) for file in os.listdir(dir)]\n",
    "downsamped_100_prots = [p.downsample(n=100, inplace = False) for p in base_prots]\n",
    "scaled_prots = [p.scale_ipdm(inplace = False) for p in base_prots]\n",
    "\n",
    "\n",
    "downsampled_then_scaled_prots = [p.scale_ipdm(inplace = False) for p in downsamped_100_prots]\n",
    "scaled_then_downsampled_prots = [p.downsample(n=100, inplace = False) for p in scaled_prots]\n",
    "assert downsampled_then_scaled_prots == scaled_then_downsampled_prots"
   ]
  },
  {
   "cell_type": "code",
   "execution_count": null,
   "id": "d424ea7b-1156-4662-aa5e-8635fe3a83f0",
   "metadata": {},
   "outputs": [],
   "source": [
    "# compute GW\n",
    "# compute GW with cells\n",
    "# make cells then compute"
   ]
  },
  {
   "cell_type": "code",
   "execution_count": null,
   "id": "6778b16b-d5f0-4bcb-b2b2-8aca1002a393",
   "metadata": {},
   "outputs": [],
   "source": [
    "# next do FGW (no downsampling, no cells)\n",
    "# pI, blosom, user-inputed (grantham?) \n",
    "# Note that these are not all metrics so may not satisfy the mathematical results"
   ]
  },
  {
   "cell_type": "code",
   "execution_count": null,
   "id": "25bcaeb0-d5f8-4475-8fc3-1a3f12e5fc30",
   "metadata": {},
   "outputs": [],
   "source": [
    "# FGW_protein_pI\n",
    "\n",
    "base_prots_pI = [FGW_protein_pI.FGW_protein_pI.make_protein_from_pdb(file) for file in os.listdir(dir)]\n",
    "# cast to FGW_protein and show they're equal\n",
    "\n",
    "# compute FGW\n",
    "# sequence based-downsampling\n",
    "# uniform downsampling"
   ]
  }
 ],
 "metadata": {
  "kernelspec": {
   "display_name": "Python 3 (ipykernel)",
   "language": "python",
   "name": "python3"
  },
  "language_info": {
   "codemirror_mode": {
    "name": "ipython",
    "version": 3
   },
   "file_extension": ".py",
   "mimetype": "text/x-python",
   "name": "python",
   "nbconvert_exporter": "python",
   "pygments_lexer": "ipython3",
   "version": "3.10.12"
  }
 },
 "nbformat": 4,
 "nbformat_minor": 5
}
