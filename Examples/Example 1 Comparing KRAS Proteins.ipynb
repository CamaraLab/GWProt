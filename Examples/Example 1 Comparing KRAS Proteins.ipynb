{
 "cells": [
  {
   "cell_type": "markdown",
   "id": "51856e6c-9134-4e31-a1f5-8c0cf9cdcf5c",
   "metadata": {},
   "source": [
    "Example 1: Comparing KRAS Proteins\n",
    "===================================\n"
   ]
  },
  {
   "cell_type": "code",
   "execution_count": null,
   "id": "7e49045f-f77b-4704-a790-9046a263f43d",
   "metadata": {},
   "outputs": [],
   "source": [
    "import os\n",
    "os.environ['OPENBLAS_NUM_THREADS'] = '1' \n",
    "import numpy as np\n",
    "\n",
    "#from GW_prot import *\n",
    "\n",
    "\n",
    "import sys\n",
    "sys.path.insert(0,'../src')\n",
    "from FGW_protein import *"
   ]
  },
  {
   "cell_type": "markdown",
   "id": "ecb20a8a-74c2-460f-9bcb-3cbc2d8a7706",
   "metadata": {},
   "source": [
    "(This dataset has been curated as follows.....XXXXXX)"
   ]
  },
  {
   "cell_type": "code",
   "execution_count": 3,
   "id": "90428d13-4cd6-42e0-a3d3-e43d821be11d",
   "metadata": {},
   "outputs": [],
   "source": [
    "dir = \"../Examples/Examples Data/KRAS ends cut2/\""
   ]
  },
  {
   "cell_type": "markdown",
   "id": "eaece7d9-9500-4f70-aae3-2ef2ec47e65f",
   "metadata": {},
   "source": [
    "We start by creating FGW_protein objects for each KRAS protein."
   ]
  },
  {
   "cell_type": "code",
   "execution_count": 19,
   "id": "46330693-ceae-49e5-89a9-a446ba563a64",
   "metadata": {},
   "outputs": [],
   "source": [
    "# protein_list = [FGW_protein.make_protein_from_pdb(pdb_file = os.path.join(dir, file), chain_id= file[5])  for file in os.listdir(dir)]\n",
    "protein_list = [FGW_protein.make_protein_from_pdb(pdb_file = os.path.join(dir, file))  for file in os.listdir(dir)]"
   ]
  },
  {
   "cell_type": "markdown",
   "id": "487000e3-e28d-430c-80c7-dd5fbc1bda4c",
   "metadata": {},
   "source": [
    "We then initialize a `Stress_Comparison` object to compare these proteins using GW and their stresses.\n",
    "In this example we store the transport plans in RAM for simplicity. This will use roughly XXXX MB. "
   ]
  },
  {
   "cell_type": "code",
   "execution_count": 20,
   "id": "66d4f543-36a8-40fb-a728-7266428960aa",
   "metadata": {},
   "outputs": [],
   "source": [
    "import stress_comparison\n",
    "A = stress_comparison.Stress_Comparison(prot_list = protein_list, RAM =  True)"
   ]
  },
  {
   "cell_type": "markdown",
   "id": "fd8b699c-923d-42fb-b4a1-b9b489d9326c",
   "metadata": {},
   "source": [
    "We then run GW all-vs-all. On our computer with 16 parallel processes this take XXX seconds. With a single process it takes around XX seconds. If we set `RAM = False` the computation time takes about XXX as long as we need to write the data to files."
   ]
  },
  {
   "cell_type": "code",
   "execution_count": 21,
   "id": "fec80d8e-7031-4866-9a4e-5f4d6171c01e",
   "metadata": {},
   "outputs": [],
   "source": [
    "A.GW_compute_stresses(processes = 16)"
   ]
  },
  {
   "cell_type": "markdown",
   "id": "5e4a83ee-6686-47cc-88c1-ddfa867e105f",
   "metadata": {},
   "source": [
    "We can study how the conformation of KRAS changes depending on the ligand it is bound to. These PDB files contain KRAS bound to guanosine diphosphate (GDP) and those bound to guanosine triphosphate-analogues (GNP, GCP, GSP)."
   ]
  },
  {
   "cell_type": "code",
   "execution_count": 22,
   "id": "97fa0d43-3be9-40e4-806e-2a4847ea30f1",
   "metadata": {},
   "outputs": [],
   "source": [
    "ligand_list = ['GNP',  'GCP',  'GSP',  'GCP',  'GDP',  'GDP',  'GDP',  'GDP',  'GDP',  'GDP',  'GDP',  'GDP',  'GDP',  'GDP',  'GDP',  'GDP',  'GDP',  'GDP',  'GDP',  'GSP',  'GDP',  'GDP',  'GDP',  'GDP',  'GDP',  'GDP',  'GDP',  'GDP',  'GSP',  'GNP',  'GDP',  'GNP',  'GNP',  'GNP',  'GDP',  'GNP',  'GNP',  'GNP',  'GNP',  'GDP',  'GDP',  'GDP',  'GDP',  'GDP',  'GDP',  'GDP',  'GDP',  'GDP',  'GDP',  'GDP',  'GDP',  'GDP',  'GDP',  'GDP']"
   ]
  },
  {
   "cell_type": "markdown",
   "id": "75a0e1f2-b82a-4b79-b3af-87fdef92e01e",
   "metadata": {},
   "source": [
    "For this visual analysis, we will create a UMAP plot, with different colors corresponding to different ligands. "
   ]
  },
  {
   "cell_type": "code",
   "execution_count": 23,
   "id": "797aa20c-33fd-4be8-8ab9-55f374904200",
   "metadata": {},
   "outputs": [
    {
     "data": {
      "image/png": "[encoded data removed]",
      "text/plain": [
       "<Figure size 800x800 with 1 Axes>"
      ]
     },
     "metadata": {},
     "output_type": "display_data"
    }
   ],
   "source": [
    "from umap.umap_ import UMAP\n",
    "import matplotlib.pyplot as plt\n",
    "\n",
    "\n",
    "\n",
    "distance_matrix = A.get_GW_dmat()\n",
    "\n",
    "reducer = UMAP(metric = 'precomputed', random_state=1)\n",
    "\n",
    "embedding = reducer.fit_transform(distance_matrix)\n",
    "    \n",
    "        \n",
    "plt.figure(figsize=(8, 8))\n",
    "plt.scatter(embedding[:, 0], embedding[:, 1], c= ['red' if l == 'GDP' else 'blue' for l in ligand_list], s=5)\n",
    "# for i in range(52): \n",
    "#     plt.annotate(str(i), (embedding[i, 0], embedding[i, 1] + 0.05)) \n",
    "  \n",
    "plt.show()\n",
    "\n"
   ]
  },
  {
   "cell_type": "markdown",
   "id": "5fb0c006-8a7c-4363-8c87-a9f998bf5a4e",
   "metadata": {},
   "source": [
    "Next we use pymol to visualize the proteins and the stress levels of different residues in the proteins. \n",
    "`A.raw_stress_levels` contains the stresses of all the pairwise calculations, so we first average them for each protein."
   ]
  },
  {
   "cell_type": "code",
   "execution_count": 24,
   "id": "d97e2f23-21f2-4f03-bb7c-94766bd07b48",
   "metadata": {},
   "outputs": [],
   "source": [
    "avg_stresses_dict =  stress_comparison.normalize_stress_dict( A.raw_stress_dict)\n",
    "avg_stresses_list = [avg_stresses_dict[name] for name in A.name_list]"
   ]
  },
  {
   "cell_type": "code",
   "execution_count": 25,
   "id": "33a91c8d-4764-42eb-b2dc-ebe278eb6aeb",
   "metadata": {},
   "outputs": [],
   "source": [
    "pymol_protein_viewer.show_proteins_with_values(\n",
    "    infiles = [os.path.join(dir, file)  for file in os.listdir(dir)],     chain_ids = [ file[5]  for file in os.listdir(dir)],     data_lists = avg_stresses_list,     output_file = \"KRAS ends cut stresses.pse\")"
   ]
  },
  {
   "cell_type": "markdown",
   "id": "582d4f19-6748-4fe6-927c-29428b9615cb",
   "metadata": {},
   "source": [
    "The pymol file we generate can then be opened in a pymol GUI window.\n",
    "![Screenshot](Examples Data/Example 1 Outputs/KRAS stresses screenshot.pdf) \n",
    "\n",
    "For clarity we can also view a single protein at a time.\n",
    "\n"
   ]
  },
  {
   "cell_type": "markdown",
   "id": "5c3a2788-cbb0-4351-826b-5c16988155a7",
   "metadata": {},
   "source": [
    "Next we will test how well the stress levels can be used to predict the switch I and switch II regions. These regions do not have well-defined endpoints but we will choose to use residues 30-40 and 60-72 in the canonical indexing respectively. These protein do not contain all the residues so the switch regions are at indices 28-38 and 58-74 instead."
   ]
  },
  {
   "cell_type": "code",
   "execution_count": 27,
   "id": "08d16f5a-5104-4e6f-889f-96ebbf8134fe",
   "metadata": {},
   "outputs": [],
   "source": [
    "\n",
    "switch_regions_dict = {p.name : [ 1- int(i in range(28,39) or i in range(58,75)) for i in range(161)] for p in protein_list}\n",
    "\n",
    "avg_precision_dict = stress_comparison.get_AP_scores(avg_stresses_dict, switch_regions_dict)"
   ]
  },
  {
   "cell_type": "code",
   "execution_count": 28,
   "id": "32dfd537-b8da-4fd9-a299-9817eb39b840",
   "metadata": {},
   "outputs": [
    {
     "data": {
      "text/plain": [
       "{'3gft_A': 0.9668889534130874,\n",
       " '4dsn_A': 0.9693193838492158,\n",
       " '4dso_A': 0.9567030772451607,\n",
       " '4dst_A': 0.965842206288982,\n",
       " '4epr_A': 0.9668477274775755,\n",
       " '4ept_A': 0.9535714634075838,\n",
       " '4epv_A': 0.9688440413476281,\n",
       " '4epw_A': 0.9702027370407983,\n",
       " '4epx_A': 0.9677386400208486,\n",
       " '4epy_A': 0.9680468407888427,\n",
       " '4ldj_A': 0.9663632626501745,\n",
       " '4lpk_B': 0.97106365889409,\n",
       " '4obe_A': 0.9635456250756944,\n",
       " '4obe_B': 0.96842452956253,\n",
       " '4ql3_A': 0.9661178820791774,\n",
       " '4tq9_A': 0.9651585387796667,\n",
       " '4tq9_B': 0.9658636581018542,\n",
       " '4tqa_A': 0.9678516927021218,\n",
       " '4tqa_B': 0.9654132992186241,\n",
       " '5mla_A': 0.9572070987913182,\n",
       " '5mlb_A': 0.9539122446742481,\n",
       " '5mlb_C': 0.9542873837953065,\n",
       " '5mlb_E': 0.9526750742482961,\n",
       " '5mlb_G': 0.9539215162955939,\n",
       " '5o2s_A': 0.9539122446742481,\n",
       " '5o2s_C': 0.9542873837953065,\n",
       " '5o2s_E': 0.9526750742482961,\n",
       " '5o2s_G': 0.9539215162955939,\n",
       " '5o2t_A': 0.9572070987913182,\n",
       " '5ocg_A': 0.9659365209421029,\n",
       " '5tar_A': 0.949791507925561,\n",
       " '5ufe_A': 0.9486023702647237,\n",
       " '5ufq_A': 0.9730877429052439,\n",
       " '5ufq_B': 0.9747530000207154,\n",
       " '5uqw_A': 0.9570337068742342,\n",
       " '5usj_B': 0.9555940784100345,\n",
       " '5usj_C': 0.949356797303543,\n",
       " '5usj_E': 0.9521503384195256,\n",
       " '5usj_F': 0.9567361100909264,\n",
       " '5v71_A': 0.9693911994290905,\n",
       " '5v71_B': 0.9609893494157677,\n",
       " '5v71_C': 0.9643246971552872,\n",
       " '5v71_D': 0.9685658875585703,\n",
       " '5v71_E': 0.9647510609013156,\n",
       " '5v71_F': 0.9614449162428883,\n",
       " '5v9l_A': 0.9679046272470779,\n",
       " '5v9l_B': 0.9699968976390773,\n",
       " '5v9l_C': 0.9647551466034288,\n",
       " '5v9o_A': 0.9709715198994495,\n",
       " '5vp7_A': 0.9608288659966591,\n",
       " '5vp7_F': 0.9616422689101353,\n",
       " '5w22_A': 0.9623110927911228,\n",
       " '5w22_B': 0.9634636139678883,\n",
       " '5whd_A': 0.9756814467256757}"
      ]
     },
     "execution_count": 28,
     "metadata": {},
     "output_type": "execute_result"
    }
   ],
   "source": [
    "avg_precision_dict"
   ]
  },
  {
   "cell_type": "code",
   "execution_count": null,
   "id": "9b8b3dd2-4e77-4b51-8478-16f5c0551a50",
   "metadata": {},
   "outputs": [],
   "source": []
  }
 ],
 "metadata": {
  "kernelspec": {
   "display_name": "Python 3 (ipykernel)",
   "language": "python",
   "name": "python3"
  },
  "language_info": {
   "codemirror_mode": {
    "name": "ipython",
    "version": 3
   },
   "file_extension": ".py",
   "mimetype": "text/x-python",
   "name": "python",
   "nbconvert_exporter": "python",
   "pygments_lexer": "ipython3",
   "version": "3.10.12"
  }
 },
 "nbformat": 4,
 "nbformat_minor": 5
}
